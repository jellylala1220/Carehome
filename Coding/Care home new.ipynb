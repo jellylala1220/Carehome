{
 "cells": [
  {
   "cell_type": "code",
   "metadata": {
    "source_hash": "39dc2306",
    "execution_start": 1748494521129,
    "execution_millis": 2931,
    "execution_context_id": "a15ab8b0-77a9-4bd5-b016-edb7db1b92cf",
    "cell_id": "2faf951b229a4a63a7e2a26cee58b5db",
    "deepnote_cell_type": "code"
   },
   "source": [
    "pip "
   ],
   "block_group": "443b7e4cd17148819bb71d069a73a3a6",
   "execution_count": 42,
   "outputs": [
    {
     "name": "stdout",
     "text": "Collecting openpyxl\n  Downloading openpyxl-3.1.5-py2.py3-none-any.whl (250 kB)\n\u001B[2K     \u001B[90m━━━━━━━━━━━━━━━━━━━━━━━━━━━━━━━━━━━━━━\u001B[0m \u001B[32m250.9/250.9 kB\u001B[0m \u001B[31m27.7 MB/s\u001B[0m eta \u001B[36m0:00:00\u001B[0m\n\u001B[?25hCollecting et-xmlfile\n  Downloading et_xmlfile-2.0.0-py3-none-any.whl (18 kB)\nInstalling collected packages: et-xmlfile, openpyxl\nSuccessfully installed et-xmlfile-2.0.0 openpyxl-3.1.5\n\n\u001B[1m[\u001B[0m\u001B[34;49mnotice\u001B[0m\u001B[1;39;49m]\u001B[0m\u001B[39;49m A new release of pip is available: \u001B[0m\u001B[31;49m23.0.1\u001B[0m\u001B[39;49m -> \u001B[0m\u001B[32;49m25.1.1\u001B[0m\n\u001B[1m[\u001B[0m\u001B[34;49mnotice\u001B[0m\u001B[1;39;49m]\u001B[0m\u001B[39;49m To update, run: \u001B[0m\u001B[32;49mpip install --upgrade pip\u001B[0m\nNote: you may need to restart the kernel to use updated packages.\n",
     "output_type": "stream"
    }
   ],
   "outputs_reference": "dbtable:cell_outputs/b5c51f69-4763-49af-893f-6db268e68f51",
   "content_dependencies": null
  },
  {
   "cell_type": "code",
   "metadata": {
    "source_hash": "797f2a2",
    "execution_start": 1748496683521,
    "execution_millis": 1,
    "execution_context_id": "a15ab8b0-77a9-4bd5-b016-edb7db1b92cf",
    "cell_id": "cb5ba7e701704a0eaa66215eca87070e",
    "deepnote_cell_type": "code"
   },
   "source": [
    "import pandas as pd\n",
    "import plotly.graph_objects as go\n",
    "from plotly.subplots import make_subplots\n",
    "import plotly.io as pio\n",
    "import os"
   ],
   "block_group": "cb5ba7e701704a0eaa66215eca87070e",
   "execution_count": 123,
   "outputs": [],
   "outputs_reference": null,
   "content_dependencies": null
  },
  {
   "cell_type": "code",
   "metadata": {
    "source_hash": "a01189f0",
    "execution_start": 1748496687228,
    "execution_millis": 696,
    "execution_context_id": "a15ab8b0-77a9-4bd5-b016-edb7db1b92cf",
    "cell_id": "eba5ce0514b64b65b8f79267431ac6b4",
    "deepnote_cell_type": "code"
   },
   "source": [
    "# 设置 Plotly 模板，您可以根据需要调整\n",
    "pio.templates.default = \"plotly_white\"\n",
    "\n",
    "# --- 1. 加载数据 ---\n",
    "print(\"--- Loading Data ---\")\n",
    "file_path = 'New_Working_Data.xlsx'\n",
    "try:\n",
    "    df = pd.read_excel(file_path, parse_dates=['Date/Time'])\n",
    "    print(\"Excel file successfully loaded into DataFrame.\")\n",
    "    # display(df.head()) # Optional: display head\n",
    "    # display(df.info()) # Optional: display info\n",
    "except FileNotFoundError:\n",
    "    print(f\"Error: File not found at {file_path}\")\n",
    "    df = None\n",
    "except Exception as e:\n",
    "    print(f\"Error loading file: {e}\")\n",
    "    df = None"
   ],
   "block_group": "96ebfe1c6c7244b2b7a56d27b91c0906",
   "execution_count": 126,
   "outputs": [
    {
     "name": "stdout",
     "text": "--- Loading Data ---\nExcel file successfully loaded into DataFrame.\n",
     "output_type": "stream"
    }
   ],
   "outputs_reference": "dbtable:cell_outputs/f7c34439-8f96-4f17-98eb-54e92a507ee7",
   "content_dependencies": null
  },
  {
   "cell_type": "code",
   "metadata": {
    "source_hash": "e2faf46b",
    "execution_start": 1748496692056,
    "execution_millis": 26,
    "execution_context_id": "a15ab8b0-77a9-4bd5-b016-edb7db1b92cf",
    "cell_id": "35493e5b469144babb40a897a3940a9d",
    "deepnote_cell_type": "code"
   },
   "source": [
    "\n",
    "\n",
    "# Ensure DataFrame is loaded before proceeding\n",
    "if df is not None:\n",
    "    # --- 2. 清洗和预处理数据 ---\n",
    "    print(\"\\n--- Cleaning and Preprocessing Data ---\")\n",
    "    # Handle missing values\n",
    "    for col in df.columns:\n",
    "        if df[col].isnull().any():\n",
    "            if pd.api.types.is_numeric_dtype(df[col]):\n",
    "                if col == 'No of Beds':\n",
    "                    df[col].fillna(df[col].median(), inplace=True)\n",
    "                else:\n",
    "                    df[col].fillna(df[col].mean(), inplace=True)\n",
    "            else:\n",
    "                df[col].fillna(df[col].mode()[0], inplace=True)\n",
    "\n",
    "    # Handle inconsistencies in 'Care Home ID' and convert to string\n",
    "    df['Care Home ID'] = df['Care Home ID'].astype(str).str.strip()\n",
    "    # Create a cleaned version with only digits for robust filtering\n",
    "    df['Care Home ID_cleaned'] = df['Care Home ID'].str.replace(r'\\D+', '', regex=True)\n",
    "\n",
    "    # Handle outliers in 'No of Beds'\n",
    "    df = df[df['No of Beds'] >= 0].copy() # Use .copy() to avoid SettingWithCopyWarning\n",
    "\n",
    "    # Remove duplicate rows\n",
    "    initial_rows = len(df)\n",
    "    df.drop_duplicates(inplace=True)\n",
    "    duplicates_removed = initial_rows - len(df)\n",
    "    print(f\"Removed {duplicates_removed} duplicate rows.\")\n",
    "\n",
    "    # Feature Engineering from Date/Time\n",
    "    df['year'] = df['Date/Time'].dt.year.astype(int)\n",
    "    df['month'] = df['Date/Time'].dt.month.astype(int)\n",
    "    df['quarter'] = df['Date/Time'].dt.quarter.astype(int)\n",
    "    df['week'] = df['Date/Time'].dt.isocalendar().week.astype(int)\n",
    "\n",
    "\n",
    "    # Clinical Concern Conversion\n",
    "    df['Clinical_Concern_Num'] = df['Clinical concern?'].map({'No': 0, 'Yes': 1})\n",
    "    mode_value_concern = df['Clinical_Concern_Num'].mode()[0]\n",
    "    df['Clinical_Concern_Num'] = df['Clinical_Concern_Num'].fillna(mode_value_concern).astype(int)\n",
    "\n",
    "    # NEWS2 Score Categorization\n",
    "    def categorize_news2(score):\n",
    "        if pd.isna(score):\n",
    "            return -1\n",
    "        if score == 0:\n",
    "            return 0\n",
    "        elif 1 <= score <= 4:\n",
    "            return 1\n",
    "        elif 5 <= score <= 6:\n",
    "            return 2\n",
    "        elif score >= 7:\n",
    "            return 3\n",
    "        else:\n",
    "            return -1\n",
    "\n",
    "    df['NEWS2_Category'] = df['NEWS2 score'].apply(categorize_news2)\n",
    "\n",
    "    print(\"Data cleaning and preprocessing complete.\")\n",
    "    # display(df.head()) # Optional: display head\n",
    "    # display(df.info()) # Optional: display info"
   ],
   "block_group": "763f2b76708243409ed208782049793e",
   "execution_count": 129,
   "outputs": [
    {
     "name": "stdout",
     "text": "\n--- Cleaning and Preprocessing Data ---\nRemoved 23 duplicate rows.\nData cleaning and preprocessing complete.\n",
     "output_type": "stream"
    }
   ],
   "outputs_reference": "dbtable:cell_outputs/e2134710-6b7d-4dd6-a9dd-20ac5fe1d440",
   "content_dependencies": null
  },
  {
   "cell_type": "markdown",
   "metadata": {
    "formattedRanges": [],
    "cell_id": "a9ede5fa431547d6a7ec11941899075b",
    "deepnote_cell_type": "text-cell-h1"
   },
   "source": [
    "# Function for calculate, high=5"
   ],
   "block_group": "232d3658d56043f1b9ebe3a5d742dddb"
  },
  {
   "cell_type": "code",
   "metadata": {
    "source_hash": "5426adcd",
    "execution_start": 1748496751169,
    "execution_millis": 0,
    "execution_context_id": "a15ab8b0-77a9-4bd5-b016-edb7db1b92cf",
    "cell_id": "8ec9acc5f8d148c38a3fbc0a0a138c0f",
    "deepnote_cell_type": "code"
   },
   "source": [
    "# --- Define Analysis Functions (returning data) ---\n",
    "def combined_filter(df, care_home_id, interval, start_date, end_date):\n",
    "    df_filtered = df[df['Care Home ID_cleaned'] == str(care_home_id)].copy()\n",
    "    if start_date and end_date:\n",
    "        df_filtered = df_filtered[(df_filtered['Date/Time'] >= start_date) & (df_filtered['Date/Time'] <= end_date)].copy()\n",
    "    return df_filtered\n",
    "\n",
    "def usage_volume_over_time(df, care_home_id, interval='M', start_date=None, end_date=None):\n",
    "    df_filtered = combined_filter(df, care_home_id, interval, start_date, end_date)\n",
    "    if df_filtered.empty:\n",
    "        return pd.Series(dtype=int)\n",
    "    if interval == 'D':\n",
    "        grouped = df_filtered.groupby(df_filtered['Date/Time'].dt.to_period('D')).size()\n",
    "    elif interval == 'W':\n",
    "        grouped = df_filtered.groupby(df_filtered['Date/Time'].dt.to_period('W')).size()\n",
    "    elif interval == 'M':\n",
    "        grouped = df_filtered.groupby(df_filtered['Date/Time'].dt.to_period('M')).size()\n",
    "    elif interval == 'Q':\n",
    "        grouped = df_filtered.groupby(df_filtered['Date/Time'].dt.to_period('Q')).size()\n",
    "    elif interval == 'Y':\n",
    "        grouped = df_filtered.groupby(df_filtered['Date/Time'].dt.to_period('Y')).size()\n",
    "    else:\n",
    "        grouped = df_filtered.groupby(df_filtered['Date/Time'].dt.to_period('M')).size()\n",
    "    return grouped\n",
    "\n",
    "def usage_per_bed(df, care_home_id, interval='M', start_date=None, end_date=None):\n",
    "    usage_volume = usage_volume_over_time(df, care_home_id, interval, start_date, end_date)\n",
    "    if usage_volume.empty:\n",
    "        return pd.Series(dtype=float)\n",
    "    df_filtered = combined_filter(df, care_home_id, interval, start_date, end_date)\n",
    "    if df_filtered.empty:\n",
    "        return pd.Series(dtype=float)\n",
    "    if interval == 'D':\n",
    "        beds = df_filtered.groupby(df_filtered['Date/Time'].dt.to_period('D'))['No of Beds'].mean()\n",
    "    elif interval == 'W':\n",
    "        beds = df_filtered.groupby(df_filtered['Date/Time'].dt.to_period('W'))['No of Beds'].mean()\n",
    "    elif interval == 'M':\n",
    "        beds = df_filtered.groupby(df_filtered['Date/Time'].dt.to_period('M'))['No of Beds'].mean()\n",
    "    elif interval == 'Q':\n",
    "        beds = df_filtered.groupby(df_filtered['Date/Time'].dt.to_period('Q'))['No of Beds'].mean()\n",
    "    elif interval == 'Y':\n",
    "        beds = df_filtered.groupby(df_filtered['Date/Time'].dt.to_period('Y'))['No of Beds'].mean()\n",
    "    else:\n",
    "        beds = df_filtered.groupby(df_filtered['Date/Time'].dt.to_period('M'))['No of Beds'].mean()\n",
    "    usage_per_bed = usage_volume / beds\n",
    "    return usage_per_bed.replace([float('inf'), -float('inf')], 0).fillna(0)\n",
    "def observation_interval_quarter_avg(df, care_home_id, start_date=None, end_date=None):\n",
    "    \"\"\"\n",
    "    Calculates the average time interval (in days) between successive *observation days*\n",
    "    within each quarter for a given care home, considering intervals only within the quarter\n",
    "    and the first observation in a quarter has a 0 interval.\n",
    "    Includes quarters with no data, showing 0 interval.\n",
    "\n",
    "    Args:\n",
    "        df (pd.DataFrame): The input DataFrame.\n",
    "        care_home_id (str or int): The ID of the care home.\n",
    "        start_date (str or datetime, optional): The start date for filtering.\n",
    "        end_date (str or datetime, optional): The end date for filtering.\n",
    "\n",
    "    Returns:\n",
    "        pd.Series: A Series with all relevant quarters as the index and average intervals as values (0 for quarters with no data).\n",
    "                   Returns an empty Series if no overall time range can be determined.\n",
    "    \"\"\"\n",
    "    # Combined filtering using the cleaned ID\n",
    "    df_filtered = df[df['Care Home ID_cleaned'] == str(care_home_id)].copy()\n",
    "\n",
    "    if start_date and end_date:\n",
    "        df_filtered = df_filtered[(df_filtered['Date/Time'] >= pd.to_datetime(start_date)) & (df_filtered['Date/Time'] <= pd.to_datetime(end_date))].copy()\n",
    "    elif start_date:\n",
    "         df_filtered = df_filtered[df_filtered['Date/Time'] >= pd.to_datetime(start_date)].copy()\n",
    "    elif end_date:\n",
    "         df_filtered = df_filtered[df_filtered['Date/Time'] <= pd.to_datetime(end_date)].copy()\n",
    "\n",
    "\n",
    "    # Determine the overall time range to consider for quarters\n",
    "    min_date = None\n",
    "    max_date = None\n",
    "\n",
    "    if start_date:\n",
    "        min_date = pd.to_datetime(start_date)\n",
    "    elif not df.empty:\n",
    "        min_date = df['Date/Time'].min()\n",
    "\n",
    "    if end_date:\n",
    "        max_date = pd.to_datetime(end_date)\n",
    "    elif not df.empty:\n",
    "        max_date = df['Date/Time'].max()\n",
    "\n",
    "    if min_date is None or max_date is None:\n",
    "         print(\"Could not determine a valid date range for quarters.\")\n",
    "         return pd.Series(dtype='float64')\n",
    "\n",
    "    all_quarters = pd.period_range(start=min_date.to_period('Q'), end=max_date.to_period('Q'), freq='Q')\n",
    "\n",
    "\n",
    "    quarterly_avg_intervals = {}\n",
    "\n",
    "    # Iterate through each relevant quarter\n",
    "    for quarter in all_quarters:\n",
    "        # Get unique observation dates specifically within this quarter\n",
    "        quarter_start_date = quarter.start_time\n",
    "        quarter_end_date = quarter.end_time\n",
    "\n",
    "        unique_dates_in_quarter = df_filtered[(df_filtered['Date/Time'] >= quarter_start_date) &\n",
    "                                              (df_filtered['Date/Time'] <= quarter_end_date)]['Date/Time'].dt.date.unique()\n",
    "\n",
    "        unique_dates_in_quarter_sorted = pd.Series(pd.to_datetime(unique_dates_in_quarter)).sort_values()\n",
    "\n",
    "        observation_day_count = len(unique_dates_in_quarter_sorted)\n",
    "        total_intervals_sum = 0\n",
    "\n",
    "        if observation_day_count > 0:\n",
    "            # Add the initial 0 interval for the first observation day in the quarter\n",
    "            total_intervals_sum += 0\n",
    "\n",
    "            # Calculate intervals between successive observation days within the quarter\n",
    "            if observation_day_count >= 2:\n",
    "                date_differences_in_quarter = unique_dates_in_quarter_sorted.diff().dt.days.dropna()\n",
    "                total_intervals_sum += date_differences_in_quarter.sum()\n",
    "\n",
    "            # Calculate average for this quarter\n",
    "            # The divisor is the number of observation days\n",
    "            quarterly_avg_intervals[quarter] = total_intervals_sum / observation_day_count\n",
    "        else:\n",
    "            # If no observation days in the quarter, average interval is 0\n",
    "             quarterly_avg_intervals[quarter] = 0.0\n",
    "\n",
    "\n",
    "    # Convert the dictionary to a pandas Series, with all_quarters as index\n",
    "    result = pd.Series(quarterly_avg_intervals).reindex(all_quarters, fill_value=0.0)\n",
    "\n",
    "    return result\n",
    "\n",
    "# Fixing the AttributeError: 'SeriesGroupBy' object has no attribute 'dt'\n",
    "# Th issue arises because the `.dt` accessor is being used on a grouped Series object.\n",
    "# To fix this, we need to ensure that the operation is applied before grouping or adjust the logic accordingly.\n",
    "\n",
    "# Updated function: monthly_coverage_percentage\n",
    "def monthly_coverage_percentage(df, care_home_id, start_date=None, end_date=None):\n",
    "    \"\"\"\n",
    "    Calculates the monthly coverage percentage for a given care home,\n",
    "    defined as (Number of days with at least one observation / 30) * 100 %.\n",
    "    Includes months with no data, showing 0 coverage.\n",
    "\n",
    "    Args:\n",
    "        df (pd.DataFrame): The input DataFrame.\n",
    "        care_home_id (str or int): The ID of the care home.\n",
    "        start_date (str or datetime, optional): The start date for filtering.\n",
    "        end_date (str or datetime, optional): The end date for filtering.\n",
    "\n",
    "    Returns:\n",
    "        pd.Series: A Series with all relevant months as the index and coverage percentages as values (0 for months with no data).\n",
    "                   Returns an empty Series if no overall time range can be determined.\n",
    "    \"\"\"\n",
    "    # Use the combined_filter function as in your original code\n",
    "    df_filtered = combined_filter(df, care_home_id, interval=None, start_date=start_date, end_date=end_date)\n",
    "\n",
    "    # If filtered data is empty, we still need to determine the relevant months\n",
    "    if df_filtered.empty:\n",
    "        # Determine the overall time range based on original df or specified dates\n",
    "        min_date = pd.to_datetime(start_date) if start_date else (df['Date/Time'].min() if not df.empty else None)\n",
    "        max_date = pd.to_datetime(end_date) if end_date else (df['Date/Time'].max() if not df.empty else None)\n",
    "\n",
    "        if min_date is None or max_date is None:\n",
    "             print(\"Could not determine a valid date range for months.\")\n",
    "             return pd.Series(dtype='float64')\n",
    "\n",
    "        all_months = pd.period_range(start=min_date.to_period('M'), end=max_date.to_period('M'), freq='M')\n",
    "        # For months with no data, the coverage is 0\n",
    "        result = pd.Series(0.0, index=all_months)\n",
    "        return result\n",
    "\n",
    "    # Extract the date part before grouping\n",
    "    df_filtered['Date'] = df_filtered['Date/Time'].dt.date\n",
    "\n",
    "    # Group filtered data by month and count unique days with observations\n",
    "    monthly_observations = df_filtered.groupby(df_filtered['Date/Time'].dt.to_period('M'))['Date'].nunique()\n",
    "\n",
    "    # Get the full range of months relevant to the filtered data or specified dates\n",
    "    min_date_range = pd.to_datetime(start_date) if start_date else df_filtered['Date/Time'].min()\n",
    "    max_date_range = pd.to_datetime(end_date) if end_date else df_filtered['Date/Time'].max()\n",
    "    all_months = pd.period_range(start=min_date_range.to_period('M'), end=max_date_range.to_period('M'), freq='M')\n",
    "\n",
    "    # Create a Series with all relevant months as index\n",
    "    # Reindex monthly_observations to include all months in the range, filling missing with 0\n",
    "    monthly_observations_all_months = monthly_observations.reindex(all_months, fill_value=0)\n",
    "\n",
    "    # Calculate monthly coverage percentage with a fixed denominator of 30\n",
    "    coverage_percentage = (monthly_observations_all_months / 30) * 100\n",
    "\n",
    "    return coverage_percentage.fillna(0) # Fill potential NaN if any unexpected cases arise\n",
    "\n",
    "def news2_score_category_counts(df, care_home_id, interval='M', start_date=None, end_date=None):\n",
    "        df_filtered = combined_filter(df, care_home_id, interval, start_date, end_date)\n",
    "        if df_filtered.empty:\n",
    "            return pd.DataFrame()\n",
    "        if interval == 'M':\n",
    "             grouped = df_filtered.groupby([df_filtered['Date/Time'].dt.to_period('M'), 'NEWS2_Category']).size().unstack(fill_value=0)\n",
    "        else:\n",
    "            grouped = df_filtered.groupby([df_filtered['Date/Time'].dt.to_period('M'), 'NEWS2_Category']).size().unstack(fill_value=0)\n",
    "        grouped.columns = [f'NEWS2 Category {col}' for col in grouped.columns]\n",
    "        return grouped\n",
    "\n",
    "\n",
    "def high_news2_score_proportion(df, care_home_id, interval='M', start_date=None, end_date=None):\n",
    "        df_filtered = combined_filter(df, care_home_id, interval, start_date, end_date)\n",
    "        if df_filtered.empty:\n",
    "            return pd.DataFrame()\n",
    "        df_filtered['High_NEWS2_5'] = (df_filtered['NEWS2 score'] >= 5).astype(int)\n",
    "        df_filtered['High_NEWS2_7'] = (df_filtered['NEWS2 score'] >= 7).astype(int)\n",
    "        if interval == 'M':\n",
    "            grouped_sum = df_filtered.groupby(df_filtered['Date/Time'].dt.to_period('M'))[['High_NEWS2_5', 'High_NEWS2_7']].sum()\n",
    "            total_observations = df_filtered.groupby(df_filtered['Date/Time'].dt.to_period('M')).size()\n",
    "        else:\n",
    "             grouped_sum = df_filtered.groupby(df_filtered['Date/Time'].dt.to_period('M'))[['High_NEWS2_5', 'High_NEWS2_7']].sum()\n",
    "             total_observations = df_filtered.groupby(df_filtered['Date/Time'].dt.to_period('M')).size()\n",
    "\n",
    "        proportion_5 = (grouped_sum['High_NEWS2_5'] / total_observations) * 100\n",
    "        proportion_7 = (grouped_sum['High_NEWS2_7'] / total_observations) * 100\n",
    "        result = pd.DataFrame({'NEWS2 >= 5 (%)': proportion_5, 'NEWS2 >= 7 (%)': proportion_7})\n",
    "        return result.fillna(0)\n",
    "\n",
    "\n",
    "def clinical_concern_proportion(df, care_home_id, start_date=None, end_date=None):\n",
    "        df_filtered = combined_filter(df, care_home_id, interval=None, start_date=start_date, end_date=end_date)\n",
    "        if df_filtered.empty:\n",
    "            return 0.0\n",
    "        concern_count = df_filtered['Clinical_Concern_Num'].sum()\n",
    "        total_count = len(df_filtered)\n",
    "        if total_count == 0:\n",
    "            return 0.0\n",
    "        proportion = (concern_count / total_count) * 100\n",
    "        return proportion\n",
    "\n",
    "def staff_judgement_accuracy(df, care_home_id, interval='M', start_date=None, end_date=None):\n",
    "        df_filtered = combined_filter(df, care_home_id, interval, start_date, end_date)\n",
    "        if df_filtered.empty:\n",
    "            return pd.Series(dtype='float64')\n",
    "        df_concern_yes = df_filtered[df_filtered['Clinical_Concern_Num'] == 1].copy()\n",
    "        if df_concern_yes.empty:\n",
    "            return pd.Series(dtype='float64')\n",
    "        df_concern_yes['Accurate_Judgement'] = (df_concern_yes['NEWS2 score'] >= 5).astype(int)\n",
    "        if interval == 'M':\n",
    "            grouped_accurate = df_concern_yes.groupby(df_concern_yes['Date/Time'].dt.to_period('M'))['Accurate_Judgement'].sum()\n",
    "            grouped_total_concern_yes = df_filtered.groupby(df_filtered['Date/Time'].dt.to_period('M'))['Clinical_Concern_Num'].sum()\n",
    "        else:\n",
    "             grouped_accurate = df_concern_yes.groupby(df_concern_yes['Date/Time'].dt.to_period('M'))['Accurate_Judgement'].sum()\n",
    "             grouped_total_concern_yes = df_filtered.groupby(df_filtered['Date/Time'].dt.to_period('M'))['Clinical_Concern_Num'].sum()\n",
    "\n",
    "        accuracy = (grouped_accurate / grouped_total_concern_yes.reindex(grouped_accurate.index, fill_value=0)) * 100\n",
    "        return accuracy.replace([float('inf'), -float('inf')], 0).fillna(0)\n",
    "\n"
   ],
   "block_group": "8997a1d609114583aa2390659243ef29",
   "execution_count": 132,
   "outputs": [],
   "outputs_reference": null,
   "content_dependencies": null
  },
  {
   "cell_type": "code",
   "metadata": {
    "source_hash": "f804c160",
    "execution_start": 1748497576799,
    "execution_millis": 29,
    "execution_context_id": "a15ab8b0-77a9-4bd5-b016-edb7db1b92cf",
    "cell_id": "84523d18057e40329930730256dc61c2",
    "deepnote_cell_type": "code"
   },
   "source": [
    "df"
   ],
   "block_group": "197d4d72826d4dba8a03b5bb54dcb3cf",
   "execution_count": 168,
   "outputs": [
    {
     "output_type": "execute_result",
     "execution_count": 168,
     "data": {
      "application/vnd.deepnote.dataframe.v3+json": {
       "column_count": 45,
       "row_count": 1950,
       "columns": [
        {
         "name": "Date/Time",
         "dtype": "datetime64[ns]",
         "stats": {
          "unique_count": 1931,
          "nan_count": 0,
          "min": "2022-11-13 10:57:00",
          "max": "2025-03-26 19:31:00",
          "histogram": [
           {
            "bin_start": 1668337020000000000,
            "bin_end": 1675805064000000000,
            "count": 185
           },
           {
            "bin_start": 1675805064000000000,
            "bin_end": 1683273108000000000,
            "count": 104
           },
           {
            "bin_start": 1683273108000000000,
            "bin_end": 1690741152000000000,
            "count": 22
           },
           {
            "bin_start": 1690741152000000000,
            "bin_end": 1698209196000000000,
            "count": 153
           },
           {
            "bin_start": 1698209196000000000,
            "bin_end": 1705677240000000000,
            "count": 156
           },
           {
            "bin_start": 1705677240000000000,
            "bin_end": 1713145284000000000,
            "count": 183
           },
           {
            "bin_start": 1713145284000000000,
            "bin_end": 1720613328000000000,
            "count": 177
           },
           {
            "bin_start": 1720613328000000000,
            "bin_end": 1728081372000000000,
            "count": 185
           },
           {
            "bin_start": 1728081372000000000,
            "bin_end": 1735549416000000000,
            "count": 269
           },
           {
            "bin_start": 1735549416000000000,
            "bin_end": 1743017460000000000,
            "count": 516
           }
          ]
         }
        },
        {
         "name": "Care Home ID",
         "dtype": "object",
         "stats": {
          "unique_count": 33,
          "nan_count": 0,
          "categories": [
           {
            "name": "1023.0",
            "count": 295
           },
           {
            "name": "1008.0",
            "count": 263
           },
           {
            "name": "31 others",
            "count": 1392
           }
          ]
         }
        },
        {
         "name": "Care Home Name",
         "dtype": "object",
         "stats": {
          "unique_count": 31,
          "nan_count": 0,
          "categories": [
           {
            "name": "Goodwood orchard",
            "count": 296
           },
           {
            "name": "The Lodge Trust",
            "count": 263
           },
           {
            "name": "29 others",
            "count": 1391
           }
          ]
         }
        },
        {
         "name": "Type",
         "dtype": "object",
         "stats": {
          "unique_count": 3,
          "nan_count": 0,
          "categories": [
           {
            "name": "Residential",
            "count": 1561
           },
           {
            "name": "LD",
            "count": 329
           },
           {
            "name": "MH",
            "count": 60
           }
          ]
         }
        },
        {
         "name": "Area",
         "dtype": "object",
         "stats": {
          "unique_count": 3,
          "nan_count": 0,
          "categories": [
           {
            "name": "LC",
            "count": 1079
           },
           {
            "name": "Rutland",
            "count": 556
           },
           {
            "name": "LCC",
            "count": 315
           }
          ]
         }
        },
        {
         "name": "Phase",
         "dtype": "int64",
         "stats": {
          "unique_count": 2,
          "nan_count": 0,
          "min": "1",
          "max": "2",
          "histogram": [
           {
            "bin_start": 1,
            "bin_end": 1.1,
            "count": 820
           },
           {
            "bin_start": 1.1,
            "bin_end": 1.2,
            "count": 0
           },
           {
            "bin_start": 1.2,
            "bin_end": 1.3,
            "count": 0
           },
           {
            "bin_start": 1.3,
            "bin_end": 1.4,
            "count": 0
           },
           {
            "bin_start": 1.4,
            "bin_end": 1.5,
            "count": 0
           },
           {
            "bin_start": 1.5,
            "bin_end": 1.6,
            "count": 0
           },
           {
            "bin_start": 1.6,
            "bin_end": 1.7000000000000002,
            "count": 0
           },
           {
            "bin_start": 1.7000000000000002,
            "bin_end": 1.8,
            "count": 0
           },
           {
            "bin_start": 1.8,
            "bin_end": 1.9,
            "count": 0
           },
           {
            "bin_start": 1.9,
            "bin_end": 2,
            "count": 1130
           }
          ]
         }
        },
        {
         "name": "Postal address",
         "dtype": "object",
         "stats": {
          "unique_count": 28,
          "nan_count": 0,
          "categories": [
           {
            "name": "304, Uppingham Road, Leicester",
            "count": 332
           },
           {
            "name": "Main street, Market overton, Oakham",
            "count": 263
           },
           {
            "name": "26 others",
            "count": 1355
           }
          ]
         }
        },
        {
         "name": "Post Code",
         "dtype": "object",
         "stats": {
          "unique_count": 28,
          "nan_count": 0,
          "categories": [
           {
            "name": "LE5 2BE",
            "count": 332
           },
           {
            "name": "LE15 7PL",
            "count": 263
           },
           {
            "name": "26 others",
            "count": 1355
           }
          ]
         }
        },
        {
         "name": "GP",
         "dtype": "object",
         "stats": {
          "unique_count": 13,
          "nan_count": 0,
          "categories": [
           {
            "name": "0",
            "count": 982
           },
           {
            "name": "DR Shafi",
            "count": 241
           },
           {
            "name": "11 others",
            "count": 727
           }
          ]
         }
        },
        {
         "name": "GP Practice",
         "dtype": "object",
         "stats": {
          "unique_count": 13,
          "nan_count": 0,
          "categories": [
           {
            "name": "0",
            "count": 982
           },
           {
            "name": "DR Shafi",
            "count": 241
           },
           {
            "name": "11 others",
            "count": 727
           }
          ]
         }
        },
        {
         "name": "GP Postcode",
         "dtype": "object",
         "stats": {
          "unique_count": 15,
          "nan_count": 0,
          "categories": [
           {
            "name": "0",
            "count": 967
           },
           {
            "name": "2 Westcoates drive, leicester",
            "count": 241
           },
           {
            "name": "13 others",
            "count": 742
           }
          ]
         }
        },
        {
         "name": "Type of service",
         "dtype": "object",
         "stats": {
          "unique_count": 5,
          "nan_count": 0,
          "categories": [
           {
            "name": "Residential",
            "count": 1569
           },
           {
            "name": "Residential & LD",
            "count": 239
           },
           {
            "name": "3 others",
            "count": 142
           }
          ]
         }
        },
        {
         "name": "No of Beds",
         "dtype": "float64",
         "stats": {
          "unique_count": 23,
          "nan_count": 0,
          "min": "0.0",
          "max": "82.0",
          "histogram": [
           {
            "bin_start": 0,
            "bin_end": 8.2,
            "count": 318
           },
           {
            "bin_start": 8.2,
            "bin_end": 16.4,
            "count": 818
           },
           {
            "bin_start": 16.4,
            "bin_end": 24.599999999999998,
            "count": 156
           },
           {
            "bin_start": 24.599999999999998,
            "bin_end": 32.8,
            "count": 339
           },
           {
            "bin_start": 32.8,
            "bin_end": 41,
            "count": 34
           },
           {
            "bin_start": 41,
            "bin_end": 49.199999999999996,
            "count": 29
           },
           {
            "bin_start": 49.199999999999996,
            "bin_end": 57.39999999999999,
            "count": 0
           },
           {
            "bin_start": 57.39999999999999,
            "bin_end": 65.6,
            "count": 253
           },
           {
            "bin_start": 65.6,
            "bin_end": 73.8,
            "count": 0
           },
           {
            "bin_start": 73.8,
            "bin_end": 82,
            "count": 3
           }
          ]
         }
        },
        {
         "name": "Miles from THA - LE12 8FE",
         "dtype": "float64",
         "stats": {
          "unique_count": 17,
          "nan_count": 0,
          "min": "0.0",
          "max": "44.0",
          "histogram": [
           {
            "bin_start": 0,
            "bin_end": 4.4,
            "count": 5
           },
           {
            "bin_start": 4.4,
            "bin_end": 8.8,
            "count": 388
           },
           {
            "bin_start": 8.8,
            "bin_end": 13.200000000000001,
            "count": 822
           },
           {
            "bin_start": 13.200000000000001,
            "bin_end": 17.6,
            "count": 42
           },
           {
            "bin_start": 17.6,
            "bin_end": 22,
            "count": 540
           },
           {
            "bin_start": 22,
            "bin_end": 26.400000000000002,
            "count": 138
           },
           {
            "bin_start": 26.400000000000002,
            "bin_end": 30.800000000000004,
            "count": 0
           },
           {
            "bin_start": 30.800000000000004,
            "bin_end": 35.2,
            "count": 0
           },
           {
            "bin_start": 35.2,
            "bin_end": 39.6,
            "count": 0
           },
           {
            "bin_start": 39.6,
            "bin_end": 44,
            "count": 15
           }
          ]
         }
        },
        {
         "name": "Asset number",
         "dtype": "object",
         "stats": {
          "unique_count": 29,
          "nan_count": 0,
          "categories": [
           {
            "name": "A3083",
            "count": 332
           },
           {
            "name": "A3919",
            "count": 263
           },
           {
            "name": "27 others",
            "count": 1355
           }
          ]
         }
        },
        {
         "name": "Amount of Asset",
         "dtype": "int64",
         "stats": {
          "unique_count": 1,
          "nan_count": 0,
          "min": "1",
          "max": "1",
          "histogram": [
           {
            "bin_start": 0.5,
            "bin_end": 0.6,
            "count": 0
           },
           {
            "bin_start": 0.6,
            "bin_end": 0.7,
            "count": 0
           },
           {
            "bin_start": 0.7,
            "bin_end": 0.8,
            "count": 0
           },
           {
            "bin_start": 0.8,
            "bin_end": 0.9,
            "count": 0
           },
           {
            "bin_start": 0.9,
            "bin_end": 1,
            "count": 0
           },
           {
            "bin_start": 1,
            "bin_end": 1.1,
            "count": 1950
           },
           {
            "bin_start": 1.1,
            "bin_end": 1.2000000000000002,
            "count": 0
           },
           {
            "bin_start": 1.2000000000000002,
            "bin_end": 1.3,
            "count": 0
           },
           {
            "bin_start": 1.3,
            "bin_end": 1.4,
            "count": 0
           },
           {
            "bin_start": 1.4,
            "bin_end": 1.5,
            "count": 0
           }
          ]
         }
        },
        {
         "name": "Weekly fee",
         "dtype": "object",
         "stats": {
          "unique_count": 14,
          "nan_count": 0,
          "categories": [
           {
            "name": "0",
            "count": 940
           },
           {
            "name": "700",
            "count": 295
           },
           {
            "name": "12 others",
            "count": 715
           }
          ]
         }
        },
        {
         "name": "Provider company",
         "dtype": "object",
         "stats": {
          "unique_count": 28,
          "nan_count": 0,
          "categories": [
           {
            "name": "Helping Hand Care Home Ltd",
            "count": 332
           },
           {
            "name": "The lodge trust CIO",
            "count": 263
           },
           {
            "name": "26 others",
            "count": 1355
           }
          ]
         }
        },
        {
         "name": "Clinical concern?",
         "dtype": "object",
         "stats": {
          "unique_count": 2,
          "nan_count": 0,
          "categories": [
           {
            "name": "No",
            "count": 1270
           },
           {
            "name": "Yes",
            "count": 680
           }
          ]
         }
        },
        {
         "name": "NEWS2 score",
         "dtype": "int64",
         "stats": {
          "unique_count": 14,
          "nan_count": 0,
          "min": "0",
          "max": "13",
          "histogram": [
           {
            "bin_start": 0,
            "bin_end": 1.3,
            "count": 860
           },
           {
            "bin_start": 1.3,
            "bin_end": 2.6,
            "count": 344
           },
           {
            "bin_start": 2.6,
            "bin_end": 3.9000000000000004,
            "count": 266
           },
           {
            "bin_start": 3.9000000000000004,
            "bin_end": 5.2,
            "count": 293
           },
           {
            "bin_start": 5.2,
            "bin_end": 6.5,
            "count": 85
           },
           {
            "bin_start": 6.5,
            "bin_end": 7.800000000000001,
            "count": 53
           },
           {
            "bin_start": 7.800000000000001,
            "bin_end": 9.1,
            "count": 33
           },
           {
            "bin_start": 9.1,
            "bin_end": 10.4,
            "count": 11
           },
           {
            "bin_start": 10.4,
            "bin_end": 11.700000000000001,
            "count": 2
           },
           {
            "bin_start": 11.700000000000001,
            "bin_end": 13,
            "count": 3
           }
          ]
         }
        },
        {
         "name": "New2 Score_New",
         "dtype": "float64",
         "stats": {
          "unique_count": 15,
          "nan_count": 0,
          "min": "0.0",
          "max": "13.0",
          "histogram": [
           {
            "bin_start": 0,
            "bin_end": 1.3,
            "count": 752
           },
           {
            "bin_start": 1.3,
            "bin_end": 2.6,
            "count": 371
           },
           {
            "bin_start": 2.6,
            "bin_end": 3.9000000000000004,
            "count": 287
           },
           {
            "bin_start": 3.9000000000000004,
            "bin_end": 5.2,
            "count": 325
           },
           {
            "bin_start": 5.2,
            "bin_end": 6.5,
            "count": 96
           },
           {
            "bin_start": 6.5,
            "bin_end": 7.800000000000001,
            "count": 57
           },
           {
            "bin_start": 7.800000000000001,
            "bin_end": 9.1,
            "count": 39
           },
           {
            "bin_start": 9.1,
            "bin_end": 10.4,
            "count": 17
           },
           {
            "bin_start": 10.4,
            "bin_end": 11.700000000000001,
            "count": 3
           },
           {
            "bin_start": 11.700000000000001,
            "bin_end": 13,
            "count": 3
           }
          ]
         }
        },
        {
         "name": "H=I?",
         "dtype": "float64",
         "stats": {
          "unique_count": 3,
          "nan_count": 0,
          "min": "0.0",
          "max": "1.0",
          "histogram": [
           {
            "bin_start": 0,
            "bin_end": 0.1,
            "count": 370
           },
           {
            "bin_start": 0.1,
            "bin_end": 0.2,
            "count": 0
           },
           {
            "bin_start": 0.2,
            "bin_end": 0.30000000000000004,
            "count": 0
           },
           {
            "bin_start": 0.30000000000000004,
            "bin_end": 0.4,
            "count": 0
           },
           {
            "bin_start": 0.4,
            "bin_end": 0.5,
            "count": 0
           },
           {
            "bin_start": 0.5,
            "bin_end": 0.6000000000000001,
            "count": 0
           },
           {
            "bin_start": 0.6000000000000001,
            "bin_end": 0.7000000000000001,
            "count": 0
           },
           {
            "bin_start": 0.7000000000000001,
            "bin_end": 0.8,
            "count": 0
           },
           {
            "bin_start": 0.8,
            "bin_end": 0.9,
            "count": 1
           },
           {
            "bin_start": 0.9,
            "bin_end": 1,
            "count": 1579
           }
          ]
         }
        },
        {
         "name": "O2",
         "dtype": "int64",
         "stats": {
          "unique_count": 36,
          "nan_count": 0,
          "min": "51",
          "max": "100",
          "histogram": [
           {
            "bin_start": 51,
            "bin_end": 55.9,
            "count": 3
           },
           {
            "bin_start": 55.9,
            "bin_end": 60.8,
            "count": 2
           },
           {
            "bin_start": 60.8,
            "bin_end": 65.7,
            "count": 1
           },
           {
            "bin_start": 65.7,
            "bin_end": 70.6,
            "count": 3
           },
           {
            "bin_start": 70.6,
            "bin_end": 75.5,
            "count": 8
           },
           {
            "bin_start": 75.5,
            "bin_end": 80.4,
            "count": 15
           },
           {
            "bin_start": 80.4,
            "bin_end": 85.30000000000001,
            "count": 20
           },
           {
            "bin_start": 85.30000000000001,
            "bin_end": 90.2,
            "count": 89
           },
           {
            "bin_start": 90.2,
            "bin_end": 95.1,
            "count": 789
           },
           {
            "bin_start": 95.1,
            "bin_end": 100,
            "count": 1020
           }
          ]
         }
        },
        {
         "name": "O2_New",
         "dtype": "float64",
         "stats": {
          "unique_count": 5,
          "nan_count": 0,
          "min": "0.0",
          "max": "3.0",
          "histogram": [
           {
            "bin_start": 0,
            "bin_end": 0.3,
            "count": 1020
           },
           {
            "bin_start": 0.3,
            "bin_end": 0.6,
            "count": 0
           },
           {
            "bin_start": 0.6,
            "bin_end": 0.8999999999999999,
            "count": 1
           },
           {
            "bin_start": 0.8999999999999999,
            "bin_end": 1.2,
            "count": 467
           },
           {
            "bin_start": 1.2,
            "bin_end": 1.5,
            "count": 0
           },
           {
            "bin_start": 1.5,
            "bin_end": 1.7999999999999998,
            "count": 0
           },
           {
            "bin_start": 1.7999999999999998,
            "bin_end": 2.1,
            "count": 264
           },
           {
            "bin_start": 2.1,
            "bin_end": 2.4,
            "count": 0
           },
           {
            "bin_start": 2.4,
            "bin_end": 2.6999999999999997,
            "count": 0
           },
           {
            "bin_start": 2.6999999999999997,
            "bin_end": 3,
            "count": 198
           }
          ]
         }
        },
        {
         "name": "Systolic",
         "dtype": "int64",
         "stats": {
          "unique_count": 115,
          "nan_count": 0,
          "min": "73",
          "max": "209",
          "histogram": [
           {
            "bin_start": 73,
            "bin_end": 86.6,
            "count": 22
           },
           {
            "bin_start": 86.6,
            "bin_end": 100.2,
            "count": 137
           },
           {
            "bin_start": 100.2,
            "bin_end": 113.8,
            "count": 457
           },
           {
            "bin_start": 113.8,
            "bin_end": 127.4,
            "count": 550
           },
           {
            "bin_start": 127.4,
            "bin_end": 141,
            "count": 387
           },
           {
            "bin_start": 141,
            "bin_end": 154.6,
            "count": 249
           },
           {
            "bin_start": 154.6,
            "bin_end": 168.2,
            "count": 101
           },
           {
            "bin_start": 168.2,
            "bin_end": 181.8,
            "count": 34
           },
           {
            "bin_start": 181.8,
            "bin_end": 195.39999999999998,
            "count": 8
           },
           {
            "bin_start": 195.39999999999998,
            "bin_end": 209,
            "count": 5
           }
          ]
         }
        },
        {
         "name": "Systolic_New",
         "dtype": "float64",
         "stats": {
          "unique_count": 5,
          "nan_count": 0,
          "min": "0.0",
          "max": "3.0",
          "histogram": [
           {
            "bin_start": 0,
            "bin_end": 0.3,
            "count": 1456
           },
           {
            "bin_start": 0.3,
            "bin_end": 0.6,
            "count": 1
           },
           {
            "bin_start": 0.6,
            "bin_end": 0.8999999999999999,
            "count": 0
           },
           {
            "bin_start": 0.8999999999999999,
            "bin_end": 1.2,
            "count": 334
           },
           {
            "bin_start": 1.2,
            "bin_end": 1.5,
            "count": 0
           },
           {
            "bin_start": 1.5,
            "bin_end": 1.7999999999999998,
            "count": 0
           },
           {
            "bin_start": 1.7999999999999998,
            "bin_end": 2.1,
            "count": 122
           },
           {
            "bin_start": 2.1,
            "bin_end": 2.4,
            "count": 0
           },
           {
            "bin_start": 2.4,
            "bin_end": 2.6999999999999997,
            "count": 0
           },
           {
            "bin_start": 2.6999999999999997,
            "bin_end": 3,
            "count": 37
           }
          ]
         }
        },
        {
         "name": "Diasolic",
         "dtype": "int64",
         "stats": {
          "unique_count": 91,
          "nan_count": 0,
          "min": "0",
          "max": "155",
          "histogram": [
           {
            "bin_start": 0,
            "bin_end": 15.5,
            "count": 1
           },
           {
            "bin_start": 15.5,
            "bin_end": 31,
            "count": 0
           },
           {
            "bin_start": 31,
            "bin_end": 46.5,
            "count": 4
           },
           {
            "bin_start": 46.5,
            "bin_end": 62,
            "count": 169
           },
           {
            "bin_start": 62,
            "bin_end": 77.5,
            "count": 831
           },
           {
            "bin_start": 77.5,
            "bin_end": 93,
            "count": 660
           },
           {
            "bin_start": 93,
            "bin_end": 108.5,
            "count": 217
           },
           {
            "bin_start": 108.5,
            "bin_end": 124,
            "count": 51
           },
           {
            "bin_start": 124,
            "bin_end": 139.5,
            "count": 13
           },
           {
            "bin_start": 139.5,
            "bin_end": 155,
            "count": 4
           }
          ]
         }
        },
        {
         "name": "Pulse",
         "dtype": "int64",
         "stats": {
          "unique_count": 94,
          "nan_count": 0,
          "min": "0",
          "max": "960",
          "histogram": [
           {
            "bin_start": 0,
            "bin_end": 96,
            "count": 1733
           },
           {
            "bin_start": 96,
            "bin_end": 192,
            "count": 215
           },
           {
            "bin_start": 192,
            "bin_end": 288,
            "count": 0
           },
           {
            "bin_start": 288,
            "bin_end": 384,
            "count": 0
           },
           {
            "bin_start": 384,
            "bin_end": 480,
            "count": 0
           },
           {
            "bin_start": 480,
            "bin_end": 576,
            "count": 0
           },
           {
            "bin_start": 576,
            "bin_end": 672,
            "count": 0
           },
           {
            "bin_start": 672,
            "bin_end": 768,
            "count": 0
           },
           {
            "bin_start": 768,
            "bin_end": 864,
            "count": 1
           },
           {
            "bin_start": 864,
            "bin_end": 960,
            "count": 1
           }
          ]
         }
        },
        {
         "name": "Pulse_New",
         "dtype": "float64",
         "stats": {
          "unique_count": 5,
          "nan_count": 0,
          "min": "0.0",
          "max": "3.0",
          "histogram": [
           {
            "bin_start": 0,
            "bin_end": 0.3,
            "count": 1582
           },
           {
            "bin_start": 0.3,
            "bin_end": 0.6,
            "count": 0
           },
           {
            "bin_start": 0.6,
            "bin_end": 0.8999999999999999,
            "count": 0
           },
           {
            "bin_start": 0.8999999999999999,
            "bin_end": 1.2,
            "count": 298
           },
           {
            "bin_start": 1.2,
            "bin_end": 1.5,
            "count": 0
           },
           {
            "bin_start": 1.5,
            "bin_end": 1.7999999999999998,
            "count": 0
           },
           {
            "bin_start": 1.7999999999999998,
            "bin_end": 2.1,
            "count": 51
           },
           {
            "bin_start": 2.1,
            "bin_end": 2.4,
            "count": 0
           },
           {
            "bin_start": 2.4,
            "bin_end": 2.6999999999999997,
            "count": 0
           },
           {
            "bin_start": 2.6999999999999997,
            "bin_end": 3,
            "count": 19
           }
          ]
         }
        },
        {
         "name": "Temperature",
         "dtype": "float64",
         "stats": {
          "unique_count": 63,
          "nan_count": 0,
          "min": "32.3",
          "max": "39.5",
          "histogram": [
           {
            "bin_start": 32.3,
            "bin_end": 33.019999999999996,
            "count": 7
           },
           {
            "bin_start": 33.019999999999996,
            "bin_end": 33.739999999999995,
            "count": 14
           },
           {
            "bin_start": 33.739999999999995,
            "bin_end": 34.46,
            "count": 20
           },
           {
            "bin_start": 34.46,
            "bin_end": 35.18,
            "count": 44
           },
           {
            "bin_start": 35.18,
            "bin_end": 35.9,
            "count": 179
           },
           {
            "bin_start": 35.9,
            "bin_end": 36.62,
            "count": 1137
           },
           {
            "bin_start": 36.62,
            "bin_end": 37.339999999999996,
            "count": 501
           },
           {
            "bin_start": 37.339999999999996,
            "bin_end": 38.06,
            "count": 31
           },
           {
            "bin_start": 38.06,
            "bin_end": 38.78,
            "count": 7
           },
           {
            "bin_start": 38.78,
            "bin_end": 39.5,
            "count": 10
           }
          ]
         }
        },
        {
         "name": "Temperate_New",
         "dtype": "float64",
         "stats": {
          "unique_count": 5,
          "nan_count": 0,
          "min": "0.0",
          "max": "3.0",
          "histogram": [
           {
            "bin_start": 0,
            "bin_end": 0.3,
            "count": 1507
           },
           {
            "bin_start": 0.3,
            "bin_end": 0.6,
            "count": 1
           },
           {
            "bin_start": 0.6,
            "bin_end": 0.8999999999999999,
            "count": 0
           },
           {
            "bin_start": 0.8999999999999999,
            "bin_end": 1.2,
            "count": 12
           },
           {
            "bin_start": 1.2,
            "bin_end": 1.5,
            "count": 0
           },
           {
            "bin_start": 1.5,
            "bin_end": 1.7999999999999998,
            "count": 0
           },
           {
            "bin_start": 1.7999999999999998,
            "bin_end": 2.1,
            "count": 346
           },
           {
            "bin_start": 2.1,
            "bin_end": 2.4,
            "count": 0
           },
           {
            "bin_start": 2.4,
            "bin_end": 2.6999999999999997,
            "count": 0
           },
           {
            "bin_start": 2.6999999999999997,
            "bin_end": 3,
            "count": 84
           }
          ]
         }
        },
        {
         "name": "Respiration rate",
         "dtype": "int64",
         "stats": {
          "unique_count": 80,
          "nan_count": 0,
          "min": "6",
          "max": "99",
          "histogram": [
           {
            "bin_start": 6,
            "bin_end": 15.3,
            "count": 199
           },
           {
            "bin_start": 15.3,
            "bin_end": 24.6,
            "count": 1579
           },
           {
            "bin_start": 24.6,
            "bin_end": 33.900000000000006,
            "count": 62
           },
           {
            "bin_start": 33.900000000000006,
            "bin_end": 43.2,
            "count": 9
           },
           {
            "bin_start": 43.2,
            "bin_end": 52.5,
            "count": 9
           },
           {
            "bin_start": 52.5,
            "bin_end": 61.800000000000004,
            "count": 14
           },
           {
            "bin_start": 61.800000000000004,
            "bin_end": 71.10000000000001,
            "count": 24
           },
           {
            "bin_start": 71.10000000000001,
            "bin_end": 80.4,
            "count": 19
           },
           {
            "bin_start": 80.4,
            "bin_end": 89.7,
            "count": 18
           },
           {
            "bin_start": 89.7,
            "bin_end": 99,
            "count": 17
           }
          ]
         }
        },
        {
         "name": "Respiraties_New",
         "dtype": "int64",
         "stats": {
          "unique_count": 3,
          "nan_count": 0,
          "min": "0",
          "max": "3",
          "histogram": [
           {
            "bin_start": 0,
            "bin_end": 0.3,
            "count": 1546
           },
           {
            "bin_start": 0.3,
            "bin_end": 0.6,
            "count": 0
           },
           {
            "bin_start": 0.6,
            "bin_end": 0.8999999999999999,
            "count": 0
           },
           {
            "bin_start": 0.8999999999999999,
            "bin_end": 1.2,
            "count": 0
           },
           {
            "bin_start": 1.2,
            "bin_end": 1.5,
            "count": 0
           },
           {
            "bin_start": 1.5,
            "bin_end": 1.7999999999999998,
            "count": 0
           },
           {
            "bin_start": 1.7999999999999998,
            "bin_end": 2.1,
            "count": 230
           },
           {
            "bin_start": 2.1,
            "bin_end": 2.4,
            "count": 0
           },
           {
            "bin_start": 2.4,
            "bin_end": 2.6999999999999997,
            "count": 0
           },
           {
            "bin_start": 2.6999999999999997,
            "bin_end": 3,
            "count": 174
           }
          ]
         }
        },
        {
         "name": "O2 delivery",
         "dtype": "object",
         "stats": {
          "unique_count": 3,
          "nan_count": 0,
          "categories": [
           {
            "name": "Breathing Air",
            "count": 1942
           },
           {
            "name": "Nasal Cannula",
            "count": 5
           },
           {
            "name": "Other",
            "count": 3
           }
          ]
         }
        },
        {
         "name": "O2 Delivery_New",
         "dtype": "int64",
         "stats": {
          "unique_count": 2,
          "nan_count": 0,
          "min": "0",
          "max": "2",
          "histogram": [
           {
            "bin_start": 0,
            "bin_end": 0.2,
            "count": 1942
           },
           {
            "bin_start": 0.2,
            "bin_end": 0.4,
            "count": 0
           },
           {
            "bin_start": 0.4,
            "bin_end": 0.6000000000000001,
            "count": 0
           },
           {
            "bin_start": 0.6000000000000001,
            "bin_end": 0.8,
            "count": 0
           },
           {
            "bin_start": 0.8,
            "bin_end": 1,
            "count": 0
           },
           {
            "bin_start": 1,
            "bin_end": 1.2000000000000002,
            "count": 0
           },
           {
            "bin_start": 1.2000000000000002,
            "bin_end": 1.4000000000000001,
            "count": 0
           },
           {
            "bin_start": 1.4000000000000001,
            "bin_end": 1.6,
            "count": 0
           },
           {
            "bin_start": 1.6,
            "bin_end": 1.8,
            "count": 0
           },
           {
            "bin_start": 1.8,
            "bin_end": 2,
            "count": 8
           }
          ]
         }
        },
        {
         "name": "Consciousness",
         "dtype": "object",
         "stats": {
          "unique_count": 5,
          "nan_count": 0,
          "categories": [
           {
            "name": "Alert",
            "count": 1870
           },
           {
            "name": "Confusion",
            "count": 41
           },
           {
            "name": "3 others",
            "count": 39
           }
          ]
         }
        },
        {
         "name": "Consciouness New",
         "dtype": "int64",
         "stats": {
          "unique_count": 2,
          "nan_count": 0,
          "min": "0",
          "max": "3",
          "histogram": [
           {
            "bin_start": 0,
            "bin_end": 0.3,
            "count": 1870
           },
           {
            "bin_start": 0.3,
            "bin_end": 0.6,
            "count": 0
           },
           {
            "bin_start": 0.6,
            "bin_end": 0.8999999999999999,
            "count": 0
           },
           {
            "bin_start": 0.8999999999999999,
            "bin_end": 1.2,
            "count": 0
           },
           {
            "bin_start": 1.2,
            "bin_end": 1.5,
            "count": 0
           },
           {
            "bin_start": 1.5,
            "bin_end": 1.7999999999999998,
            "count": 0
           },
           {
            "bin_start": 1.7999999999999998,
            "bin_end": 2.1,
            "count": 0
           },
           {
            "bin_start": 2.1,
            "bin_end": 2.4,
            "count": 0
           },
           {
            "bin_start": 2.4,
            "bin_end": 2.6999999999999997,
            "count": 0
           },
           {
            "bin_start": 2.6999999999999997,
            "bin_end": 3,
            "count": 80
           }
          ]
         }
        },
        {
         "name": "Scale 2 in use?",
         "dtype": "int64",
         "stats": {
          "unique_count": 1,
          "nan_count": 0,
          "min": "0",
          "max": "0",
          "histogram": [
           {
            "bin_start": -0.5,
            "bin_end": -0.4,
            "count": 0
           },
           {
            "bin_start": -0.4,
            "bin_end": -0.3,
            "count": 0
           },
           {
            "bin_start": -0.3,
            "bin_end": -0.19999999999999996,
            "count": 0
           },
           {
            "bin_start": -0.19999999999999996,
            "bin_end": -0.09999999999999998,
            "count": 0
           },
           {
            "bin_start": -0.09999999999999998,
            "bin_end": 0,
            "count": 0
           },
           {
            "bin_start": 0,
            "bin_end": 0.10000000000000009,
            "count": 1950
           },
           {
            "bin_start": 0.10000000000000009,
            "bin_end": 0.20000000000000007,
            "count": 0
           },
           {
            "bin_start": 0.20000000000000007,
            "bin_end": 0.30000000000000004,
            "count": 0
           },
           {
            "bin_start": 0.30000000000000004,
            "bin_end": 0.4,
            "count": 0
           },
           {
            "bin_start": 0.4,
            "bin_end": 0.5,
            "count": 0
           }
          ]
         }
        },
        {
         "name": "Care Home ID_cleaned",
         "dtype": "object",
         "stats": {
          "unique_count": 33,
          "nan_count": 0,
          "categories": [
           {
            "name": "10230",
            "count": 295
           },
           {
            "name": "10080",
            "count": 263
           },
           {
            "name": "31 others",
            "count": 1392
           }
          ]
         }
        },
        {
         "name": "year",
         "dtype": "int64",
         "stats": {
          "unique_count": 4,
          "nan_count": 0,
          "min": "2022",
          "max": "2025",
          "histogram": [
           {
            "bin_start": 2022,
            "bin_end": 2022.3,
            "count": 116
           },
           {
            "bin_start": 2022.3,
            "bin_end": 2022.6,
            "count": 0
           },
           {
            "bin_start": 2022.6,
            "bin_end": 2022.9,
            "count": 0
           },
           {
            "bin_start": 2022.9,
            "bin_end": 2023.2,
            "count": 469
           },
           {
            "bin_start": 2023.2,
            "bin_end": 2023.5,
            "count": 0
           },
           {
            "bin_start": 2023.5,
            "bin_end": 2023.8,
            "count": 0
           },
           {
            "bin_start": 2023.8,
            "bin_end": 2024.1,
            "count": 859
           },
           {
            "bin_start": 2024.1,
            "bin_end": 2024.4,
            "count": 0
           },
           {
            "bin_start": 2024.4,
            "bin_end": 2024.7,
            "count": 0
           },
           {
            "bin_start": 2024.7,
            "bin_end": 2025,
            "count": 506
           }
          ]
         }
        },
        {
         "name": "month",
         "dtype": "int64",
         "stats": {
          "unique_count": 12,
          "nan_count": 0,
          "min": "1",
          "max": "12",
          "histogram": [
           {
            "bin_start": 1,
            "bin_end": 2.1,
            "count": 487
           },
           {
            "bin_start": 2.1,
            "bin_end": 3.2,
            "count": 317
           },
           {
            "bin_start": 3.2,
            "bin_end": 4.300000000000001,
            "count": 112
           },
           {
            "bin_start": 4.300000000000001,
            "bin_end": 5.4,
            "count": 55
           },
           {
            "bin_start": 5.4,
            "bin_end": 6.5,
            "count": 91
           },
           {
            "bin_start": 6.5,
            "bin_end": 7.6000000000000005,
            "count": 51
           },
           {
            "bin_start": 7.6000000000000005,
            "bin_end": 8.700000000000001,
            "count": 105
           },
           {
            "bin_start": 8.700000000000001,
            "bin_end": 9.8,
            "count": 121
           },
           {
            "bin_start": 9.8,
            "bin_end": 10.9,
            "count": 150
           },
           {
            "bin_start": 10.9,
            "bin_end": 12,
            "count": 461
           }
          ]
         }
        },
        {
         "name": "quarter",
         "dtype": "int64",
         "stats": {
          "unique_count": 4,
          "nan_count": 0,
          "min": "1",
          "max": "4",
          "histogram": [
           {
            "bin_start": 1,
            "bin_end": 1.3,
            "count": 804
           },
           {
            "bin_start": 1.3,
            "bin_end": 1.6,
            "count": 0
           },
           {
            "bin_start": 1.6,
            "bin_end": 1.9,
            "count": 0
           },
           {
            "bin_start": 1.9,
            "bin_end": 2.2,
            "count": 258
           },
           {
            "bin_start": 2.2,
            "bin_end": 2.5,
            "count": 0
           },
           {
            "bin_start": 2.5,
            "bin_end": 2.8,
            "count": 0
           },
           {
            "bin_start": 2.8,
            "bin_end": 3.1,
            "count": 277
           },
           {
            "bin_start": 3.1,
            "bin_end": 3.4,
            "count": 0
           },
           {
            "bin_start": 3.4,
            "bin_end": 3.6999999999999997,
            "count": 0
           },
           {
            "bin_start": 3.6999999999999997,
            "bin_end": 4,
            "count": 611
           }
          ]
         }
        },
        {
         "name": "week",
         "dtype": "int64",
         "stats": {
          "unique_count": 52,
          "nan_count": 0,
          "min": "1",
          "max": "52",
          "histogram": [
           {
            "bin_start": 1,
            "bin_end": 6.1,
            "count": 402
           },
           {
            "bin_start": 6.1,
            "bin_end": 11.2,
            "count": 309
           },
           {
            "bin_start": 11.2,
            "bin_end": 16.299999999999997,
            "count": 202
           },
           {
            "bin_start": 16.299999999999997,
            "bin_end": 21.4,
            "count": 67
           },
           {
            "bin_start": 21.4,
            "bin_end": 26.5,
            "count": 92
           },
           {
            "bin_start": 26.5,
            "bin_end": 31.599999999999998,
            "count": 88
           },
           {
            "bin_start": 31.599999999999998,
            "bin_end": 36.699999999999996,
            "count": 154
           },
           {
            "bin_start": 36.699999999999996,
            "bin_end": 41.8,
            "count": 152
           },
           {
            "bin_start": 41.8,
            "bin_end": 46.9,
            "count": 147
           },
           {
            "bin_start": 46.9,
            "bin_end": 52,
            "count": 337
           }
          ]
         }
        },
        {
         "name": "Clinical_Concern_Num",
         "dtype": "int64",
         "stats": {
          "unique_count": 2,
          "nan_count": 0,
          "min": "0",
          "max": "1",
          "histogram": [
           {
            "bin_start": 0,
            "bin_end": 0.1,
            "count": 1270
           },
           {
            "bin_start": 0.1,
            "bin_end": 0.2,
            "count": 0
           },
           {
            "bin_start": 0.2,
            "bin_end": 0.30000000000000004,
            "count": 0
           },
           {
            "bin_start": 0.30000000000000004,
            "bin_end": 0.4,
            "count": 0
           },
           {
            "bin_start": 0.4,
            "bin_end": 0.5,
            "count": 0
           },
           {
            "bin_start": 0.5,
            "bin_end": 0.6000000000000001,
            "count": 0
           },
           {
            "bin_start": 0.6000000000000001,
            "bin_end": 0.7000000000000001,
            "count": 0
           },
           {
            "bin_start": 0.7000000000000001,
            "bin_end": 0.8,
            "count": 0
           },
           {
            "bin_start": 0.8,
            "bin_end": 0.9,
            "count": 0
           },
           {
            "bin_start": 0.9,
            "bin_end": 1,
            "count": 680
           }
          ]
         }
        },
        {
         "name": "NEWS2_Category",
         "dtype": "int64",
         "stats": {
          "unique_count": 4,
          "nan_count": 0,
          "min": "0",
          "max": "3",
          "histogram": [
           {
            "bin_start": 0,
            "bin_end": 0.3,
            "count": 413
           },
           {
            "bin_start": 0.3,
            "bin_end": 0.6,
            "count": 0
           },
           {
            "bin_start": 0.6,
            "bin_end": 0.8999999999999999,
            "count": 0
           },
           {
            "bin_start": 0.8999999999999999,
            "bin_end": 1.2,
            "count": 1231
           },
           {
            "bin_start": 1.2,
            "bin_end": 1.5,
            "count": 0
           },
           {
            "bin_start": 1.5,
            "bin_end": 1.7999999999999998,
            "count": 0
           },
           {
            "bin_start": 1.7999999999999998,
            "bin_end": 2.1,
            "count": 204
           },
           {
            "bin_start": 2.1,
            "bin_end": 2.4,
            "count": 0
           },
           {
            "bin_start": 2.4,
            "bin_end": 2.6999999999999997,
            "count": 0
           },
           {
            "bin_start": 2.6999999999999997,
            "bin_end": 3,
            "count": 102
           }
          ]
         }
        },
        {
         "name": "_deepnote_index_column",
         "dtype": "int64"
        }
       ],
       "rows": [
        {
         "Date/Time": "2022-11-13 10:57:00",
         "Care Home ID": "1031.0",
         "Care Home Name": "Harvey House",
         "Type": "Residential",
         "Area": "LC",
         "Phase": 1,
         "Postal address": "Church lane, Barwell, leicester",
         "Post Code": "LE9 8DG",
         "GP": "0",
         "GP Practice": "0",
         "GP Postcode": "0",
         "Type of service": "Residential",
         "No of Beds": 44,
         "Miles from THA - LE12 8FE": 15,
         "Asset number": "A3091",
         "Amount of Asset": 1,
         "Weekly fee": "0",
         "Provider company": "Lccl",
         "Clinical concern?": "Yes",
         "NEWS2 score": 6,
         "New2 Score_New": 6,
         "H=I?": 1,
         "O2": 93,
         "O2_New": 2,
         "Systolic": 98,
         "Systolic_New": 2,
         "Diasolic": 60,
         "Pulse": 69,
         "Pulse_New": 0,
         "Temperature": 36.4,
         "Temperate_New": 0,
         "Respiration rate": 21,
         "Respiraties_New": 2,
         "O2 delivery": "Breathing Air",
         "O2 Delivery_New": 0,
         "Consciousness": "Alert",
         "Consciouness New": 0,
         "Scale 2 in use?": 0,
         "Care Home ID_cleaned": "10310",
         "year": 2022,
         "month": 11,
         "quarter": 4,
         "week": 45,
         "Clinical_Concern_Num": 1,
         "NEWS2_Category": 2,
         "_deepnote_index_column": 0
        },
        {
         "Date/Time": "2022-11-13 11:15:00",
         "Care Home ID": "1031.0",
         "Care Home Name": "Harvey House",
         "Type": "Residential",
         "Area": "LC",
         "Phase": 1,
         "Postal address": "Church lane, Barwell, leicester",
         "Post Code": "LE9 8DG",
         "GP": "0",
         "GP Practice": "0",
         "GP Postcode": "0",
         "Type of service": "Residential",
         "No of Beds": 44,
         "Miles from THA - LE12 8FE": 15,
         "Asset number": "A3091",
         "Amount of Asset": 1,
         "Weekly fee": "0",
         "Provider company": "Lccl",
         "Clinical concern?": "No",
         "NEWS2 score": 3,
         "New2 Score_New": 3,
         "H=I?": 1,
         "O2": 96,
         "O2_New": 0,
         "Systolic": 141,
         "Systolic_New": 0,
         "Diasolic": 88,
         "Pulse": 101,
         "Pulse_New": 1,
         "Temperature": 36.9,
         "Temperate_New": 0,
         "Respiration rate": 24,
         "Respiraties_New": 2,
         "O2 delivery": "Breathing Air",
         "O2 Delivery_New": 0,
         "Consciousness": "Alert",
         "Consciouness New": 0,
         "Scale 2 in use?": 0,
         "Care Home ID_cleaned": "10310",
         "year": 2022,
         "month": 11,
         "quarter": 4,
         "week": 45,
         "Clinical_Concern_Num": 0,
         "NEWS2_Category": 1,
         "_deepnote_index_column": 1
        },
        {
         "Date/Time": "2022-11-13 11:33:00",
         "Care Home ID": "1031.0",
         "Care Home Name": "Harvey House",
         "Type": "Residential",
         "Area": "LC",
         "Phase": 1,
         "Postal address": "Church lane, Barwell, leicester",
         "Post Code": "LE9 8DG",
         "GP": "0",
         "GP Practice": "0",
         "GP Postcode": "0",
         "Type of service": "Residential",
         "No of Beds": 44,
         "Miles from THA - LE12 8FE": 15,
         "Asset number": "A3091",
         "Amount of Asset": 1,
         "Weekly fee": "0",
         "Provider company": "Lccl",
         "Clinical concern?": "Yes",
         "NEWS2 score": 5,
         "New2 Score_New": 5,
         "H=I?": 1,
         "O2": 92,
         "O2_New": 2,
         "Systolic": 121,
         "Systolic_New": 0,
         "Diasolic": 66,
         "Pulse": 63,
         "Pulse_New": 0,
         "Temperature": 36.7,
         "Temperate_New": 0,
         "Respiration rate": 34,
         "Respiraties_New": 3,
         "O2 delivery": "Breathing Air",
         "O2 Delivery_New": 0,
         "Consciousness": "Alert",
         "Consciouness New": 0,
         "Scale 2 in use?": 0,
         "Care Home ID_cleaned": "10310",
         "year": 2022,
         "month": 11,
         "quarter": 4,
         "week": 45,
         "Clinical_Concern_Num": 1,
         "NEWS2_Category": 2,
         "_deepnote_index_column": 2
        },
        {
         "Date/Time": "2022-11-13 12:01:00",
         "Care Home ID": "1031.0",
         "Care Home Name": "Harvey House",
         "Type": "Residential",
         "Area": "LC",
         "Phase": 1,
         "Postal address": "Church lane, Barwell, leicester",
         "Post Code": "LE9 8DG",
         "GP": "0",
         "GP Practice": "0",
         "GP Postcode": "0",
         "Type of service": "Residential",
         "No of Beds": 44,
         "Miles from THA - LE12 8FE": 15,
         "Asset number": "A3091",
         "Amount of Asset": 1,
         "Weekly fee": "0",
         "Provider company": "Lccl",
         "Clinical concern?": "Yes",
         "NEWS2 score": 7,
         "New2 Score_New": 7,
         "H=I?": 1,
         "O2": 92,
         "O2_New": 2,
         "Systolic": 94,
         "Systolic_New": 2,
         "Diasolic": 63,
         "Pulse": 65,
         "Pulse_New": 0,
         "Temperature": 36.6,
         "Temperate_New": 0,
         "Respiration rate": 25,
         "Respiraties_New": 3,
         "O2 delivery": "Breathing Air",
         "O2 Delivery_New": 0,
         "Consciousness": "Alert",
         "Consciouness New": 0,
         "Scale 2 in use?": 0,
         "Care Home ID_cleaned": "10310",
         "year": 2022,
         "month": 11,
         "quarter": 4,
         "week": 45,
         "Clinical_Concern_Num": 1,
         "NEWS2_Category": 3,
         "_deepnote_index_column": 3
        },
        {
         "Date/Time": "2022-11-13 12:16:00",
         "Care Home ID": "1031.0",
         "Care Home Name": "Harvey House",
         "Type": "Residential",
         "Area": "LC",
         "Phase": 1,
         "Postal address": "Church lane, Barwell, leicester",
         "Post Code": "LE9 8DG",
         "GP": "0",
         "GP Practice": "0",
         "GP Postcode": "0",
         "Type of service": "Residential",
         "No of Beds": 44,
         "Miles from THA - LE12 8FE": 15,
         "Asset number": "A3091",
         "Amount of Asset": 1,
         "Weekly fee": "0",
         "Provider company": "Lccl",
         "Clinical concern?": "No",
         "NEWS2 score": 3,
         "New2 Score_New": 3,
         "H=I?": 1,
         "O2": 91,
         "O2_New": 3,
         "Systolic": 140,
         "Systolic_New": 0,
         "Diasolic": 73,
         "Pulse": 54,
         "Pulse_New": 0,
         "Temperature": 37,
         "Temperate_New": 0,
         "Respiration rate": 18,
         "Respiraties_New": 0,
         "O2 delivery": "Breathing Air",
         "O2 Delivery_New": 0,
         "Consciousness": "Alert",
         "Consciouness New": 0,
         "Scale 2 in use?": 0,
         "Care Home ID_cleaned": "10310",
         "year": 2022,
         "month": 11,
         "quarter": 4,
         "week": 45,
         "Clinical_Concern_Num": 0,
         "NEWS2_Category": 1,
         "_deepnote_index_column": 4
        },
        {
         "Date/Time": "2022-11-13 12:33:00",
         "Care Home ID": "1031.0",
         "Care Home Name": "Harvey House",
         "Type": "Residential",
         "Area": "LC",
         "Phase": 1,
         "Postal address": "Church lane, Barwell, leicester",
         "Post Code": "LE9 8DG",
         "GP": "0",
         "GP Practice": "0",
         "GP Postcode": "0",
         "Type of service": "Residential",
         "No of Beds": 44,
         "Miles from THA - LE12 8FE": 15,
         "Asset number": "A3091",
         "Amount of Asset": 1,
         "Weekly fee": "0",
         "Provider company": "Lccl",
         "Clinical concern?": "Yes",
         "NEWS2 score": 4,
         "New2 Score_New": 4,
         "H=I?": 1,
         "O2": 96,
         "O2_New": 0,
         "Systolic": 145,
         "Systolic_New": 0,
         "Diasolic": 92,
         "Pulse": 100,
         "Pulse_New": 1,
         "Temperature": 37.1,
         "Temperate_New": 0,
         "Respiration rate": 19,
         "Respiraties_New": 0,
         "O2 delivery": "Breathing Air",
         "O2 Delivery_New": 0,
         "Consciousness": "Responsive to verbal Stimulus",
         "Consciouness New": 3,
         "Scale 2 in use?": 0,
         "Care Home ID_cleaned": "10310",
         "year": 2022,
         "month": 11,
         "quarter": 4,
         "week": 45,
         "Clinical_Concern_Num": 1,
         "NEWS2_Category": 1,
         "_deepnote_index_column": 5
        },
        {
         "Date/Time": "2022-11-13 13:22:00",
         "Care Home ID": "1031.0",
         "Care Home Name": "Harvey House",
         "Type": "Residential",
         "Area": "LC",
         "Phase": 1,
         "Postal address": "Church lane, Barwell, leicester",
         "Post Code": "LE9 8DG",
         "GP": "0",
         "GP Practice": "0",
         "GP Postcode": "0",
         "Type of service": "Residential",
         "No of Beds": 44,
         "Miles from THA - LE12 8FE": 15,
         "Asset number": "A3091",
         "Amount of Asset": 1,
         "Weekly fee": "0",
         "Provider company": "Lccl",
         "Clinical concern?": "Yes",
         "NEWS2 score": 4,
         "New2 Score_New": 4,
         "H=I?": 1,
         "O2": 94,
         "O2_New": 1,
         "Systolic": 106,
         "Systolic_New": 1,
         "Diasolic": 66,
         "Pulse": 66,
         "Pulse_New": 0,
         "Temperature": 36.2,
         "Temperate_New": 0,
         "Respiration rate": 21,
         "Respiraties_New": 2,
         "O2 delivery": "Breathing Air",
         "O2 Delivery_New": 0,
         "Consciousness": "Alert",
         "Consciouness New": 0,
         "Scale 2 in use?": 0,
         "Care Home ID_cleaned": "10310",
         "year": 2022,
         "month": 11,
         "quarter": 4,
         "week": 45,
         "Clinical_Concern_Num": 1,
         "NEWS2_Category": 1,
         "_deepnote_index_column": 6
        },
        {
         "Date/Time": "2022-11-16 13:54:00",
         "Care Home ID": "1031.0",
         "Care Home Name": "Harvey House",
         "Type": "Residential",
         "Area": "LC",
         "Phase": 1,
         "Postal address": "Church lane, Barwell, leicester",
         "Post Code": "LE9 8DG",
         "GP": "0",
         "GP Practice": "0",
         "GP Postcode": "0",
         "Type of service": "Residential",
         "No of Beds": 44,
         "Miles from THA - LE12 8FE": 15,
         "Asset number": "A3091",
         "Amount of Asset": 1,
         "Weekly fee": "0",
         "Provider company": "Lccl",
         "Clinical concern?": "Yes",
         "NEWS2 score": 5,
         "New2 Score_New": 5,
         "H=I?": 1,
         "O2": 84,
         "O2_New": 3,
         "Systolic": 115,
         "Systolic_New": 0,
         "Diasolic": 66,
         "Pulse": 65,
         "Pulse_New": 0,
         "Temperature": 36.5,
         "Temperate_New": 0,
         "Respiration rate": 21,
         "Respiraties_New": 2,
         "O2 delivery": "Breathing Air",
         "O2 Delivery_New": 0,
         "Consciousness": "Alert",
         "Consciouness New": 0,
         "Scale 2 in use?": 0,
         "Care Home ID_cleaned": "10310",
         "year": 2022,
         "month": 11,
         "quarter": 4,
         "week": 46,
         "Clinical_Concern_Num": 1,
         "NEWS2_Category": 2,
         "_deepnote_index_column": 7
        },
        {
         "Date/Time": "2022-11-21 11:57:00",
         "Care Home ID": "1031.0",
         "Care Home Name": "Harvey House",
         "Type": "Residential",
         "Area": "LC",
         "Phase": 1,
         "Postal address": "Church lane, Barwell, leicester",
         "Post Code": "LE9 8DG",
         "GP": "0",
         "GP Practice": "0",
         "GP Postcode": "0",
         "Type of service": "Residential",
         "No of Beds": 44,
         "Miles from THA - LE12 8FE": 15,
         "Asset number": "A3091",
         "Amount of Asset": 1,
         "Weekly fee": "0",
         "Provider company": "Lccl",
         "Clinical concern?": "Yes",
         "NEWS2 score": 5,
         "New2 Score_New": 5,
         "H=I?": 1,
         "O2": 92,
         "O2_New": 2,
         "Systolic": 152,
         "Systolic_New": 0,
         "Diasolic": 108,
         "Pulse": 134,
         "Pulse_New": 3,
         "Temperature": 36.2,
         "Temperate_New": 0,
         "Respiration rate": 18,
         "Respiraties_New": 0,
         "O2 delivery": "Breathing Air",
         "O2 Delivery_New": 0,
         "Consciousness": "Alert",
         "Consciouness New": 0,
         "Scale 2 in use?": 0,
         "Care Home ID_cleaned": "10310",
         "year": 2022,
         "month": 11,
         "quarter": 4,
         "week": 47,
         "Clinical_Concern_Num": 1,
         "NEWS2_Category": 2,
         "_deepnote_index_column": 8
        },
        {
         "Date/Time": "2022-11-22 11:52:00",
         "Care Home ID": "1023.0",
         "Care Home Name": "Goodwood orchard",
         "Type": "Residential",
         "Area": "LC",
         "Phase": 1,
         "Postal address": "304, Uppingham Road, Leicester",
         "Post Code": "LE5 2BE",
         "GP": "0",
         "GP Practice": "0",
         "GP Postcode": "0",
         "Type of service": "Residential",
         "No of Beds": 13,
         "Miles from THA - LE12 8FE": 9,
         "Asset number": "A3083",
         "Amount of Asset": 1,
         "Weekly fee": "700",
         "Provider company": "Helping Hand Care Home Ltd",
         "Clinical concern?": "Yes",
         "NEWS2 score": 0,
         "New2 Score_New": 0,
         "H=I?": 1,
         "O2": 98,
         "O2_New": 0,
         "Systolic": 168,
         "Systolic_New": 0,
         "Diasolic": 79,
         "Pulse": 72,
         "Pulse_New": 0,
         "Temperature": 36.2,
         "Temperate_New": 0,
         "Respiration rate": 17,
         "Respiraties_New": 0,
         "O2 delivery": "Breathing Air",
         "O2 Delivery_New": 0,
         "Consciousness": "Alert",
         "Consciouness New": 0,
         "Scale 2 in use?": 0,
         "Care Home ID_cleaned": "10230",
         "year": 2022,
         "month": 11,
         "quarter": 4,
         "week": 47,
         "Clinical_Concern_Num": 1,
         "NEWS2_Category": 0,
         "_deepnote_index_column": 9
        }
       ],
       "type": "dataframe"
      },
      "text/plain": "               Date/Time Care Home ID        Care Home Name         Type Area  \\\n0    2022-11-13 10:57:00       1031.0          Harvey House  Residential   LC   \n1    2022-11-13 11:15:00       1031.0          Harvey House  Residential   LC   \n2    2022-11-13 11:33:00       1031.0          Harvey House  Residential   LC   \n3    2022-11-13 12:01:00       1031.0          Harvey House  Residential   LC   \n4    2022-11-13 12:16:00       1031.0          Harvey House  Residential   LC   \n...                  ...          ...                   ...          ...  ...   \n1968 2025-03-26 09:56:00       1023.0      Goodwood orchard  Residential   LC   \n1969 2025-03-26 13:20:00       1069.0                     0           MH  LCC   \n1970 2025-03-26 16:11:00       1069.0                     0           MH  LCC   \n1971 2025-03-26 19:07:00       1069.0                     0           MH  LCC   \n1972 2025-03-26 19:31:00       1060.0  Woodleigh Healthcare           LD   LC   \n\n      Phase                                   Postal address Post Code  \\\n0         1                  Church lane, Barwell, leicester   LE9 8DG   \n1         1                  Church lane, Barwell, leicester   LE9 8DG   \n2         1                  Church lane, Barwell, leicester   LE9 8DG   \n3         1                  Church lane, Barwell, leicester   LE9 8DG   \n4         1                  Church lane, Barwell, leicester   LE9 8DG   \n...     ...                                              ...       ...   \n1968      1                   304, Uppingham Road, Leicester   LE5 2BE   \n1969      2  Holmwood Meadows, 15a Holmwood Drive, Leicester   LE3 9LG   \n1970      2  Holmwood Meadows, 15a Holmwood Drive, Leicester   LE3 9LG   \n1971      2  Holmwood Meadows, 15a Holmwood Drive, Leicester   LE3 9LG   \n1972      2               356, Victoria Park Road, Leicester   LE2 1XF   \n\n                      GP         GP Practice  ... Consciousness  \\\n0                      0                   0  ...         Alert   \n1                      0                   0  ...         Alert   \n2                      0                   0  ...         Alert   \n3                      0                   0  ...         Alert   \n4                      0                   0  ...         Alert   \n...                  ...                 ...  ...           ...   \n1968                   0                   0  ...         Alert   \n1969  Oakmeadow Surgery   Oakmeadow Surgery   ...         Alert   \n1970  Oakmeadow Surgery   Oakmeadow Surgery   ...         Alert   \n1971  Oakmeadow Surgery   Oakmeadow Surgery   ...         Alert   \n1972      No specific GP      No specific GP  ...         Alert   \n\n     Consciouness New  Scale 2 in use?  Care Home ID_cleaned  year  month  \\\n0                   0                0                 10310  2022     11   \n1                   0                0                 10310  2022     11   \n2                   0                0                 10310  2022     11   \n3                   0                0                 10310  2022     11   \n4                   0                0                 10310  2022     11   \n...               ...              ...                   ...   ...    ...   \n1968                0                0                 10230  2025      3   \n1969                0                0                 10690  2025      3   \n1970                0                0                 10690  2025      3   \n1971                0                0                 10690  2025      3   \n1972                0                0                 10600  2025      3   \n\n     quarter week Clinical_Concern_Num  NEWS2_Category  \n0          4   45                    1               2  \n1          4   45                    0               1  \n2          4   45                    1               2  \n3          4   45                    1               3  \n4          4   45                    0               1  \n...      ...  ...                  ...             ...  \n1968       1   13                    0               1  \n1969       1   13                    1               1  \n1970       1   13                    1               3  \n1971       1   13                    0               1  \n1972       1   13                    1               1  \n\n[1950 rows x 45 columns]",
      "text/html": "<div>\n<style scoped>\n    .dataframe tbody tr th:only-of-type {\n        vertical-align: middle;\n    }\n\n    .dataframe tbody tr th {\n        vertical-align: top;\n    }\n\n    .dataframe thead th {\n        text-align: right;\n    }\n</style>\n<table border=\"1\" class=\"dataframe\">\n  <thead>\n    <tr style=\"text-align: right;\">\n      <th></th>\n      <th>Date/Time</th>\n      <th>Care Home ID</th>\n      <th>Care Home Name</th>\n      <th>Type</th>\n      <th>Area</th>\n      <th>Phase</th>\n      <th>Postal address</th>\n      <th>Post Code</th>\n      <th>GP</th>\n      <th>GP Practice</th>\n      <th>...</th>\n      <th>Consciousness</th>\n      <th>Consciouness New</th>\n      <th>Scale 2 in use?</th>\n      <th>Care Home ID_cleaned</th>\n      <th>year</th>\n      <th>month</th>\n      <th>quarter</th>\n      <th>week</th>\n      <th>Clinical_Concern_Num</th>\n      <th>NEWS2_Category</th>\n    </tr>\n  </thead>\n  <tbody>\n    <tr>\n      <th>0</th>\n      <td>2022-11-13 10:57:00</td>\n      <td>1031.0</td>\n      <td>Harvey House</td>\n      <td>Residential</td>\n      <td>LC</td>\n      <td>1</td>\n      <td>Church lane, Barwell, leicester</td>\n      <td>LE9 8DG</td>\n      <td>0</td>\n      <td>0</td>\n      <td>...</td>\n      <td>Alert</td>\n      <td>0</td>\n      <td>0</td>\n      <td>10310</td>\n      <td>2022</td>\n      <td>11</td>\n      <td>4</td>\n      <td>45</td>\n      <td>1</td>\n      <td>2</td>\n    </tr>\n    <tr>\n      <th>1</th>\n      <td>2022-11-13 11:15:00</td>\n      <td>1031.0</td>\n      <td>Harvey House</td>\n      <td>Residential</td>\n      <td>LC</td>\n      <td>1</td>\n      <td>Church lane, Barwell, leicester</td>\n      <td>LE9 8DG</td>\n      <td>0</td>\n      <td>0</td>\n      <td>...</td>\n      <td>Alert</td>\n      <td>0</td>\n      <td>0</td>\n      <td>10310</td>\n      <td>2022</td>\n      <td>11</td>\n      <td>4</td>\n      <td>45</td>\n      <td>0</td>\n      <td>1</td>\n    </tr>\n    <tr>\n      <th>2</th>\n      <td>2022-11-13 11:33:00</td>\n      <td>1031.0</td>\n      <td>Harvey House</td>\n      <td>Residential</td>\n      <td>LC</td>\n      <td>1</td>\n      <td>Church lane, Barwell, leicester</td>\n      <td>LE9 8DG</td>\n      <td>0</td>\n      <td>0</td>\n      <td>...</td>\n      <td>Alert</td>\n      <td>0</td>\n      <td>0</td>\n      <td>10310</td>\n      <td>2022</td>\n      <td>11</td>\n      <td>4</td>\n      <td>45</td>\n      <td>1</td>\n      <td>2</td>\n    </tr>\n    <tr>\n      <th>3</th>\n      <td>2022-11-13 12:01:00</td>\n      <td>1031.0</td>\n      <td>Harvey House</td>\n      <td>Residential</td>\n      <td>LC</td>\n      <td>1</td>\n      <td>Church lane, Barwell, leicester</td>\n      <td>LE9 8DG</td>\n      <td>0</td>\n      <td>0</td>\n      <td>...</td>\n      <td>Alert</td>\n      <td>0</td>\n      <td>0</td>\n      <td>10310</td>\n      <td>2022</td>\n      <td>11</td>\n      <td>4</td>\n      <td>45</td>\n      <td>1</td>\n      <td>3</td>\n    </tr>\n    <tr>\n      <th>4</th>\n      <td>2022-11-13 12:16:00</td>\n      <td>1031.0</td>\n      <td>Harvey House</td>\n      <td>Residential</td>\n      <td>LC</td>\n      <td>1</td>\n      <td>Church lane, Barwell, leicester</td>\n      <td>LE9 8DG</td>\n      <td>0</td>\n      <td>0</td>\n      <td>...</td>\n      <td>Alert</td>\n      <td>0</td>\n      <td>0</td>\n      <td>10310</td>\n      <td>2022</td>\n      <td>11</td>\n      <td>4</td>\n      <td>45</td>\n      <td>0</td>\n      <td>1</td>\n    </tr>\n    <tr>\n      <th>...</th>\n      <td>...</td>\n      <td>...</td>\n      <td>...</td>\n      <td>...</td>\n      <td>...</td>\n      <td>...</td>\n      <td>...</td>\n      <td>...</td>\n      <td>...</td>\n      <td>...</td>\n      <td>...</td>\n      <td>...</td>\n      <td>...</td>\n      <td>...</td>\n      <td>...</td>\n      <td>...</td>\n      <td>...</td>\n      <td>...</td>\n      <td>...</td>\n      <td>...</td>\n      <td>...</td>\n    </tr>\n    <tr>\n      <th>1968</th>\n      <td>2025-03-26 09:56:00</td>\n      <td>1023.0</td>\n      <td>Goodwood orchard</td>\n      <td>Residential</td>\n      <td>LC</td>\n      <td>1</td>\n      <td>304, Uppingham Road, Leicester</td>\n      <td>LE5 2BE</td>\n      <td>0</td>\n      <td>0</td>\n      <td>...</td>\n      <td>Alert</td>\n      <td>0</td>\n      <td>0</td>\n      <td>10230</td>\n      <td>2025</td>\n      <td>3</td>\n      <td>1</td>\n      <td>13</td>\n      <td>0</td>\n      <td>1</td>\n    </tr>\n    <tr>\n      <th>1969</th>\n      <td>2025-03-26 13:20:00</td>\n      <td>1069.0</td>\n      <td>0</td>\n      <td>MH</td>\n      <td>LCC</td>\n      <td>2</td>\n      <td>Holmwood Meadows, 15a Holmwood Drive, Leicester</td>\n      <td>LE3 9LG</td>\n      <td>Oakmeadow Surgery</td>\n      <td>Oakmeadow Surgery</td>\n      <td>...</td>\n      <td>Alert</td>\n      <td>0</td>\n      <td>0</td>\n      <td>10690</td>\n      <td>2025</td>\n      <td>3</td>\n      <td>1</td>\n      <td>13</td>\n      <td>1</td>\n      <td>1</td>\n    </tr>\n    <tr>\n      <th>1970</th>\n      <td>2025-03-26 16:11:00</td>\n      <td>1069.0</td>\n      <td>0</td>\n      <td>MH</td>\n      <td>LCC</td>\n      <td>2</td>\n      <td>Holmwood Meadows, 15a Holmwood Drive, Leicester</td>\n      <td>LE3 9LG</td>\n      <td>Oakmeadow Surgery</td>\n      <td>Oakmeadow Surgery</td>\n      <td>...</td>\n      <td>Alert</td>\n      <td>0</td>\n      <td>0</td>\n      <td>10690</td>\n      <td>2025</td>\n      <td>3</td>\n      <td>1</td>\n      <td>13</td>\n      <td>1</td>\n      <td>3</td>\n    </tr>\n    <tr>\n      <th>1971</th>\n      <td>2025-03-26 19:07:00</td>\n      <td>1069.0</td>\n      <td>0</td>\n      <td>MH</td>\n      <td>LCC</td>\n      <td>2</td>\n      <td>Holmwood Meadows, 15a Holmwood Drive, Leicester</td>\n      <td>LE3 9LG</td>\n      <td>Oakmeadow Surgery</td>\n      <td>Oakmeadow Surgery</td>\n      <td>...</td>\n      <td>Alert</td>\n      <td>0</td>\n      <td>0</td>\n      <td>10690</td>\n      <td>2025</td>\n      <td>3</td>\n      <td>1</td>\n      <td>13</td>\n      <td>0</td>\n      <td>1</td>\n    </tr>\n    <tr>\n      <th>1972</th>\n      <td>2025-03-26 19:31:00</td>\n      <td>1060.0</td>\n      <td>Woodleigh Healthcare</td>\n      <td>LD</td>\n      <td>LC</td>\n      <td>2</td>\n      <td>356, Victoria Park Road, Leicester</td>\n      <td>LE2 1XF</td>\n      <td>No specific GP</td>\n      <td>No specific GP</td>\n      <td>...</td>\n      <td>Alert</td>\n      <td>0</td>\n      <td>0</td>\n      <td>10600</td>\n      <td>2025</td>\n      <td>3</td>\n      <td>1</td>\n      <td>13</td>\n      <td>1</td>\n      <td>1</td>\n    </tr>\n  </tbody>\n</table>\n<p>1950 rows × 45 columns</p>\n</div>"
     },
     "metadata": {}
    }
   ],
   "outputs_reference": "s3:deepnote-cell-outputs-production/b09265b7-ad2a-489d-99d1-3f42486a6460",
   "content_dependencies": null
  },
  {
   "cell_type": "markdown",
   "metadata": {
    "formattedRanges": [],
    "cell_id": "3f5ae8e4dc534f849efab5f5cf5537de",
    "deepnote_cell_type": "text-cell-h1"
   },
   "source": [
    "# Care home ID"
   ],
   "block_group": "6c16359046d7457d9151360d16d7bd90"
  },
  {
   "cell_type": "code",
   "metadata": {
    "source_hash": "52c7a812",
    "execution_start": 1748496757439,
    "execution_millis": 0,
    "execution_context_id": "a15ab8b0-77a9-4bd5-b016-edb7db1b92cf",
    "cell_id": "5ef4ab81e3b24c6b97ff64be86926bc8",
    "deepnote_cell_type": "code"
   },
   "source": [
    "# Fixing the issue where 'df' might be None\n",
    "\n",
    "if df is not None:\n",
    "    care_home_to_analyze = '10230'\n",
    "    print(f\"\\n--- Analyzing Data for Care Home ID: {care_home_to_analyze} ---\")\n",
    "\n",
    "    # Use the cleaned column for filtering\n",
    "    df_single_care_home_1023 = df[df['Care Home ID_cleaned'] == care_home_to_analyze].copy()\n",
    "\n",
    "    if df_single_care_home_1023.empty:\n",
    "        print(f\"No data found for Care Home ID: {care_home_to_analyze} after cleaning.\")\n",
    "    else:\n",
    "        print(f\"Successfully filtered data for Care Home ID: {care_home_to_analyze}. Generating plots...\")\n",
    "\n",
    "        # Create a directory to save the plots\n",
    "        output_dir = f'care_home_{care_home_to_analyze}_plots'\n",
    "        os.makedirs(output_dir, exist_ok=True)\n",
    "        print(f\"Saving plots to directory: {output_dir}\")\n",
    "else:\n",
    "    print(\"The DataFrame 'df' is None. Please ensure the data is loaded correctly before proceeding.\")"
   ],
   "block_group": "691f013475ee42958bd45353cafced96",
   "execution_count": 135,
   "outputs": [
    {
     "name": "stdout",
     "text": "\n--- Analyzing Data for Care Home ID: 10230 ---\nSuccessfully filtered data for Care Home ID: 10230. Generating plots...\nSaving plots to directory: care_home_10230_plots\n",
     "output_type": "stream"
    }
   ],
   "outputs_reference": "dbtable:cell_outputs/ccce215f-31e1-43fe-b50b-f5b67592fcb1",
   "content_dependencies": null
  },
  {
   "cell_type": "markdown",
   "metadata": {
    "formattedRanges": [],
    "cell_id": "d19cea10eeb74bd5b5feef96db112166",
    "deepnote_cell_type": "text-cell-h1"
   },
   "source": [
    "# Plot"
   ],
   "block_group": "3c4e9e7fa6cc44fc919dca75982bab60"
  },
  {
   "cell_type": "code",
   "metadata": {
    "source_hash": "e1b40016",
    "execution_start": 1748497215489,
    "execution_millis": 3007,
    "execution_context_id": "a15ab8b0-77a9-4bd5-b016-edb7db1b92cf",
    "cell_id": "5afc0fe1bc8d4ccb81169e8e1f55aa1e",
    "deepnote_cell_type": "code"
   },
   "source": [
    "\n",
    "print(\"Generating Usage Volume Over Time chart...\")\n",
    "usage_vol_single_1023 = usage_volume_over_time(df_single_care_home_1023, care_home_to_analyze, interval='M')\n",
    "if not usage_vol_single_1023.empty:\n",
    "    fig = go.Figure()\n",
    "    fig.add_trace(go.Scatter(x=usage_vol_single_1023.index.to_timestamp(), y=usage_vol_single_1023.values,\n",
    "                             mode='lines+markers', name='Observation Count'))\n",
    "    fig.update_layout(title=f'Care Home {care_home_to_analyze} Usage Volume Over Time (Monthly)',\n",
    "                      xaxis_title='Time', yaxis_title='Usage Volume Over Time',\n",
    "                      hovermode='x unified') # Enable unified hovermode for cursor\n",
    "    pio.write_html(fig, f'{output_dir}/usage_volume_over_time.html')\n",
    "    print(f\"Saved: {output_dir}/usage_volume_over_time.html\")\n",
    "else:\n",
    "    print(f\"No data for Usage Volume Over Time for {care_home_to_analyze}. Skipping plot.\")\n",
    "\n",
    "# 2. usage_per_bed (Monthly)\n",
    "print(\"\\nGenerating Usage Per Bed chart...\")\n",
    "usage_bed_single_1023 = usage_per_bed(df_single_care_home_1023, care_home_to_analyze, interval='M')\n",
    "if not usage_bed_single_1023.empty:\n",
    "    fig = go.Figure()\n",
    "    fig.add_trace(go.Scatter(x=usage_bed_single_1023.index.to_timestamp(), y=usage_bed_single_1023.values,\n",
    "                             mode='lines+markers', name='Usage Per Bed'))\n",
    "    fig.update_layout(title=f'Care Home {care_home_to_analyze} Usage Per Bed (Monthly)',\n",
    "                      xaxis_title='Time', yaxis_title='Usage Per Bed',\n",
    "                      hovermode='x unified')\n",
    "    pio.write_html(fig, f'{output_dir}/usage_per_bed.html')\n",
    "    print(f\"Saved: {output_dir}/usage_per_bed.html\")\n",
    "else:\n",
    "    print(f\"No data for Usage Per Bed for {care_home_to_analyze}. Skipping plot.\")\n",
    "\n",
    "# 3. observation_interval_quarter_avg\n",
    "print(\"\\nGenerating Observation Interval Quarter Avg chart...\")\n",
    "obs_interval_single_1023 = observation_interval_quarter_avg(df_single_care_home_1023, care_home_to_analyze)\n",
    "if not obs_interval_single_1023.empty:\n",
    "    fig = go.Figure()\n",
    "    fig.add_trace(go.Bar(x=[str(q) for q in obs_interval_single_1023.index], y=obs_interval_single_1023.values,\n",
    "                         name='Average Interval'))\n",
    "    fig.update_layout(title=f'Care Home {care_home_to_analyze} Average Observation Interval per Quarter',\n",
    "                      xaxis_title='Quater', yaxis_title='Average Observation Interval',\n",
    "                      hovermode='x unified')\n",
    "    pio.write_html(fig, f'{output_dir}/observation_interval_quarter_avg.html')\n",
    "    print(f\"Saved: {output_dir}/observation_interval_quarter_avg.html\")\n",
    "else:\n",
    "    print(f\"No data for Observation Interval Quarter Avg for {care_home_to_analyze}. Skipping plot.\")\n",
    "\n",
    "# 4. monthly_coverage_percentage\n",
    "print(\"\\nGenerating Monthly Coverage Percentage chart...\")\n",
    "coverage_single_1023 = monthly_coverage_percentage(df_single_care_home_1023, care_home_to_analyze)\n",
    "if not coverage_single_1023.empty:\n",
    "    fig = go.Figure()\n",
    "    fig.add_trace(go.Scatter(x=coverage_single_1023.index.to_timestamp(), y=coverage_single_1023.values,\n",
    "                             mode='lines+markers', name='Coverage (%)'))\n",
    "    fig.update_layout(title=f'Care Home {care_home_to_analyze} Monthly Coverage Percentage',\n",
    "                      xaxis_title='Month', yaxis_title='Monthly Coverage Percentage(%)',\n",
    "                      hovermode='x unified')\n",
    "    pio.write_html(fig, f'{output_dir}/monthly_coverage_percentage.html')\n",
    "    print(f\"Saved: {output_dir}/monthly_coverage_percentage.html\")\n",
    "else:\n",
    "    print(f\"No data for Monthly Coverage Percentage for {care_home_to_analyze}. Skipping plot.\")\n",
    "\n",
    "# Clinical Insight Value\n",
    "\n",
    "# 1. news2_score_category_counts (Monthly)\n",
    "print(\"\\nGenerating NEWS2 Score Category Counts chart...\")\n",
    "news2_counts_single_1023 = news2_score_category_counts(df_single_care_home_1023, care_home_to_analyze, interval='M')\n",
    "if not news2_counts_single_1023.empty:\n",
    "    fig = go.Figure()\n",
    "    for col in news2_counts_single_1023.columns:\n",
    "        fig.add_trace(go.Scatter(x=news2_counts_single_1023.index.to_timestamp(), y=news2_counts_single_1023[col],\n",
    "                                 mode='lines+markers', name=col))\n",
    "    fig.update_layout(title=f'Care Home {care_home_to_analyze} NEWS2 Score Category Counts (Monthly)',\n",
    "                      xaxis_title='Time', yaxis_title='NEWS2 Score Category Counts',\n",
    "                      hovermode='x unified')\n",
    "    pio.write_html(fig, f'{output_dir}/news2_score_category_counts.html')\n",
    "    print(f\"Saved: {output_dir}/news2_score_category_counts.html\")\n",
    "else:\n",
    "    print(f\"No data for NEWS2 Score Category Counts for {care_home_to_analyze}. Skipping plot.\")\n",
    "\n",
    "# 2. high_news2_score_proportion (Monthly)\n",
    "print(\"\\nGenerating High NEWS2 Score Proportion chart...\")\n",
    "high_news2_prop_single_1023 = high_news2_score_proportion(df_single_care_home_1023, care_home_to_analyze, interval='M')\n",
    "if not high_news2_prop_single_1023.empty:\n",
    "    fig = go.Figure()\n",
    "    for col in high_news2_prop_single_1023.columns:\n",
    "        fig.add_trace(go.Scatter(x=high_news2_prop_single_1023.index.to_timestamp(), y=high_news2_prop_single_1023[col],\n",
    "                                 mode='lines+markers', name=col))\n",
    "    fig.update_layout(title=f'Care Home {care_home_to_analyze} High NEWS2 Score Proportion (Monthly)',\n",
    "                      xaxis_title='Time', yaxis_title='High NEWS2 Score Proportion (%)',\n",
    "                      hovermode='x unified')\n",
    "    pio.write_html(fig, f'{output_dir}/high_news2_score_proportion.html')\n",
    "    print(f\"Saved: {output_dir}/high_news2_score_proportion.html\")\n",
    "else:\n",
    "    print(f\"No data for High NEWS2 Score Proportion for {care_home_to_analyze}. Skipping plot.\")\n",
    "\n",
    "# 3. clinical_concern_proportion (Single Number)\n",
    "print(\"\\nCalculating Clinical Concern Proportion...\")\n",
    "clinical_concern_prop_single_1023 = clinical_concern_proportion(df_single_care_home_1023, care_home_to_analyze)\n",
    "print(f\"Care Home {care_home_to_analyze} Clinical Concern Proportion: {clinical_concern_prop_single_1023:.2f}%\")\n",
    "\n",
    "# Although this is a single number, we could represent it visually in a Plotly figure if needed,\n",
    "# but the requirement is a single number output, which is already done.\n",
    "\n",
    "# 4. staff_judgement_accuracy (Monthly)\n",
    "print(\"\\nGenerating Staff Judgement Accuracy chart...\")\n",
    "staff_accuracy_single_1023 = staff_judgement_accuracy(df_single_care_home_1023, care_home_to_analyze, interval='M')\n",
    "if not staff_accuracy_single_1023.empty:\n",
    "    fig = go.Figure()\n",
    "    fig.add_trace(go.Scatter(x=staff_accuracy_single_1023.index.to_timestamp(), y=staff_accuracy_single_1023.values,\n",
    "                             mode='lines+markers', name='Accuracy (%)'))\n",
    "    fig.update_layout(title=f'Care Home {care_home_to_analyze} Staff Judgement Accuracy (Monthly)',\n",
    "                      xaxis_title='Time', yaxis_title='Staff Judgement Accuracy (%)',\n",
    "                      hovermode='x unified')\n",
    "    pio.write_html(fig, f'{output_dir}/staff_judgement_accuracy.html')\n",
    "    print(f\"Saved: {output_dir}/staff_judgement_accuracy.html\")\n",
    "else:\n",
    "    print(f\"No data for Staff Judgement Accuracy for {care_home_to_analyze}. Skipping plot.\")\n",
    "\n",
    "print(f\"\\nAnalysis and plot generation for Care Home ID {care_home_to_analyze} complete.\")"
   ],
   "block_group": "f923a95f5f6f4d87a8807ebc368f68a4",
   "execution_count": 165,
   "outputs": [
    {
     "name": "stdout",
     "text": "Generating Usage Volume Over Time chart...\nSaved: care_home_10230_plots/usage_volume_over_time.html\n\nGenerating Usage Per Bed chart...\nSaved: care_home_10230_plots/usage_per_bed.html\n\nGenerating Observation Interval Quarter Avg chart...\nSaved: care_home_10230_plots/observation_interval_quarter_avg.html\n\nGenerating Monthly Coverage Percentage chart...\nSaved: care_home_10230_plots/monthly_coverage_percentage.html\n\nGenerating NEWS2 Score Category Counts chart...\nSaved: care_home_10230_plots/news2_score_category_counts.html\n\nGenerating High NEWS2 Score Proportion chart...\nSaved: care_home_10230_plots/high_news2_score_proportion.html\n\nCalculating Clinical Concern Proportion...\nCare Home 10230 Clinical Concern Proportion: 72.88%\n\nGenerating Staff Judgement Accuracy chart...\nSaved: care_home_10230_plots/staff_judgement_accuracy.html\n\nAnalysis and plot generation for Care Home ID 10230 complete.\n",
     "output_type": "stream"
    }
   ],
   "outputs_reference": "dbtable:cell_outputs/93e73926-1000-46a9-985c-875c5a7ec92e",
   "content_dependencies": null
  },
  {
   "cell_type": "markdown",
   "metadata": {
    "formattedRanges": [],
    "cell_id": "4cb5829848c847a293f78cdcc70a41a1",
    "deepnote_cell_type": "text-cell-h1"
   },
   "source": [
    "# weekly"
   ],
   "block_group": "6b03f298ecfa487fbda0620aae67b979"
  },
  {
   "cell_type": "code",
   "metadata": {
    "source_hash": "f843b36f",
    "execution_start": 1748497857679,
    "execution_millis": 2,
    "execution_context_id": "a15ab8b0-77a9-4bd5-b016-edb7db1b92cf",
    "cell_id": "54570561325d462ab0badd31c17da3c9",
    "deepnote_cell_type": "code"
   },
   "source": [
    "def usage_volume_over_time_w(df, care_home_id, interval='W', start_date=None, end_date=None):\n",
    "    df_filtered = combined_filter(df, care_home_id, interval, start_date, end_date)\n",
    "    if df_filtered.empty:\n",
    "        return pd.Series(dtype=int)\n",
    "    if interval == 'D':\n",
    "        grouped = df_filtered.groupby(df_filtered['Date/Time'].dt.to_period('D')).size()\n",
    "    elif interval == 'W':\n",
    "        grouped = df_filtered.groupby(df_filtered['Date/Time'].dt.to_period('W')).size()\n",
    "    elif interval == 'M':\n",
    "        grouped = df_filtered.groupby(df_filtered['Date/Time'].dt.to_period('M')).size()\n",
    "    elif interval == 'Q':\n",
    "        grouped = df_filtered.groupby(df_filtered['Date/Time'].dt.to_period('Q')).size()\n",
    "    elif interval == 'Y':\n",
    "        grouped = df_filtered.groupby(df_filtered['Date/Time'].dt.to_period('Y')).size()\n",
    "    else:\n",
    "        grouped = df_filtered.groupby(df_filtered['Date/Time'].dt.to_period('M')).size()\n",
    "    return grouped\n",
    "\n",
    "def usage_per_bed_w(df, care_home_id, interval='W', start_date=None, end_date=None):\n",
    "    usage_volume = usage_volume_over_time(df, care_home_id, interval, start_date, end_date)\n",
    "    if usage_volume.empty:\n",
    "        return pd.Series(dtype=float)\n",
    "    df_filtered = combined_filter(df, care_home_id, interval, start_date, end_date)\n",
    "    if df_filtered.empty:\n",
    "        return pd.Series(dtype=float)\n",
    "    if interval == 'D':\n",
    "        beds = df_filtered.groupby(df_filtered['Date/Time'].dt.to_period('D'))['No of Beds'].mean()\n",
    "    elif interval == 'W':\n",
    "        beds = df_filtered.groupby(df_filtered['Date/Time'].dt.to_period('W'))['No of Beds'].mean()\n",
    "    elif interval == 'M':\n",
    "        beds = df_filtered.groupby(df_filtered['Date/Time'].dt.to_period('M'))['No of Beds'].mean()\n",
    "    elif interval == 'Q':\n",
    "        beds = df_filtered.groupby(df_filtered['Date/Time'].dt.to_period('Q'))['No of Beds'].mean()\n",
    "    elif interval == 'Y':\n",
    "        beds = df_filtered.groupby(df_filtered['Date/Time'].dt.to_period('Y'))['No of Beds'].mean()\n",
    "    else:\n",
    "        beds = df_filtered.groupby(df_filtered['Date/Time'].dt.to_period('M'))['No of Beds'].mean()\n",
    "    usage_per_bed = usage_volume / beds\n",
    "    return usage_per_bed.replace([float('inf'), -float('inf')], 0).fillna(0)"
   ],
   "block_group": "958a59fcd41749dca4e777594c82f714",
   "execution_count": 171,
   "outputs": [],
   "outputs_reference": null,
   "content_dependencies": null
  },
  {
   "cell_type": "code",
   "metadata": {
    "source_hash": "3f4295",
    "execution_start": 1748498049979,
    "execution_millis": 1140,
    "execution_context_id": "a15ab8b0-77a9-4bd5-b016-edb7db1b92cf",
    "cell_id": "9bb080f04e394dc7a34db08ac40e45b3",
    "deepnote_cell_type": "code"
   },
   "source": [
    "print(\"Generating Usage Volume Over Time chart...\")\n",
    "usage_vol_single_1023 = usage_volume_over_time_w(df_single_care_home_1023, care_home_to_analyze, interval='W')\n",
    "if not usage_vol_single_1023.empty:\n",
    "    fig = go.Figure()\n",
    "    fig.add_trace(go.Scatter(x=usage_vol_single_1023.index.to_timestamp(), y=usage_vol_single_1023.values,\n",
    "                             mode='lines+markers', name='Observation Count'))\n",
    "    fig.update_layout(title=f'Care Home {care_home_to_analyze} Usage Volume Over Time (Weekly)',\n",
    "                      xaxis_title='Time', yaxis_title='Usage Volume Over Time',\n",
    "                      hovermode='x unified') # Enable unified hovermode for cursor\n",
    "    pio.write_html(fig, f'{output_dir}/usage_volume_over_time_w.html')\n",
    "    print(f\"Saved: {output_dir}/usage_volume_over_time_w.html\")\n",
    "else:\n",
    "    print(f\"No data for Usage Volume Over Time for {care_home_to_analyze}. Skipping plot.\")\n",
    "\n",
    "# 2. usage_per_bed (Monthly)\n",
    "print(\"\\nGenerating Usage Per Bed chart...\")\n",
    "usage_bed_single_1023 = usage_per_bed_w(df_single_care_home_1023, care_home_to_analyze, interval='W')\n",
    "if not usage_bed_single_1023.empty:\n",
    "    fig = go.Figure()\n",
    "    fig.add_trace(go.Scatter(x=usage_bed_single_1023.index.to_timestamp(), y=usage_bed_single_1023.values,\n",
    "                             mode='lines+markers', name='Usage Per Bed'))\n",
    "    fig.update_layout(title=f'Care Home {care_home_to_analyze} Usage Per Bed (Weekly)',\n",
    "                      xaxis_title='Time', yaxis_title='Usage Per Bed',\n",
    "                      hovermode='x unified')\n",
    "    pio.write_html(fig, f'{output_dir}/usage_per_bed_w.html')\n",
    "    print(f\"Saved: {output_dir}/usage_per_bed_w.html\")\n",
    "else:\n",
    "    print(f\"No data for Usage Per Bed for {care_home_to_analyze}. Skipping plot.\")"
   ],
   "block_group": "b29d5dcb8779458ab37226150dc5567d",
   "execution_count": 177,
   "outputs": [
    {
     "name": "stdout",
     "text": "Generating Usage Volume Over Time chart...\nSaved: care_home_10230_plots/usage_volume_over_time_w.html\n\nGenerating Usage Per Bed chart...\nSaved: care_home_10230_plots/usage_per_bed_w.html\n",
     "output_type": "stream"
    }
   ],
   "outputs_reference": "dbtable:cell_outputs/f082de68-4959-49f4-9d4b-ad0fef00eef9",
   "content_dependencies": null
  },
  {
   "cell_type": "markdown",
   "metadata": {
    "formattedRanges": [],
    "cell_id": "6bbca0a1beaa4919bb020f8893952dee",
    "deepnote_cell_type": "text-cell-h1"
   },
   "source": [
    "# Dayly"
   ],
   "block_group": "bb57651e5f41427ba48acf6eca538f11"
  },
  {
   "cell_type": "code",
   "metadata": {
    "source_hash": "9e32cfe0",
    "execution_start": 1748498203072,
    "execution_millis": 2,
    "execution_context_id": "a15ab8b0-77a9-4bd5-b016-edb7db1b92cf",
    "cell_id": "33c0d84d67aa41cabf742532af0d8298",
    "deepnote_cell_type": "code"
   },
   "source": [
    "def usage_volume_over_time_d(df, care_home_id, interval='D', start_date=None, end_date=None):\n",
    "    df_filtered = combined_filter(df, care_home_id, interval, start_date, end_date)\n",
    "    if df_filtered.empty:\n",
    "        return pd.Series(dtype=int)\n",
    "    if interval == 'D':\n",
    "        grouped = df_filtered.groupby(df_filtered['Date/Time'].dt.to_period('D')).size()\n",
    "    elif interval == 'W':\n",
    "        grouped = df_filtered.groupby(df_filtered['Date/Time'].dt.to_period('W')).size()\n",
    "    elif interval == 'M':\n",
    "        grouped = df_filtered.groupby(df_filtered['Date/Time'].dt.to_period('M')).size()\n",
    "    elif interval == 'Q':\n",
    "        grouped = df_filtered.groupby(df_filtered['Date/Time'].dt.to_period('Q')).size()\n",
    "    elif interval == 'Y':\n",
    "        grouped = df_filtered.groupby(df_filtered['Date/Time'].dt.to_period('Y')).size()\n",
    "    else:\n",
    "        grouped = df_filtered.groupby(df_filtered['Date/Time'].dt.to_period('M')).size()\n",
    "    return grouped\n",
    "\n",
    "def usage_per_bed_d(df, care_home_id, interval='D', start_date=None, end_date=None):\n",
    "    usage_volume = usage_volume_over_time(df, care_home_id, interval, start_date, end_date)\n",
    "    if usage_volume.empty:\n",
    "        return pd.Series(dtype=float)\n",
    "    df_filtered = combined_filter(df, care_home_id, interval, start_date, end_date)\n",
    "    if df_filtered.empty:\n",
    "        return pd.Series(dtype=float)\n",
    "    if interval == 'D':\n",
    "        beds = df_filtered.groupby(df_filtered['Date/Time'].dt.to_period('D'))['No of Beds'].mean()\n",
    "    elif interval == 'W':\n",
    "        beds = df_filtered.groupby(df_filtered['Date/Time'].dt.to_period('W'))['No of Beds'].mean()\n",
    "    elif interval == 'M':\n",
    "        beds = df_filtered.groupby(df_filtered['Date/Time'].dt.to_period('M'))['No of Beds'].mean()\n",
    "    elif interval == 'Q':\n",
    "        beds = df_filtered.groupby(df_filtered['Date/Time'].dt.to_period('Q'))['No of Beds'].mean()\n",
    "    elif interval == 'Y':\n",
    "        beds = df_filtered.groupby(df_filtered['Date/Time'].dt.to_period('Y'))['No of Beds'].mean()\n",
    "    else:\n",
    "        beds = df_filtered.groupby(df_filtered['Date/Time'].dt.to_period('M'))['No of Beds'].mean()\n",
    "    usage_per_bed = usage_volume / beds\n",
    "    return usage_per_bed.replace([float('inf'), -float('inf')], 0).fillna(0)"
   ],
   "block_group": "9bf2d37c221f426dbd5c97e810087efc",
   "execution_count": 180,
   "outputs": [],
   "outputs_reference": null,
   "content_dependencies": null
  },
  {
   "cell_type": "code",
   "metadata": {
    "source_hash": "7b4b5f10",
    "execution_start": 1748498336489,
    "execution_millis": 514,
    "execution_context_id": "a15ab8b0-77a9-4bd5-b016-edb7db1b92cf",
    "cell_id": "1edebbb4daa447bf8f1cc6ca4875b29f",
    "deepnote_cell_type": "code"
   },
   "source": [
    "print(\"Generating Usage Volume Over Time chart...\")\n",
    "usage_vol_single_1023 = usage_volume_over_time_d(df_single_care_home_1023, care_home_to_analyze, interval='D')\n",
    "if not usage_vol_single_1023.empty:\n",
    "    fig = go.Figure()\n",
    "    fig.add_trace(go.Scatter(x=usage_vol_single_1023.index.to_timestamp(), y=usage_vol_single_1023.values,\n",
    "                             mode='lines+markers', name='Observation Count'))\n",
    "    fig.update_layout(title=f'Care Home {care_home_to_analyze} Usage Volume Over Time (Daily)',\n",
    "                      xaxis_title='Time', yaxis_title='Usage Volume Over Time',\n",
    "                      hovermode='x unified') # Enable unified hovermode for cursor\n",
    "    pio.write_html(fig, f'{output_dir}/usage_volume_over_time_d.html')\n",
    "    print(f\"Saved: {output_dir}/usage_volume_over_time_d.html\")\n",
    "else:\n",
    "    print(f\"No data for Usage Volume Over Time for {care_home_to_analyze}. Skipping plot.\")\n",
    "\n",
    "# 2. usage_per_bed (Monthly)\n",
    "print(\"\\nGenerating Usage Per Bed chart...\")\n",
    "usage_bed_single_1023 = usage_per_bed_d(df_single_care_home_1023, care_home_to_analyze, interval='D')\n",
    "if not usage_bed_single_1023.empty:\n",
    "    fig = go.Figure()\n",
    "    fig.add_trace(go.Scatter(x=usage_bed_single_1023.index.to_timestamp(), y=usage_bed_single_1023.values,\n",
    "                             mode='lines+markers', name='Usage Per Bed'))\n",
    "    fig.update_layout(title=f'Care Home {care_home_to_analyze} Usage Per Bed (Daily)',\n",
    "                      xaxis_title='Time', yaxis_title='Usage Per Bed',\n",
    "                      hovermode='x unified')\n",
    "    pio.write_html(fig, f'{output_dir}/usage_per_bed_d.html')\n",
    "    print(f\"Saved: {output_dir}/usage_per_bed_d.html\")\n",
    "else:\n",
    "    print(f\"No data for Usage Per Bed for {care_home_to_analyze}. Skipping plot.\")"
   ],
   "block_group": "a5e1246a4c914f0cbc0022ddb2ebe3ab",
   "execution_count": 183,
   "outputs": [
    {
     "name": "stdout",
     "text": "Generating Usage Volume Over Time chart...\nSaved: care_home_10230_plots/usage_volume_over_time_d.html\n\nGenerating Usage Per Bed chart...\nSaved: care_home_10230_plots/usage_per_bed_d.html\n",
     "output_type": "stream"
    }
   ],
   "outputs_reference": "dbtable:cell_outputs/8b67acea-27ee-44b3-9d50-fc9f08c41316",
   "content_dependencies": null
  },
  {
   "cell_type": "markdown",
   "metadata": {
    "formattedRanges": [],
    "cell_id": "78248fb3a2704825b96bc12e11e58749",
    "deepnote_cell_type": "text-cell-h1"
   },
   "source": [
    "# High=7"
   ],
   "block_group": "7946ce73ea4e472fa266ada824abcf2a"
  },
  {
   "cell_type": "code",
   "metadata": {
    "source_hash": "4b28af42",
    "execution_start": 1748498705029,
    "execution_millis": 0,
    "execution_context_id": "a15ab8b0-77a9-4bd5-b016-edb7db1b92cf",
    "cell_id": "01bbf0abcb164fdf93c66ae900721fcd",
    "deepnote_cell_type": "code"
   },
   "source": [
    "def staff_judgement_accuracy_7(df, care_home_id, interval='M', start_date=None, end_date=None):\n",
    "        df_filtered = combined_filter(df, care_home_id, interval, start_date, end_date)\n",
    "        if df_filtered.empty:\n",
    "            return pd.Series(dtype='float64')\n",
    "        df_concern_yes = df_filtered[df_filtered['Clinical_Concern_Num'] == 1].copy()\n",
    "        if df_concern_yes.empty:\n",
    "            return pd.Series(dtype='float64')\n",
    "        df_concern_yes['Accurate_Judgement'] = (df_concern_yes['NEWS2 score'] >= 7).astype(int)\n",
    "        if interval == 'M':\n",
    "            grouped_accurate = df_concern_yes.groupby(df_concern_yes['Date/Time'].dt.to_period('M'))['Accurate_Judgement'].sum()\n",
    "            grouped_total_concern_yes = df_filtered.groupby(df_filtered['Date/Time'].dt.to_period('M'))['Clinical_Concern_Num'].sum()\n",
    "        else:\n",
    "             grouped_accurate = df_concern_yes.groupby(df_concern_yes['Date/Time'].dt.to_period('M'))['Accurate_Judgement'].sum()\n",
    "             grouped_total_concern_yes = df_filtered.groupby(df_filtered['Date/Time'].dt.to_period('M'))['Clinical_Concern_Num'].sum()\n",
    "\n",
    "        accuracy = (grouped_accurate / grouped_total_concern_yes.reindex(grouped_accurate.index, fill_value=0)) * 100\n",
    "        return accuracy.replace([float('inf'), -float('inf')], 0).fillna(0)"
   ],
   "block_group": "8f869753d9fb4ac2847db32b621235c1",
   "execution_count": 186,
   "outputs": [],
   "outputs_reference": null,
   "content_dependencies": null
  },
  {
   "cell_type": "code",
   "metadata": {
    "source_hash": "7fea9533",
    "execution_start": 1748498874509,
    "execution_millis": 3028,
    "execution_context_id": "a15ab8b0-77a9-4bd5-b016-edb7db1b92cf",
    "cell_id": "6ac79af913c14430bbba51fa459d2eee",
    "deepnote_cell_type": "code"
   },
   "source": [
    "print(\"\\nGenerating Staff Judgement Accuracy chart...\")\n",
    "staff_accuracy_single_1023 = staff_judgement_accuracy_7(df_single_care_home_1023, care_home_to_analyze, interval='M')\n",
    "if not staff_accuracy_single_1023.empty:\n",
    "    fig = go.Figure()\n",
    "    fig.add_trace(go.Scatter(x=staff_accuracy_single_1023.index.to_timestamp(), y=staff_accuracy_single_1023.values,\n",
    "                             mode='lines+markers', name='Accuracy (%)'))\n",
    "    fig.update_layout(title=f'Care Home {care_home_to_analyze} Staff Judgement Accuracy (Monthly)',\n",
    "                      xaxis_title='Time', yaxis_title='Staff Judgement Accuracy (%)',\n",
    "                      hovermode='x unified')\n",
    "    pio.write_html(fig, f'{output_dir}/staff_judgement_accuracy_7.html')\n",
    "    print(f\"Saved: {output_dir}/staff_judgement_accuracy_7.html\")\n",
    "else:\n",
    "    print(f\"No data for Staff Judgement Accuracy for {care_home_to_analyze}. Skipping plot.\")\n",
    "\n",
    "print(f\"\\nAnalysis and plot generation for Care Home ID {care_home_to_analyze} complete.\")"
   ],
   "block_group": "ccca1c2548704dcc8fabc440c1c34556",
   "execution_count": 189,
   "outputs": [
    {
     "name": "stdout",
     "text": "\nGenerating Staff Judgement Accuracy chart...\nSaved: care_home_10230_plots/staff_judgement_accuracy_7.html\n\nAnalysis and plot generation for Care Home ID 10230 complete.\n",
     "output_type": "stream"
    }
   ],
   "outputs_reference": "dbtable:cell_outputs/1ddb11b1-e8dc-4953-8f03-5d859f39769f",
   "content_dependencies": null
  },
  {
   "cell_type": "markdown",
   "metadata": {
    "formattedRanges": [],
    "cell_id": "73e98288a56c43cc8dade04658bbcb15",
    "deepnote_cell_type": "text-cell-h1"
   },
   "source": [
    "# Physiological parameters, high=5"
   ],
   "block_group": "70078fb6ba8a4e75bcb2646f34aa6381"
  },
  {
   "cell_type": "code",
   "metadata": {
    "source_hash": "d4a2aad4",
    "execution_start": 1748499349559,
    "execution_millis": 0,
    "execution_context_id": "a15ab8b0-77a9-4bd5-b016-edb7db1b92cf",
    "cell_id": "abc263c20f24458aac980bccd523f825",
    "deepnote_cell_type": "code"
   },
   "source": [
    "import pandas as pd\n",
    "import plotly.graph_objects as go\n",
    "import plotly.io as pio\n",
    "import os"
   ],
   "block_group": "31ed0865ba4f4ff5b899a62f8bf2cede",
   "execution_count": 192,
   "outputs": [],
   "outputs_reference": null,
   "content_dependencies": null
  },
  {
   "cell_type": "code",
   "metadata": {
    "source_hash": "f804c160",
    "execution_start": 1748499475519,
    "execution_millis": 17,
    "execution_context_id": "a15ab8b0-77a9-4bd5-b016-edb7db1b92cf",
    "cell_id": "73f2603e2eec49809fbf88c536890496",
    "deepnote_cell_type": "code"
   },
   "source": [
    "df"
   ],
   "block_group": "d4e1874f67b947b98f72bb1b2a96e8d8",
   "execution_count": 195,
   "outputs": [
    {
     "output_type": "execute_result",
     "execution_count": 195,
     "data": {
      "application/vnd.deepnote.dataframe.v3+json": {
       "column_count": 45,
       "row_count": 1950,
       "columns": [
        {
         "name": "Date/Time",
         "dtype": "datetime64[ns]",
         "stats": {
          "unique_count": 1931,
          "nan_count": 0,
          "min": "2022-11-13 10:57:00",
          "max": "2025-03-26 19:31:00",
          "histogram": [
           {
            "bin_start": 1668337020000000000,
            "bin_end": 1675805064000000000,
            "count": 185
           },
           {
            "bin_start": 1675805064000000000,
            "bin_end": 1683273108000000000,
            "count": 104
           },
           {
            "bin_start": 1683273108000000000,
            "bin_end": 1690741152000000000,
            "count": 22
           },
           {
            "bin_start": 1690741152000000000,
            "bin_end": 1698209196000000000,
            "count": 153
           },
           {
            "bin_start": 1698209196000000000,
            "bin_end": 1705677240000000000,
            "count": 156
           },
           {
            "bin_start": 1705677240000000000,
            "bin_end": 1713145284000000000,
            "count": 183
           },
           {
            "bin_start": 1713145284000000000,
            "bin_end": 1720613328000000000,
            "count": 177
           },
           {
            "bin_start": 1720613328000000000,
            "bin_end": 1728081372000000000,
            "count": 185
           },
           {
            "bin_start": 1728081372000000000,
            "bin_end": 1735549416000000000,
            "count": 269
           },
           {
            "bin_start": 1735549416000000000,
            "bin_end": 1743017460000000000,
            "count": 516
           }
          ]
         }
        },
        {
         "name": "Care Home ID",
         "dtype": "object",
         "stats": {
          "unique_count": 33,
          "nan_count": 0,
          "categories": [
           {
            "name": "1023.0",
            "count": 295
           },
           {
            "name": "1008.0",
            "count": 263
           },
           {
            "name": "31 others",
            "count": 1392
           }
          ]
         }
        },
        {
         "name": "Care Home Name",
         "dtype": "object",
         "stats": {
          "unique_count": 31,
          "nan_count": 0,
          "categories": [
           {
            "name": "Goodwood orchard",
            "count": 296
           },
           {
            "name": "The Lodge Trust",
            "count": 263
           },
           {
            "name": "29 others",
            "count": 1391
           }
          ]
         }
        },
        {
         "name": "Type",
         "dtype": "object",
         "stats": {
          "unique_count": 3,
          "nan_count": 0,
          "categories": [
           {
            "name": "Residential",
            "count": 1561
           },
           {
            "name": "LD",
            "count": 329
           },
           {
            "name": "MH",
            "count": 60
           }
          ]
         }
        },
        {
         "name": "Area",
         "dtype": "object",
         "stats": {
          "unique_count": 3,
          "nan_count": 0,
          "categories": [
           {
            "name": "LC",
            "count": 1079
           },
           {
            "name": "Rutland",
            "count": 556
           },
           {
            "name": "LCC",
            "count": 315
           }
          ]
         }
        },
        {
         "name": "Phase",
         "dtype": "int64",
         "stats": {
          "unique_count": 2,
          "nan_count": 0,
          "min": "1",
          "max": "2",
          "histogram": [
           {
            "bin_start": 1,
            "bin_end": 1.1,
            "count": 820
           },
           {
            "bin_start": 1.1,
            "bin_end": 1.2,
            "count": 0
           },
           {
            "bin_start": 1.2,
            "bin_end": 1.3,
            "count": 0
           },
           {
            "bin_start": 1.3,
            "bin_end": 1.4,
            "count": 0
           },
           {
            "bin_start": 1.4,
            "bin_end": 1.5,
            "count": 0
           },
           {
            "bin_start": 1.5,
            "bin_end": 1.6,
            "count": 0
           },
           {
            "bin_start": 1.6,
            "bin_end": 1.7000000000000002,
            "count": 0
           },
           {
            "bin_start": 1.7000000000000002,
            "bin_end": 1.8,
            "count": 0
           },
           {
            "bin_start": 1.8,
            "bin_end": 1.9,
            "count": 0
           },
           {
            "bin_start": 1.9,
            "bin_end": 2,
            "count": 1130
           }
          ]
         }
        },
        {
         "name": "Postal address",
         "dtype": "object",
         "stats": {
          "unique_count": 28,
          "nan_count": 0,
          "categories": [
           {
            "name": "304, Uppingham Road, Leicester",
            "count": 332
           },
           {
            "name": "Main street, Market overton, Oakham",
            "count": 263
           },
           {
            "name": "26 others",
            "count": 1355
           }
          ]
         }
        },
        {
         "name": "Post Code",
         "dtype": "object",
         "stats": {
          "unique_count": 28,
          "nan_count": 0,
          "categories": [
           {
            "name": "LE5 2BE",
            "count": 332
           },
           {
            "name": "LE15 7PL",
            "count": 263
           },
           {
            "name": "26 others",
            "count": 1355
           }
          ]
         }
        },
        {
         "name": "GP",
         "dtype": "object",
         "stats": {
          "unique_count": 13,
          "nan_count": 0,
          "categories": [
           {
            "name": "0",
            "count": 982
           },
           {
            "name": "DR Shafi",
            "count": 241
           },
           {
            "name": "11 others",
            "count": 727
           }
          ]
         }
        },
        {
         "name": "GP Practice",
         "dtype": "object",
         "stats": {
          "unique_count": 13,
          "nan_count": 0,
          "categories": [
           {
            "name": "0",
            "count": 982
           },
           {
            "name": "DR Shafi",
            "count": 241
           },
           {
            "name": "11 others",
            "count": 727
           }
          ]
         }
        },
        {
         "name": "GP Postcode",
         "dtype": "object",
         "stats": {
          "unique_count": 15,
          "nan_count": 0,
          "categories": [
           {
            "name": "0",
            "count": 967
           },
           {
            "name": "2 Westcoates drive, leicester",
            "count": 241
           },
           {
            "name": "13 others",
            "count": 742
           }
          ]
         }
        },
        {
         "name": "Type of service",
         "dtype": "object",
         "stats": {
          "unique_count": 5,
          "nan_count": 0,
          "categories": [
           {
            "name": "Residential",
            "count": 1569
           },
           {
            "name": "Residential & LD",
            "count": 239
           },
           {
            "name": "3 others",
            "count": 142
           }
          ]
         }
        },
        {
         "name": "No of Beds",
         "dtype": "float64",
         "stats": {
          "unique_count": 23,
          "nan_count": 0,
          "min": "0.0",
          "max": "82.0",
          "histogram": [
           {
            "bin_start": 0,
            "bin_end": 8.2,
            "count": 318
           },
           {
            "bin_start": 8.2,
            "bin_end": 16.4,
            "count": 818
           },
           {
            "bin_start": 16.4,
            "bin_end": 24.599999999999998,
            "count": 156
           },
           {
            "bin_start": 24.599999999999998,
            "bin_end": 32.8,
            "count": 339
           },
           {
            "bin_start": 32.8,
            "bin_end": 41,
            "count": 34
           },
           {
            "bin_start": 41,
            "bin_end": 49.199999999999996,
            "count": 29
           },
           {
            "bin_start": 49.199999999999996,
            "bin_end": 57.39999999999999,
            "count": 0
           },
           {
            "bin_start": 57.39999999999999,
            "bin_end": 65.6,
            "count": 253
           },
           {
            "bin_start": 65.6,
            "bin_end": 73.8,
            "count": 0
           },
           {
            "bin_start": 73.8,
            "bin_end": 82,
            "count": 3
           }
          ]
         }
        },
        {
         "name": "Miles from THA - LE12 8FE",
         "dtype": "float64",
         "stats": {
          "unique_count": 17,
          "nan_count": 0,
          "min": "0.0",
          "max": "44.0",
          "histogram": [
           {
            "bin_start": 0,
            "bin_end": 4.4,
            "count": 5
           },
           {
            "bin_start": 4.4,
            "bin_end": 8.8,
            "count": 388
           },
           {
            "bin_start": 8.8,
            "bin_end": 13.200000000000001,
            "count": 822
           },
           {
            "bin_start": 13.200000000000001,
            "bin_end": 17.6,
            "count": 42
           },
           {
            "bin_start": 17.6,
            "bin_end": 22,
            "count": 540
           },
           {
            "bin_start": 22,
            "bin_end": 26.400000000000002,
            "count": 138
           },
           {
            "bin_start": 26.400000000000002,
            "bin_end": 30.800000000000004,
            "count": 0
           },
           {
            "bin_start": 30.800000000000004,
            "bin_end": 35.2,
            "count": 0
           },
           {
            "bin_start": 35.2,
            "bin_end": 39.6,
            "count": 0
           },
           {
            "bin_start": 39.6,
            "bin_end": 44,
            "count": 15
           }
          ]
         }
        },
        {
         "name": "Asset number",
         "dtype": "object",
         "stats": {
          "unique_count": 29,
          "nan_count": 0,
          "categories": [
           {
            "name": "A3083",
            "count": 332
           },
           {
            "name": "A3919",
            "count": 263
           },
           {
            "name": "27 others",
            "count": 1355
           }
          ]
         }
        },
        {
         "name": "Amount of Asset",
         "dtype": "int64",
         "stats": {
          "unique_count": 1,
          "nan_count": 0,
          "min": "1",
          "max": "1",
          "histogram": [
           {
            "bin_start": 0.5,
            "bin_end": 0.6,
            "count": 0
           },
           {
            "bin_start": 0.6,
            "bin_end": 0.7,
            "count": 0
           },
           {
            "bin_start": 0.7,
            "bin_end": 0.8,
            "count": 0
           },
           {
            "bin_start": 0.8,
            "bin_end": 0.9,
            "count": 0
           },
           {
            "bin_start": 0.9,
            "bin_end": 1,
            "count": 0
           },
           {
            "bin_start": 1,
            "bin_end": 1.1,
            "count": 1950
           },
           {
            "bin_start": 1.1,
            "bin_end": 1.2000000000000002,
            "count": 0
           },
           {
            "bin_start": 1.2000000000000002,
            "bin_end": 1.3,
            "count": 0
           },
           {
            "bin_start": 1.3,
            "bin_end": 1.4,
            "count": 0
           },
           {
            "bin_start": 1.4,
            "bin_end": 1.5,
            "count": 0
           }
          ]
         }
        },
        {
         "name": "Weekly fee",
         "dtype": "object",
         "stats": {
          "unique_count": 14,
          "nan_count": 0,
          "categories": [
           {
            "name": "0",
            "count": 940
           },
           {
            "name": "700",
            "count": 295
           },
           {
            "name": "12 others",
            "count": 715
           }
          ]
         }
        },
        {
         "name": "Provider company",
         "dtype": "object",
         "stats": {
          "unique_count": 28,
          "nan_count": 0,
          "categories": [
           {
            "name": "Helping Hand Care Home Ltd",
            "count": 332
           },
           {
            "name": "The lodge trust CIO",
            "count": 263
           },
           {
            "name": "26 others",
            "count": 1355
           }
          ]
         }
        },
        {
         "name": "Clinical concern?",
         "dtype": "object",
         "stats": {
          "unique_count": 2,
          "nan_count": 0,
          "categories": [
           {
            "name": "No",
            "count": 1270
           },
           {
            "name": "Yes",
            "count": 680
           }
          ]
         }
        },
        {
         "name": "NEWS2 score",
         "dtype": "int64",
         "stats": {
          "unique_count": 14,
          "nan_count": 0,
          "min": "0",
          "max": "13",
          "histogram": [
           {
            "bin_start": 0,
            "bin_end": 1.3,
            "count": 860
           },
           {
            "bin_start": 1.3,
            "bin_end": 2.6,
            "count": 344
           },
           {
            "bin_start": 2.6,
            "bin_end": 3.9000000000000004,
            "count": 266
           },
           {
            "bin_start": 3.9000000000000004,
            "bin_end": 5.2,
            "count": 293
           },
           {
            "bin_start": 5.2,
            "bin_end": 6.5,
            "count": 85
           },
           {
            "bin_start": 6.5,
            "bin_end": 7.800000000000001,
            "count": 53
           },
           {
            "bin_start": 7.800000000000001,
            "bin_end": 9.1,
            "count": 33
           },
           {
            "bin_start": 9.1,
            "bin_end": 10.4,
            "count": 11
           },
           {
            "bin_start": 10.4,
            "bin_end": 11.700000000000001,
            "count": 2
           },
           {
            "bin_start": 11.700000000000001,
            "bin_end": 13,
            "count": 3
           }
          ]
         }
        },
        {
         "name": "New2 Score_New",
         "dtype": "float64",
         "stats": {
          "unique_count": 15,
          "nan_count": 0,
          "min": "0.0",
          "max": "13.0",
          "histogram": [
           {
            "bin_start": 0,
            "bin_end": 1.3,
            "count": 752
           },
           {
            "bin_start": 1.3,
            "bin_end": 2.6,
            "count": 371
           },
           {
            "bin_start": 2.6,
            "bin_end": 3.9000000000000004,
            "count": 287
           },
           {
            "bin_start": 3.9000000000000004,
            "bin_end": 5.2,
            "count": 325
           },
           {
            "bin_start": 5.2,
            "bin_end": 6.5,
            "count": 96
           },
           {
            "bin_start": 6.5,
            "bin_end": 7.800000000000001,
            "count": 57
           },
           {
            "bin_start": 7.800000000000001,
            "bin_end": 9.1,
            "count": 39
           },
           {
            "bin_start": 9.1,
            "bin_end": 10.4,
            "count": 17
           },
           {
            "bin_start": 10.4,
            "bin_end": 11.700000000000001,
            "count": 3
           },
           {
            "bin_start": 11.700000000000001,
            "bin_end": 13,
            "count": 3
           }
          ]
         }
        },
        {
         "name": "H=I?",
         "dtype": "float64",
         "stats": {
          "unique_count": 3,
          "nan_count": 0,
          "min": "0.0",
          "max": "1.0",
          "histogram": [
           {
            "bin_start": 0,
            "bin_end": 0.1,
            "count": 370
           },
           {
            "bin_start": 0.1,
            "bin_end": 0.2,
            "count": 0
           },
           {
            "bin_start": 0.2,
            "bin_end": 0.30000000000000004,
            "count": 0
           },
           {
            "bin_start": 0.30000000000000004,
            "bin_end": 0.4,
            "count": 0
           },
           {
            "bin_start": 0.4,
            "bin_end": 0.5,
            "count": 0
           },
           {
            "bin_start": 0.5,
            "bin_end": 0.6000000000000001,
            "count": 0
           },
           {
            "bin_start": 0.6000000000000001,
            "bin_end": 0.7000000000000001,
            "count": 0
           },
           {
            "bin_start": 0.7000000000000001,
            "bin_end": 0.8,
            "count": 0
           },
           {
            "bin_start": 0.8,
            "bin_end": 0.9,
            "count": 1
           },
           {
            "bin_start": 0.9,
            "bin_end": 1,
            "count": 1579
           }
          ]
         }
        },
        {
         "name": "O2",
         "dtype": "int64",
         "stats": {
          "unique_count": 36,
          "nan_count": 0,
          "min": "51",
          "max": "100",
          "histogram": [
           {
            "bin_start": 51,
            "bin_end": 55.9,
            "count": 3
           },
           {
            "bin_start": 55.9,
            "bin_end": 60.8,
            "count": 2
           },
           {
            "bin_start": 60.8,
            "bin_end": 65.7,
            "count": 1
           },
           {
            "bin_start": 65.7,
            "bin_end": 70.6,
            "count": 3
           },
           {
            "bin_start": 70.6,
            "bin_end": 75.5,
            "count": 8
           },
           {
            "bin_start": 75.5,
            "bin_end": 80.4,
            "count": 15
           },
           {
            "bin_start": 80.4,
            "bin_end": 85.30000000000001,
            "count": 20
           },
           {
            "bin_start": 85.30000000000001,
            "bin_end": 90.2,
            "count": 89
           },
           {
            "bin_start": 90.2,
            "bin_end": 95.1,
            "count": 789
           },
           {
            "bin_start": 95.1,
            "bin_end": 100,
            "count": 1020
           }
          ]
         }
        },
        {
         "name": "O2_New",
         "dtype": "float64",
         "stats": {
          "unique_count": 5,
          "nan_count": 0,
          "min": "0.0",
          "max": "3.0",
          "histogram": [
           {
            "bin_start": 0,
            "bin_end": 0.3,
            "count": 1020
           },
           {
            "bin_start": 0.3,
            "bin_end": 0.6,
            "count": 0
           },
           {
            "bin_start": 0.6,
            "bin_end": 0.8999999999999999,
            "count": 1
           },
           {
            "bin_start": 0.8999999999999999,
            "bin_end": 1.2,
            "count": 467
           },
           {
            "bin_start": 1.2,
            "bin_end": 1.5,
            "count": 0
           },
           {
            "bin_start": 1.5,
            "bin_end": 1.7999999999999998,
            "count": 0
           },
           {
            "bin_start": 1.7999999999999998,
            "bin_end": 2.1,
            "count": 264
           },
           {
            "bin_start": 2.1,
            "bin_end": 2.4,
            "count": 0
           },
           {
            "bin_start": 2.4,
            "bin_end": 2.6999999999999997,
            "count": 0
           },
           {
            "bin_start": 2.6999999999999997,
            "bin_end": 3,
            "count": 198
           }
          ]
         }
        },
        {
         "name": "Systolic",
         "dtype": "int64",
         "stats": {
          "unique_count": 115,
          "nan_count": 0,
          "min": "73",
          "max": "209",
          "histogram": [
           {
            "bin_start": 73,
            "bin_end": 86.6,
            "count": 22
           },
           {
            "bin_start": 86.6,
            "bin_end": 100.2,
            "count": 137
           },
           {
            "bin_start": 100.2,
            "bin_end": 113.8,
            "count": 457
           },
           {
            "bin_start": 113.8,
            "bin_end": 127.4,
            "count": 550
           },
           {
            "bin_start": 127.4,
            "bin_end": 141,
            "count": 387
           },
           {
            "bin_start": 141,
            "bin_end": 154.6,
            "count": 249
           },
           {
            "bin_start": 154.6,
            "bin_end": 168.2,
            "count": 101
           },
           {
            "bin_start": 168.2,
            "bin_end": 181.8,
            "count": 34
           },
           {
            "bin_start": 181.8,
            "bin_end": 195.39999999999998,
            "count": 8
           },
           {
            "bin_start": 195.39999999999998,
            "bin_end": 209,
            "count": 5
           }
          ]
         }
        },
        {
         "name": "Systolic_New",
         "dtype": "float64",
         "stats": {
          "unique_count": 5,
          "nan_count": 0,
          "min": "0.0",
          "max": "3.0",
          "histogram": [
           {
            "bin_start": 0,
            "bin_end": 0.3,
            "count": 1456
           },
           {
            "bin_start": 0.3,
            "bin_end": 0.6,
            "count": 1
           },
           {
            "bin_start": 0.6,
            "bin_end": 0.8999999999999999,
            "count": 0
           },
           {
            "bin_start": 0.8999999999999999,
            "bin_end": 1.2,
            "count": 334
           },
           {
            "bin_start": 1.2,
            "bin_end": 1.5,
            "count": 0
           },
           {
            "bin_start": 1.5,
            "bin_end": 1.7999999999999998,
            "count": 0
           },
           {
            "bin_start": 1.7999999999999998,
            "bin_end": 2.1,
            "count": 122
           },
           {
            "bin_start": 2.1,
            "bin_end": 2.4,
            "count": 0
           },
           {
            "bin_start": 2.4,
            "bin_end": 2.6999999999999997,
            "count": 0
           },
           {
            "bin_start": 2.6999999999999997,
            "bin_end": 3,
            "count": 37
           }
          ]
         }
        },
        {
         "name": "Diasolic",
         "dtype": "int64",
         "stats": {
          "unique_count": 91,
          "nan_count": 0,
          "min": "0",
          "max": "155",
          "histogram": [
           {
            "bin_start": 0,
            "bin_end": 15.5,
            "count": 1
           },
           {
            "bin_start": 15.5,
            "bin_end": 31,
            "count": 0
           },
           {
            "bin_start": 31,
            "bin_end": 46.5,
            "count": 4
           },
           {
            "bin_start": 46.5,
            "bin_end": 62,
            "count": 169
           },
           {
            "bin_start": 62,
            "bin_end": 77.5,
            "count": 831
           },
           {
            "bin_start": 77.5,
            "bin_end": 93,
            "count": 660
           },
           {
            "bin_start": 93,
            "bin_end": 108.5,
            "count": 217
           },
           {
            "bin_start": 108.5,
            "bin_end": 124,
            "count": 51
           },
           {
            "bin_start": 124,
            "bin_end": 139.5,
            "count": 13
           },
           {
            "bin_start": 139.5,
            "bin_end": 155,
            "count": 4
           }
          ]
         }
        },
        {
         "name": "Pulse",
         "dtype": "int64",
         "stats": {
          "unique_count": 94,
          "nan_count": 0,
          "min": "0",
          "max": "960",
          "histogram": [
           {
            "bin_start": 0,
            "bin_end": 96,
            "count": 1733
           },
           {
            "bin_start": 96,
            "bin_end": 192,
            "count": 215
           },
           {
            "bin_start": 192,
            "bin_end": 288,
            "count": 0
           },
           {
            "bin_start": 288,
            "bin_end": 384,
            "count": 0
           },
           {
            "bin_start": 384,
            "bin_end": 480,
            "count": 0
           },
           {
            "bin_start": 480,
            "bin_end": 576,
            "count": 0
           },
           {
            "bin_start": 576,
            "bin_end": 672,
            "count": 0
           },
           {
            "bin_start": 672,
            "bin_end": 768,
            "count": 0
           },
           {
            "bin_start": 768,
            "bin_end": 864,
            "count": 1
           },
           {
            "bin_start": 864,
            "bin_end": 960,
            "count": 1
           }
          ]
         }
        },
        {
         "name": "Pulse_New",
         "dtype": "float64",
         "stats": {
          "unique_count": 5,
          "nan_count": 0,
          "min": "0.0",
          "max": "3.0",
          "histogram": [
           {
            "bin_start": 0,
            "bin_end": 0.3,
            "count": 1582
           },
           {
            "bin_start": 0.3,
            "bin_end": 0.6,
            "count": 0
           },
           {
            "bin_start": 0.6,
            "bin_end": 0.8999999999999999,
            "count": 0
           },
           {
            "bin_start": 0.8999999999999999,
            "bin_end": 1.2,
            "count": 298
           },
           {
            "bin_start": 1.2,
            "bin_end": 1.5,
            "count": 0
           },
           {
            "bin_start": 1.5,
            "bin_end": 1.7999999999999998,
            "count": 0
           },
           {
            "bin_start": 1.7999999999999998,
            "bin_end": 2.1,
            "count": 51
           },
           {
            "bin_start": 2.1,
            "bin_end": 2.4,
            "count": 0
           },
           {
            "bin_start": 2.4,
            "bin_end": 2.6999999999999997,
            "count": 0
           },
           {
            "bin_start": 2.6999999999999997,
            "bin_end": 3,
            "count": 19
           }
          ]
         }
        },
        {
         "name": "Temperature",
         "dtype": "float64",
         "stats": {
          "unique_count": 63,
          "nan_count": 0,
          "min": "32.3",
          "max": "39.5",
          "histogram": [
           {
            "bin_start": 32.3,
            "bin_end": 33.019999999999996,
            "count": 7
           },
           {
            "bin_start": 33.019999999999996,
            "bin_end": 33.739999999999995,
            "count": 14
           },
           {
            "bin_start": 33.739999999999995,
            "bin_end": 34.46,
            "count": 20
           },
           {
            "bin_start": 34.46,
            "bin_end": 35.18,
            "count": 44
           },
           {
            "bin_start": 35.18,
            "bin_end": 35.9,
            "count": 179
           },
           {
            "bin_start": 35.9,
            "bin_end": 36.62,
            "count": 1137
           },
           {
            "bin_start": 36.62,
            "bin_end": 37.339999999999996,
            "count": 501
           },
           {
            "bin_start": 37.339999999999996,
            "bin_end": 38.06,
            "count": 31
           },
           {
            "bin_start": 38.06,
            "bin_end": 38.78,
            "count": 7
           },
           {
            "bin_start": 38.78,
            "bin_end": 39.5,
            "count": 10
           }
          ]
         }
        },
        {
         "name": "Temperate_New",
         "dtype": "float64",
         "stats": {
          "unique_count": 5,
          "nan_count": 0,
          "min": "0.0",
          "max": "3.0",
          "histogram": [
           {
            "bin_start": 0,
            "bin_end": 0.3,
            "count": 1507
           },
           {
            "bin_start": 0.3,
            "bin_end": 0.6,
            "count": 1
           },
           {
            "bin_start": 0.6,
            "bin_end": 0.8999999999999999,
            "count": 0
           },
           {
            "bin_start": 0.8999999999999999,
            "bin_end": 1.2,
            "count": 12
           },
           {
            "bin_start": 1.2,
            "bin_end": 1.5,
            "count": 0
           },
           {
            "bin_start": 1.5,
            "bin_end": 1.7999999999999998,
            "count": 0
           },
           {
            "bin_start": 1.7999999999999998,
            "bin_end": 2.1,
            "count": 346
           },
           {
            "bin_start": 2.1,
            "bin_end": 2.4,
            "count": 0
           },
           {
            "bin_start": 2.4,
            "bin_end": 2.6999999999999997,
            "count": 0
           },
           {
            "bin_start": 2.6999999999999997,
            "bin_end": 3,
            "count": 84
           }
          ]
         }
        },
        {
         "name": "Respiration rate",
         "dtype": "int64",
         "stats": {
          "unique_count": 80,
          "nan_count": 0,
          "min": "6",
          "max": "99",
          "histogram": [
           {
            "bin_start": 6,
            "bin_end": 15.3,
            "count": 199
           },
           {
            "bin_start": 15.3,
            "bin_end": 24.6,
            "count": 1579
           },
           {
            "bin_start": 24.6,
            "bin_end": 33.900000000000006,
            "count": 62
           },
           {
            "bin_start": 33.900000000000006,
            "bin_end": 43.2,
            "count": 9
           },
           {
            "bin_start": 43.2,
            "bin_end": 52.5,
            "count": 9
           },
           {
            "bin_start": 52.5,
            "bin_end": 61.800000000000004,
            "count": 14
           },
           {
            "bin_start": 61.800000000000004,
            "bin_end": 71.10000000000001,
            "count": 24
           },
           {
            "bin_start": 71.10000000000001,
            "bin_end": 80.4,
            "count": 19
           },
           {
            "bin_start": 80.4,
            "bin_end": 89.7,
            "count": 18
           },
           {
            "bin_start": 89.7,
            "bin_end": 99,
            "count": 17
           }
          ]
         }
        },
        {
         "name": "Respiraties_New",
         "dtype": "int64",
         "stats": {
          "unique_count": 3,
          "nan_count": 0,
          "min": "0",
          "max": "3",
          "histogram": [
           {
            "bin_start": 0,
            "bin_end": 0.3,
            "count": 1546
           },
           {
            "bin_start": 0.3,
            "bin_end": 0.6,
            "count": 0
           },
           {
            "bin_start": 0.6,
            "bin_end": 0.8999999999999999,
            "count": 0
           },
           {
            "bin_start": 0.8999999999999999,
            "bin_end": 1.2,
            "count": 0
           },
           {
            "bin_start": 1.2,
            "bin_end": 1.5,
            "count": 0
           },
           {
            "bin_start": 1.5,
            "bin_end": 1.7999999999999998,
            "count": 0
           },
           {
            "bin_start": 1.7999999999999998,
            "bin_end": 2.1,
            "count": 230
           },
           {
            "bin_start": 2.1,
            "bin_end": 2.4,
            "count": 0
           },
           {
            "bin_start": 2.4,
            "bin_end": 2.6999999999999997,
            "count": 0
           },
           {
            "bin_start": 2.6999999999999997,
            "bin_end": 3,
            "count": 174
           }
          ]
         }
        },
        {
         "name": "O2 delivery",
         "dtype": "object",
         "stats": {
          "unique_count": 3,
          "nan_count": 0,
          "categories": [
           {
            "name": "Breathing Air",
            "count": 1942
           },
           {
            "name": "Nasal Cannula",
            "count": 5
           },
           {
            "name": "Other",
            "count": 3
           }
          ]
         }
        },
        {
         "name": "O2 Delivery_New",
         "dtype": "int64",
         "stats": {
          "unique_count": 2,
          "nan_count": 0,
          "min": "0",
          "max": "2",
          "histogram": [
           {
            "bin_start": 0,
            "bin_end": 0.2,
            "count": 1942
           },
           {
            "bin_start": 0.2,
            "bin_end": 0.4,
            "count": 0
           },
           {
            "bin_start": 0.4,
            "bin_end": 0.6000000000000001,
            "count": 0
           },
           {
            "bin_start": 0.6000000000000001,
            "bin_end": 0.8,
            "count": 0
           },
           {
            "bin_start": 0.8,
            "bin_end": 1,
            "count": 0
           },
           {
            "bin_start": 1,
            "bin_end": 1.2000000000000002,
            "count": 0
           },
           {
            "bin_start": 1.2000000000000002,
            "bin_end": 1.4000000000000001,
            "count": 0
           },
           {
            "bin_start": 1.4000000000000001,
            "bin_end": 1.6,
            "count": 0
           },
           {
            "bin_start": 1.6,
            "bin_end": 1.8,
            "count": 0
           },
           {
            "bin_start": 1.8,
            "bin_end": 2,
            "count": 8
           }
          ]
         }
        },
        {
         "name": "Consciousness",
         "dtype": "object",
         "stats": {
          "unique_count": 5,
          "nan_count": 0,
          "categories": [
           {
            "name": "Alert",
            "count": 1870
           },
           {
            "name": "Confusion",
            "count": 41
           },
           {
            "name": "3 others",
            "count": 39
           }
          ]
         }
        },
        {
         "name": "Consciouness New",
         "dtype": "int64",
         "stats": {
          "unique_count": 2,
          "nan_count": 0,
          "min": "0",
          "max": "3",
          "histogram": [
           {
            "bin_start": 0,
            "bin_end": 0.3,
            "count": 1870
           },
           {
            "bin_start": 0.3,
            "bin_end": 0.6,
            "count": 0
           },
           {
            "bin_start": 0.6,
            "bin_end": 0.8999999999999999,
            "count": 0
           },
           {
            "bin_start": 0.8999999999999999,
            "bin_end": 1.2,
            "count": 0
           },
           {
            "bin_start": 1.2,
            "bin_end": 1.5,
            "count": 0
           },
           {
            "bin_start": 1.5,
            "bin_end": 1.7999999999999998,
            "count": 0
           },
           {
            "bin_start": 1.7999999999999998,
            "bin_end": 2.1,
            "count": 0
           },
           {
            "bin_start": 2.1,
            "bin_end": 2.4,
            "count": 0
           },
           {
            "bin_start": 2.4,
            "bin_end": 2.6999999999999997,
            "count": 0
           },
           {
            "bin_start": 2.6999999999999997,
            "bin_end": 3,
            "count": 80
           }
          ]
         }
        },
        {
         "name": "Scale 2 in use?",
         "dtype": "int64",
         "stats": {
          "unique_count": 1,
          "nan_count": 0,
          "min": "0",
          "max": "0",
          "histogram": [
           {
            "bin_start": -0.5,
            "bin_end": -0.4,
            "count": 0
           },
           {
            "bin_start": -0.4,
            "bin_end": -0.3,
            "count": 0
           },
           {
            "bin_start": -0.3,
            "bin_end": -0.19999999999999996,
            "count": 0
           },
           {
            "bin_start": -0.19999999999999996,
            "bin_end": -0.09999999999999998,
            "count": 0
           },
           {
            "bin_start": -0.09999999999999998,
            "bin_end": 0,
            "count": 0
           },
           {
            "bin_start": 0,
            "bin_end": 0.10000000000000009,
            "count": 1950
           },
           {
            "bin_start": 0.10000000000000009,
            "bin_end": 0.20000000000000007,
            "count": 0
           },
           {
            "bin_start": 0.20000000000000007,
            "bin_end": 0.30000000000000004,
            "count": 0
           },
           {
            "bin_start": 0.30000000000000004,
            "bin_end": 0.4,
            "count": 0
           },
           {
            "bin_start": 0.4,
            "bin_end": 0.5,
            "count": 0
           }
          ]
         }
        },
        {
         "name": "Care Home ID_cleaned",
         "dtype": "object",
         "stats": {
          "unique_count": 33,
          "nan_count": 0,
          "categories": [
           {
            "name": "10230",
            "count": 295
           },
           {
            "name": "10080",
            "count": 263
           },
           {
            "name": "31 others",
            "count": 1392
           }
          ]
         }
        },
        {
         "name": "year",
         "dtype": "int64",
         "stats": {
          "unique_count": 4,
          "nan_count": 0,
          "min": "2022",
          "max": "2025",
          "histogram": [
           {
            "bin_start": 2022,
            "bin_end": 2022.3,
            "count": 116
           },
           {
            "bin_start": 2022.3,
            "bin_end": 2022.6,
            "count": 0
           },
           {
            "bin_start": 2022.6,
            "bin_end": 2022.9,
            "count": 0
           },
           {
            "bin_start": 2022.9,
            "bin_end": 2023.2,
            "count": 469
           },
           {
            "bin_start": 2023.2,
            "bin_end": 2023.5,
            "count": 0
           },
           {
            "bin_start": 2023.5,
            "bin_end": 2023.8,
            "count": 0
           },
           {
            "bin_start": 2023.8,
            "bin_end": 2024.1,
            "count": 859
           },
           {
            "bin_start": 2024.1,
            "bin_end": 2024.4,
            "count": 0
           },
           {
            "bin_start": 2024.4,
            "bin_end": 2024.7,
            "count": 0
           },
           {
            "bin_start": 2024.7,
            "bin_end": 2025,
            "count": 506
           }
          ]
         }
        },
        {
         "name": "month",
         "dtype": "int64",
         "stats": {
          "unique_count": 12,
          "nan_count": 0,
          "min": "1",
          "max": "12",
          "histogram": [
           {
            "bin_start": 1,
            "bin_end": 2.1,
            "count": 487
           },
           {
            "bin_start": 2.1,
            "bin_end": 3.2,
            "count": 317
           },
           {
            "bin_start": 3.2,
            "bin_end": 4.300000000000001,
            "count": 112
           },
           {
            "bin_start": 4.300000000000001,
            "bin_end": 5.4,
            "count": 55
           },
           {
            "bin_start": 5.4,
            "bin_end": 6.5,
            "count": 91
           },
           {
            "bin_start": 6.5,
            "bin_end": 7.6000000000000005,
            "count": 51
           },
           {
            "bin_start": 7.6000000000000005,
            "bin_end": 8.700000000000001,
            "count": 105
           },
           {
            "bin_start": 8.700000000000001,
            "bin_end": 9.8,
            "count": 121
           },
           {
            "bin_start": 9.8,
            "bin_end": 10.9,
            "count": 150
           },
           {
            "bin_start": 10.9,
            "bin_end": 12,
            "count": 461
           }
          ]
         }
        },
        {
         "name": "quarter",
         "dtype": "int64",
         "stats": {
          "unique_count": 4,
          "nan_count": 0,
          "min": "1",
          "max": "4",
          "histogram": [
           {
            "bin_start": 1,
            "bin_end": 1.3,
            "count": 804
           },
           {
            "bin_start": 1.3,
            "bin_end": 1.6,
            "count": 0
           },
           {
            "bin_start": 1.6,
            "bin_end": 1.9,
            "count": 0
           },
           {
            "bin_start": 1.9,
            "bin_end": 2.2,
            "count": 258
           },
           {
            "bin_start": 2.2,
            "bin_end": 2.5,
            "count": 0
           },
           {
            "bin_start": 2.5,
            "bin_end": 2.8,
            "count": 0
           },
           {
            "bin_start": 2.8,
            "bin_end": 3.1,
            "count": 277
           },
           {
            "bin_start": 3.1,
            "bin_end": 3.4,
            "count": 0
           },
           {
            "bin_start": 3.4,
            "bin_end": 3.6999999999999997,
            "count": 0
           },
           {
            "bin_start": 3.6999999999999997,
            "bin_end": 4,
            "count": 611
           }
          ]
         }
        },
        {
         "name": "week",
         "dtype": "int64",
         "stats": {
          "unique_count": 52,
          "nan_count": 0,
          "min": "1",
          "max": "52",
          "histogram": [
           {
            "bin_start": 1,
            "bin_end": 6.1,
            "count": 402
           },
           {
            "bin_start": 6.1,
            "bin_end": 11.2,
            "count": 309
           },
           {
            "bin_start": 11.2,
            "bin_end": 16.299999999999997,
            "count": 202
           },
           {
            "bin_start": 16.299999999999997,
            "bin_end": 21.4,
            "count": 67
           },
           {
            "bin_start": 21.4,
            "bin_end": 26.5,
            "count": 92
           },
           {
            "bin_start": 26.5,
            "bin_end": 31.599999999999998,
            "count": 88
           },
           {
            "bin_start": 31.599999999999998,
            "bin_end": 36.699999999999996,
            "count": 154
           },
           {
            "bin_start": 36.699999999999996,
            "bin_end": 41.8,
            "count": 152
           },
           {
            "bin_start": 41.8,
            "bin_end": 46.9,
            "count": 147
           },
           {
            "bin_start": 46.9,
            "bin_end": 52,
            "count": 337
           }
          ]
         }
        },
        {
         "name": "Clinical_Concern_Num",
         "dtype": "int64",
         "stats": {
          "unique_count": 2,
          "nan_count": 0,
          "min": "0",
          "max": "1",
          "histogram": [
           {
            "bin_start": 0,
            "bin_end": 0.1,
            "count": 1270
           },
           {
            "bin_start": 0.1,
            "bin_end": 0.2,
            "count": 0
           },
           {
            "bin_start": 0.2,
            "bin_end": 0.30000000000000004,
            "count": 0
           },
           {
            "bin_start": 0.30000000000000004,
            "bin_end": 0.4,
            "count": 0
           },
           {
            "bin_start": 0.4,
            "bin_end": 0.5,
            "count": 0
           },
           {
            "bin_start": 0.5,
            "bin_end": 0.6000000000000001,
            "count": 0
           },
           {
            "bin_start": 0.6000000000000001,
            "bin_end": 0.7000000000000001,
            "count": 0
           },
           {
            "bin_start": 0.7000000000000001,
            "bin_end": 0.8,
            "count": 0
           },
           {
            "bin_start": 0.8,
            "bin_end": 0.9,
            "count": 0
           },
           {
            "bin_start": 0.9,
            "bin_end": 1,
            "count": 680
           }
          ]
         }
        },
        {
         "name": "NEWS2_Category",
         "dtype": "int64",
         "stats": {
          "unique_count": 4,
          "nan_count": 0,
          "min": "0",
          "max": "3",
          "histogram": [
           {
            "bin_start": 0,
            "bin_end": 0.3,
            "count": 413
           },
           {
            "bin_start": 0.3,
            "bin_end": 0.6,
            "count": 0
           },
           {
            "bin_start": 0.6,
            "bin_end": 0.8999999999999999,
            "count": 0
           },
           {
            "bin_start": 0.8999999999999999,
            "bin_end": 1.2,
            "count": 1231
           },
           {
            "bin_start": 1.2,
            "bin_end": 1.5,
            "count": 0
           },
           {
            "bin_start": 1.5,
            "bin_end": 1.7999999999999998,
            "count": 0
           },
           {
            "bin_start": 1.7999999999999998,
            "bin_end": 2.1,
            "count": 204
           },
           {
            "bin_start": 2.1,
            "bin_end": 2.4,
            "count": 0
           },
           {
            "bin_start": 2.4,
            "bin_end": 2.6999999999999997,
            "count": 0
           },
           {
            "bin_start": 2.6999999999999997,
            "bin_end": 3,
            "count": 102
           }
          ]
         }
        },
        {
         "name": "_deepnote_index_column",
         "dtype": "int64"
        }
       ],
       "rows": [
        {
         "Date/Time": "2022-11-13 10:57:00",
         "Care Home ID": "1031.0",
         "Care Home Name": "Harvey House",
         "Type": "Residential",
         "Area": "LC",
         "Phase": 1,
         "Postal address": "Church lane, Barwell, leicester",
         "Post Code": "LE9 8DG",
         "GP": "0",
         "GP Practice": "0",
         "GP Postcode": "0",
         "Type of service": "Residential",
         "No of Beds": 44,
         "Miles from THA - LE12 8FE": 15,
         "Asset number": "A3091",
         "Amount of Asset": 1,
         "Weekly fee": "0",
         "Provider company": "Lccl",
         "Clinical concern?": "Yes",
         "NEWS2 score": 6,
         "New2 Score_New": 6,
         "H=I?": 1,
         "O2": 93,
         "O2_New": 2,
         "Systolic": 98,
         "Systolic_New": 2,
         "Diasolic": 60,
         "Pulse": 69,
         "Pulse_New": 0,
         "Temperature": 36.4,
         "Temperate_New": 0,
         "Respiration rate": 21,
         "Respiraties_New": 2,
         "O2 delivery": "Breathing Air",
         "O2 Delivery_New": 0,
         "Consciousness": "Alert",
         "Consciouness New": 0,
         "Scale 2 in use?": 0,
         "Care Home ID_cleaned": "10310",
         "year": 2022,
         "month": 11,
         "quarter": 4,
         "week": 45,
         "Clinical_Concern_Num": 1,
         "NEWS2_Category": 2,
         "_deepnote_index_column": 0
        },
        {
         "Date/Time": "2022-11-13 11:15:00",
         "Care Home ID": "1031.0",
         "Care Home Name": "Harvey House",
         "Type": "Residential",
         "Area": "LC",
         "Phase": 1,
         "Postal address": "Church lane, Barwell, leicester",
         "Post Code": "LE9 8DG",
         "GP": "0",
         "GP Practice": "0",
         "GP Postcode": "0",
         "Type of service": "Residential",
         "No of Beds": 44,
         "Miles from THA - LE12 8FE": 15,
         "Asset number": "A3091",
         "Amount of Asset": 1,
         "Weekly fee": "0",
         "Provider company": "Lccl",
         "Clinical concern?": "No",
         "NEWS2 score": 3,
         "New2 Score_New": 3,
         "H=I?": 1,
         "O2": 96,
         "O2_New": 0,
         "Systolic": 141,
         "Systolic_New": 0,
         "Diasolic": 88,
         "Pulse": 101,
         "Pulse_New": 1,
         "Temperature": 36.9,
         "Temperate_New": 0,
         "Respiration rate": 24,
         "Respiraties_New": 2,
         "O2 delivery": "Breathing Air",
         "O2 Delivery_New": 0,
         "Consciousness": "Alert",
         "Consciouness New": 0,
         "Scale 2 in use?": 0,
         "Care Home ID_cleaned": "10310",
         "year": 2022,
         "month": 11,
         "quarter": 4,
         "week": 45,
         "Clinical_Concern_Num": 0,
         "NEWS2_Category": 1,
         "_deepnote_index_column": 1
        },
        {
         "Date/Time": "2022-11-13 11:33:00",
         "Care Home ID": "1031.0",
         "Care Home Name": "Harvey House",
         "Type": "Residential",
         "Area": "LC",
         "Phase": 1,
         "Postal address": "Church lane, Barwell, leicester",
         "Post Code": "LE9 8DG",
         "GP": "0",
         "GP Practice": "0",
         "GP Postcode": "0",
         "Type of service": "Residential",
         "No of Beds": 44,
         "Miles from THA - LE12 8FE": 15,
         "Asset number": "A3091",
         "Amount of Asset": 1,
         "Weekly fee": "0",
         "Provider company": "Lccl",
         "Clinical concern?": "Yes",
         "NEWS2 score": 5,
         "New2 Score_New": 5,
         "H=I?": 1,
         "O2": 92,
         "O2_New": 2,
         "Systolic": 121,
         "Systolic_New": 0,
         "Diasolic": 66,
         "Pulse": 63,
         "Pulse_New": 0,
         "Temperature": 36.7,
         "Temperate_New": 0,
         "Respiration rate": 34,
         "Respiraties_New": 3,
         "O2 delivery": "Breathing Air",
         "O2 Delivery_New": 0,
         "Consciousness": "Alert",
         "Consciouness New": 0,
         "Scale 2 in use?": 0,
         "Care Home ID_cleaned": "10310",
         "year": 2022,
         "month": 11,
         "quarter": 4,
         "week": 45,
         "Clinical_Concern_Num": 1,
         "NEWS2_Category": 2,
         "_deepnote_index_column": 2
        },
        {
         "Date/Time": "2022-11-13 12:01:00",
         "Care Home ID": "1031.0",
         "Care Home Name": "Harvey House",
         "Type": "Residential",
         "Area": "LC",
         "Phase": 1,
         "Postal address": "Church lane, Barwell, leicester",
         "Post Code": "LE9 8DG",
         "GP": "0",
         "GP Practice": "0",
         "GP Postcode": "0",
         "Type of service": "Residential",
         "No of Beds": 44,
         "Miles from THA - LE12 8FE": 15,
         "Asset number": "A3091",
         "Amount of Asset": 1,
         "Weekly fee": "0",
         "Provider company": "Lccl",
         "Clinical concern?": "Yes",
         "NEWS2 score": 7,
         "New2 Score_New": 7,
         "H=I?": 1,
         "O2": 92,
         "O2_New": 2,
         "Systolic": 94,
         "Systolic_New": 2,
         "Diasolic": 63,
         "Pulse": 65,
         "Pulse_New": 0,
         "Temperature": 36.6,
         "Temperate_New": 0,
         "Respiration rate": 25,
         "Respiraties_New": 3,
         "O2 delivery": "Breathing Air",
         "O2 Delivery_New": 0,
         "Consciousness": "Alert",
         "Consciouness New": 0,
         "Scale 2 in use?": 0,
         "Care Home ID_cleaned": "10310",
         "year": 2022,
         "month": 11,
         "quarter": 4,
         "week": 45,
         "Clinical_Concern_Num": 1,
         "NEWS2_Category": 3,
         "_deepnote_index_column": 3
        },
        {
         "Date/Time": "2022-11-13 12:16:00",
         "Care Home ID": "1031.0",
         "Care Home Name": "Harvey House",
         "Type": "Residential",
         "Area": "LC",
         "Phase": 1,
         "Postal address": "Church lane, Barwell, leicester",
         "Post Code": "LE9 8DG",
         "GP": "0",
         "GP Practice": "0",
         "GP Postcode": "0",
         "Type of service": "Residential",
         "No of Beds": 44,
         "Miles from THA - LE12 8FE": 15,
         "Asset number": "A3091",
         "Amount of Asset": 1,
         "Weekly fee": "0",
         "Provider company": "Lccl",
         "Clinical concern?": "No",
         "NEWS2 score": 3,
         "New2 Score_New": 3,
         "H=I?": 1,
         "O2": 91,
         "O2_New": 3,
         "Systolic": 140,
         "Systolic_New": 0,
         "Diasolic": 73,
         "Pulse": 54,
         "Pulse_New": 0,
         "Temperature": 37,
         "Temperate_New": 0,
         "Respiration rate": 18,
         "Respiraties_New": 0,
         "O2 delivery": "Breathing Air",
         "O2 Delivery_New": 0,
         "Consciousness": "Alert",
         "Consciouness New": 0,
         "Scale 2 in use?": 0,
         "Care Home ID_cleaned": "10310",
         "year": 2022,
         "month": 11,
         "quarter": 4,
         "week": 45,
         "Clinical_Concern_Num": 0,
         "NEWS2_Category": 1,
         "_deepnote_index_column": 4
        },
        {
         "Date/Time": "2022-11-13 12:33:00",
         "Care Home ID": "1031.0",
         "Care Home Name": "Harvey House",
         "Type": "Residential",
         "Area": "LC",
         "Phase": 1,
         "Postal address": "Church lane, Barwell, leicester",
         "Post Code": "LE9 8DG",
         "GP": "0",
         "GP Practice": "0",
         "GP Postcode": "0",
         "Type of service": "Residential",
         "No of Beds": 44,
         "Miles from THA - LE12 8FE": 15,
         "Asset number": "A3091",
         "Amount of Asset": 1,
         "Weekly fee": "0",
         "Provider company": "Lccl",
         "Clinical concern?": "Yes",
         "NEWS2 score": 4,
         "New2 Score_New": 4,
         "H=I?": 1,
         "O2": 96,
         "O2_New": 0,
         "Systolic": 145,
         "Systolic_New": 0,
         "Diasolic": 92,
         "Pulse": 100,
         "Pulse_New": 1,
         "Temperature": 37.1,
         "Temperate_New": 0,
         "Respiration rate": 19,
         "Respiraties_New": 0,
         "O2 delivery": "Breathing Air",
         "O2 Delivery_New": 0,
         "Consciousness": "Responsive to verbal Stimulus",
         "Consciouness New": 3,
         "Scale 2 in use?": 0,
         "Care Home ID_cleaned": "10310",
         "year": 2022,
         "month": 11,
         "quarter": 4,
         "week": 45,
         "Clinical_Concern_Num": 1,
         "NEWS2_Category": 1,
         "_deepnote_index_column": 5
        },
        {
         "Date/Time": "2022-11-13 13:22:00",
         "Care Home ID": "1031.0",
         "Care Home Name": "Harvey House",
         "Type": "Residential",
         "Area": "LC",
         "Phase": 1,
         "Postal address": "Church lane, Barwell, leicester",
         "Post Code": "LE9 8DG",
         "GP": "0",
         "GP Practice": "0",
         "GP Postcode": "0",
         "Type of service": "Residential",
         "No of Beds": 44,
         "Miles from THA - LE12 8FE": 15,
         "Asset number": "A3091",
         "Amount of Asset": 1,
         "Weekly fee": "0",
         "Provider company": "Lccl",
         "Clinical concern?": "Yes",
         "NEWS2 score": 4,
         "New2 Score_New": 4,
         "H=I?": 1,
         "O2": 94,
         "O2_New": 1,
         "Systolic": 106,
         "Systolic_New": 1,
         "Diasolic": 66,
         "Pulse": 66,
         "Pulse_New": 0,
         "Temperature": 36.2,
         "Temperate_New": 0,
         "Respiration rate": 21,
         "Respiraties_New": 2,
         "O2 delivery": "Breathing Air",
         "O2 Delivery_New": 0,
         "Consciousness": "Alert",
         "Consciouness New": 0,
         "Scale 2 in use?": 0,
         "Care Home ID_cleaned": "10310",
         "year": 2022,
         "month": 11,
         "quarter": 4,
         "week": 45,
         "Clinical_Concern_Num": 1,
         "NEWS2_Category": 1,
         "_deepnote_index_column": 6
        },
        {
         "Date/Time": "2022-11-16 13:54:00",
         "Care Home ID": "1031.0",
         "Care Home Name": "Harvey House",
         "Type": "Residential",
         "Area": "LC",
         "Phase": 1,
         "Postal address": "Church lane, Barwell, leicester",
         "Post Code": "LE9 8DG",
         "GP": "0",
         "GP Practice": "0",
         "GP Postcode": "0",
         "Type of service": "Residential",
         "No of Beds": 44,
         "Miles from THA - LE12 8FE": 15,
         "Asset number": "A3091",
         "Amount of Asset": 1,
         "Weekly fee": "0",
         "Provider company": "Lccl",
         "Clinical concern?": "Yes",
         "NEWS2 score": 5,
         "New2 Score_New": 5,
         "H=I?": 1,
         "O2": 84,
         "O2_New": 3,
         "Systolic": 115,
         "Systolic_New": 0,
         "Diasolic": 66,
         "Pulse": 65,
         "Pulse_New": 0,
         "Temperature": 36.5,
         "Temperate_New": 0,
         "Respiration rate": 21,
         "Respiraties_New": 2,
         "O2 delivery": "Breathing Air",
         "O2 Delivery_New": 0,
         "Consciousness": "Alert",
         "Consciouness New": 0,
         "Scale 2 in use?": 0,
         "Care Home ID_cleaned": "10310",
         "year": 2022,
         "month": 11,
         "quarter": 4,
         "week": 46,
         "Clinical_Concern_Num": 1,
         "NEWS2_Category": 2,
         "_deepnote_index_column": 7
        },
        {
         "Date/Time": "2022-11-21 11:57:00",
         "Care Home ID": "1031.0",
         "Care Home Name": "Harvey House",
         "Type": "Residential",
         "Area": "LC",
         "Phase": 1,
         "Postal address": "Church lane, Barwell, leicester",
         "Post Code": "LE9 8DG",
         "GP": "0",
         "GP Practice": "0",
         "GP Postcode": "0",
         "Type of service": "Residential",
         "No of Beds": 44,
         "Miles from THA - LE12 8FE": 15,
         "Asset number": "A3091",
         "Amount of Asset": 1,
         "Weekly fee": "0",
         "Provider company": "Lccl",
         "Clinical concern?": "Yes",
         "NEWS2 score": 5,
         "New2 Score_New": 5,
         "H=I?": 1,
         "O2": 92,
         "O2_New": 2,
         "Systolic": 152,
         "Systolic_New": 0,
         "Diasolic": 108,
         "Pulse": 134,
         "Pulse_New": 3,
         "Temperature": 36.2,
         "Temperate_New": 0,
         "Respiration rate": 18,
         "Respiraties_New": 0,
         "O2 delivery": "Breathing Air",
         "O2 Delivery_New": 0,
         "Consciousness": "Alert",
         "Consciouness New": 0,
         "Scale 2 in use?": 0,
         "Care Home ID_cleaned": "10310",
         "year": 2022,
         "month": 11,
         "quarter": 4,
         "week": 47,
         "Clinical_Concern_Num": 1,
         "NEWS2_Category": 2,
         "_deepnote_index_column": 8
        },
        {
         "Date/Time": "2022-11-22 11:52:00",
         "Care Home ID": "1023.0",
         "Care Home Name": "Goodwood orchard",
         "Type": "Residential",
         "Area": "LC",
         "Phase": 1,
         "Postal address": "304, Uppingham Road, Leicester",
         "Post Code": "LE5 2BE",
         "GP": "0",
         "GP Practice": "0",
         "GP Postcode": "0",
         "Type of service": "Residential",
         "No of Beds": 13,
         "Miles from THA - LE12 8FE": 9,
         "Asset number": "A3083",
         "Amount of Asset": 1,
         "Weekly fee": "700",
         "Provider company": "Helping Hand Care Home Ltd",
         "Clinical concern?": "Yes",
         "NEWS2 score": 0,
         "New2 Score_New": 0,
         "H=I?": 1,
         "O2": 98,
         "O2_New": 0,
         "Systolic": 168,
         "Systolic_New": 0,
         "Diasolic": 79,
         "Pulse": 72,
         "Pulse_New": 0,
         "Temperature": 36.2,
         "Temperate_New": 0,
         "Respiration rate": 17,
         "Respiraties_New": 0,
         "O2 delivery": "Breathing Air",
         "O2 Delivery_New": 0,
         "Consciousness": "Alert",
         "Consciouness New": 0,
         "Scale 2 in use?": 0,
         "Care Home ID_cleaned": "10230",
         "year": 2022,
         "month": 11,
         "quarter": 4,
         "week": 47,
         "Clinical_Concern_Num": 1,
         "NEWS2_Category": 0,
         "_deepnote_index_column": 9
        }
       ],
       "type": "dataframe"
      },
      "text/plain": "               Date/Time Care Home ID        Care Home Name         Type Area  \\\n0    2022-11-13 10:57:00       1031.0          Harvey House  Residential   LC   \n1    2022-11-13 11:15:00       1031.0          Harvey House  Residential   LC   \n2    2022-11-13 11:33:00       1031.0          Harvey House  Residential   LC   \n3    2022-11-13 12:01:00       1031.0          Harvey House  Residential   LC   \n4    2022-11-13 12:16:00       1031.0          Harvey House  Residential   LC   \n...                  ...          ...                   ...          ...  ...   \n1968 2025-03-26 09:56:00       1023.0      Goodwood orchard  Residential   LC   \n1969 2025-03-26 13:20:00       1069.0                     0           MH  LCC   \n1970 2025-03-26 16:11:00       1069.0                     0           MH  LCC   \n1971 2025-03-26 19:07:00       1069.0                     0           MH  LCC   \n1972 2025-03-26 19:31:00       1060.0  Woodleigh Healthcare           LD   LC   \n\n      Phase                                   Postal address Post Code  \\\n0         1                  Church lane, Barwell, leicester   LE9 8DG   \n1         1                  Church lane, Barwell, leicester   LE9 8DG   \n2         1                  Church lane, Barwell, leicester   LE9 8DG   \n3         1                  Church lane, Barwell, leicester   LE9 8DG   \n4         1                  Church lane, Barwell, leicester   LE9 8DG   \n...     ...                                              ...       ...   \n1968      1                   304, Uppingham Road, Leicester   LE5 2BE   \n1969      2  Holmwood Meadows, 15a Holmwood Drive, Leicester   LE3 9LG   \n1970      2  Holmwood Meadows, 15a Holmwood Drive, Leicester   LE3 9LG   \n1971      2  Holmwood Meadows, 15a Holmwood Drive, Leicester   LE3 9LG   \n1972      2               356, Victoria Park Road, Leicester   LE2 1XF   \n\n                      GP         GP Practice  ... Consciousness  \\\n0                      0                   0  ...         Alert   \n1                      0                   0  ...         Alert   \n2                      0                   0  ...         Alert   \n3                      0                   0  ...         Alert   \n4                      0                   0  ...         Alert   \n...                  ...                 ...  ...           ...   \n1968                   0                   0  ...         Alert   \n1969  Oakmeadow Surgery   Oakmeadow Surgery   ...         Alert   \n1970  Oakmeadow Surgery   Oakmeadow Surgery   ...         Alert   \n1971  Oakmeadow Surgery   Oakmeadow Surgery   ...         Alert   \n1972      No specific GP      No specific GP  ...         Alert   \n\n     Consciouness New  Scale 2 in use?  Care Home ID_cleaned  year  month  \\\n0                   0                0                 10310  2022     11   \n1                   0                0                 10310  2022     11   \n2                   0                0                 10310  2022     11   \n3                   0                0                 10310  2022     11   \n4                   0                0                 10310  2022     11   \n...               ...              ...                   ...   ...    ...   \n1968                0                0                 10230  2025      3   \n1969                0                0                 10690  2025      3   \n1970                0                0                 10690  2025      3   \n1971                0                0                 10690  2025      3   \n1972                0                0                 10600  2025      3   \n\n     quarter week Clinical_Concern_Num  NEWS2_Category  \n0          4   45                    1               2  \n1          4   45                    0               1  \n2          4   45                    1               2  \n3          4   45                    1               3  \n4          4   45                    0               1  \n...      ...  ...                  ...             ...  \n1968       1   13                    0               1  \n1969       1   13                    1               1  \n1970       1   13                    1               3  \n1971       1   13                    0               1  \n1972       1   13                    1               1  \n\n[1950 rows x 45 columns]",
      "text/html": "<div>\n<style scoped>\n    .dataframe tbody tr th:only-of-type {\n        vertical-align: middle;\n    }\n\n    .dataframe tbody tr th {\n        vertical-align: top;\n    }\n\n    .dataframe thead th {\n        text-align: right;\n    }\n</style>\n<table border=\"1\" class=\"dataframe\">\n  <thead>\n    <tr style=\"text-align: right;\">\n      <th></th>\n      <th>Date/Time</th>\n      <th>Care Home ID</th>\n      <th>Care Home Name</th>\n      <th>Type</th>\n      <th>Area</th>\n      <th>Phase</th>\n      <th>Postal address</th>\n      <th>Post Code</th>\n      <th>GP</th>\n      <th>GP Practice</th>\n      <th>...</th>\n      <th>Consciousness</th>\n      <th>Consciouness New</th>\n      <th>Scale 2 in use?</th>\n      <th>Care Home ID_cleaned</th>\n      <th>year</th>\n      <th>month</th>\n      <th>quarter</th>\n      <th>week</th>\n      <th>Clinical_Concern_Num</th>\n      <th>NEWS2_Category</th>\n    </tr>\n  </thead>\n  <tbody>\n    <tr>\n      <th>0</th>\n      <td>2022-11-13 10:57:00</td>\n      <td>1031.0</td>\n      <td>Harvey House</td>\n      <td>Residential</td>\n      <td>LC</td>\n      <td>1</td>\n      <td>Church lane, Barwell, leicester</td>\n      <td>LE9 8DG</td>\n      <td>0</td>\n      <td>0</td>\n      <td>...</td>\n      <td>Alert</td>\n      <td>0</td>\n      <td>0</td>\n      <td>10310</td>\n      <td>2022</td>\n      <td>11</td>\n      <td>4</td>\n      <td>45</td>\n      <td>1</td>\n      <td>2</td>\n    </tr>\n    <tr>\n      <th>1</th>\n      <td>2022-11-13 11:15:00</td>\n      <td>1031.0</td>\n      <td>Harvey House</td>\n      <td>Residential</td>\n      <td>LC</td>\n      <td>1</td>\n      <td>Church lane, Barwell, leicester</td>\n      <td>LE9 8DG</td>\n      <td>0</td>\n      <td>0</td>\n      <td>...</td>\n      <td>Alert</td>\n      <td>0</td>\n      <td>0</td>\n      <td>10310</td>\n      <td>2022</td>\n      <td>11</td>\n      <td>4</td>\n      <td>45</td>\n      <td>0</td>\n      <td>1</td>\n    </tr>\n    <tr>\n      <th>2</th>\n      <td>2022-11-13 11:33:00</td>\n      <td>1031.0</td>\n      <td>Harvey House</td>\n      <td>Residential</td>\n      <td>LC</td>\n      <td>1</td>\n      <td>Church lane, Barwell, leicester</td>\n      <td>LE9 8DG</td>\n      <td>0</td>\n      <td>0</td>\n      <td>...</td>\n      <td>Alert</td>\n      <td>0</td>\n      <td>0</td>\n      <td>10310</td>\n      <td>2022</td>\n      <td>11</td>\n      <td>4</td>\n      <td>45</td>\n      <td>1</td>\n      <td>2</td>\n    </tr>\n    <tr>\n      <th>3</th>\n      <td>2022-11-13 12:01:00</td>\n      <td>1031.0</td>\n      <td>Harvey House</td>\n      <td>Residential</td>\n      <td>LC</td>\n      <td>1</td>\n      <td>Church lane, Barwell, leicester</td>\n      <td>LE9 8DG</td>\n      <td>0</td>\n      <td>0</td>\n      <td>...</td>\n      <td>Alert</td>\n      <td>0</td>\n      <td>0</td>\n      <td>10310</td>\n      <td>2022</td>\n      <td>11</td>\n      <td>4</td>\n      <td>45</td>\n      <td>1</td>\n      <td>3</td>\n    </tr>\n    <tr>\n      <th>4</th>\n      <td>2022-11-13 12:16:00</td>\n      <td>1031.0</td>\n      <td>Harvey House</td>\n      <td>Residential</td>\n      <td>LC</td>\n      <td>1</td>\n      <td>Church lane, Barwell, leicester</td>\n      <td>LE9 8DG</td>\n      <td>0</td>\n      <td>0</td>\n      <td>...</td>\n      <td>Alert</td>\n      <td>0</td>\n      <td>0</td>\n      <td>10310</td>\n      <td>2022</td>\n      <td>11</td>\n      <td>4</td>\n      <td>45</td>\n      <td>0</td>\n      <td>1</td>\n    </tr>\n    <tr>\n      <th>...</th>\n      <td>...</td>\n      <td>...</td>\n      <td>...</td>\n      <td>...</td>\n      <td>...</td>\n      <td>...</td>\n      <td>...</td>\n      <td>...</td>\n      <td>...</td>\n      <td>...</td>\n      <td>...</td>\n      <td>...</td>\n      <td>...</td>\n      <td>...</td>\n      <td>...</td>\n      <td>...</td>\n      <td>...</td>\n      <td>...</td>\n      <td>...</td>\n      <td>...</td>\n      <td>...</td>\n    </tr>\n    <tr>\n      <th>1968</th>\n      <td>2025-03-26 09:56:00</td>\n      <td>1023.0</td>\n      <td>Goodwood orchard</td>\n      <td>Residential</td>\n      <td>LC</td>\n      <td>1</td>\n      <td>304, Uppingham Road, Leicester</td>\n      <td>LE5 2BE</td>\n      <td>0</td>\n      <td>0</td>\n      <td>...</td>\n      <td>Alert</td>\n      <td>0</td>\n      <td>0</td>\n      <td>10230</td>\n      <td>2025</td>\n      <td>3</td>\n      <td>1</td>\n      <td>13</td>\n      <td>0</td>\n      <td>1</td>\n    </tr>\n    <tr>\n      <th>1969</th>\n      <td>2025-03-26 13:20:00</td>\n      <td>1069.0</td>\n      <td>0</td>\n      <td>MH</td>\n      <td>LCC</td>\n      <td>2</td>\n      <td>Holmwood Meadows, 15a Holmwood Drive, Leicester</td>\n      <td>LE3 9LG</td>\n      <td>Oakmeadow Surgery</td>\n      <td>Oakmeadow Surgery</td>\n      <td>...</td>\n      <td>Alert</td>\n      <td>0</td>\n      <td>0</td>\n      <td>10690</td>\n      <td>2025</td>\n      <td>3</td>\n      <td>1</td>\n      <td>13</td>\n      <td>1</td>\n      <td>1</td>\n    </tr>\n    <tr>\n      <th>1970</th>\n      <td>2025-03-26 16:11:00</td>\n      <td>1069.0</td>\n      <td>0</td>\n      <td>MH</td>\n      <td>LCC</td>\n      <td>2</td>\n      <td>Holmwood Meadows, 15a Holmwood Drive, Leicester</td>\n      <td>LE3 9LG</td>\n      <td>Oakmeadow Surgery</td>\n      <td>Oakmeadow Surgery</td>\n      <td>...</td>\n      <td>Alert</td>\n      <td>0</td>\n      <td>0</td>\n      <td>10690</td>\n      <td>2025</td>\n      <td>3</td>\n      <td>1</td>\n      <td>13</td>\n      <td>1</td>\n      <td>3</td>\n    </tr>\n    <tr>\n      <th>1971</th>\n      <td>2025-03-26 19:07:00</td>\n      <td>1069.0</td>\n      <td>0</td>\n      <td>MH</td>\n      <td>LCC</td>\n      <td>2</td>\n      <td>Holmwood Meadows, 15a Holmwood Drive, Leicester</td>\n      <td>LE3 9LG</td>\n      <td>Oakmeadow Surgery</td>\n      <td>Oakmeadow Surgery</td>\n      <td>...</td>\n      <td>Alert</td>\n      <td>0</td>\n      <td>0</td>\n      <td>10690</td>\n      <td>2025</td>\n      <td>3</td>\n      <td>1</td>\n      <td>13</td>\n      <td>0</td>\n      <td>1</td>\n    </tr>\n    <tr>\n      <th>1972</th>\n      <td>2025-03-26 19:31:00</td>\n      <td>1060.0</td>\n      <td>Woodleigh Healthcare</td>\n      <td>LD</td>\n      <td>LC</td>\n      <td>2</td>\n      <td>356, Victoria Park Road, Leicester</td>\n      <td>LE2 1XF</td>\n      <td>No specific GP</td>\n      <td>No specific GP</td>\n      <td>...</td>\n      <td>Alert</td>\n      <td>0</td>\n      <td>0</td>\n      <td>10600</td>\n      <td>2025</td>\n      <td>3</td>\n      <td>1</td>\n      <td>13</td>\n      <td>1</td>\n      <td>1</td>\n    </tr>\n  </tbody>\n</table>\n<p>1950 rows × 45 columns</p>\n</div>"
     },
     "metadata": {}
    }
   ],
   "outputs_reference": "s3:deepnote-cell-outputs-production/c4c68e09-73de-40bc-b1c2-5a20dfc806dd",
   "content_dependencies": null
  },
  {
   "cell_type": "code",
   "metadata": {
    "source_hash": "a82cd684",
    "execution_start": 1748499523489,
    "execution_millis": 2,
    "execution_context_id": "a15ab8b0-77a9-4bd5-b016-edb7db1b92cf",
    "cell_id": "a4e12a21c3954ab1a3d5bf50f3ddda04",
    "deepnote_cell_type": "code"
   },
   "source": [
    "df_single_care_home_1023"
   ],
   "block_group": "8eaaf51e2e554a40a6738ff1a73055e1",
   "execution_count": 198,
   "outputs": [
    {
     "output_type": "execute_result",
     "execution_count": 198,
     "data": {
      "application/vnd.deepnote.dataframe.v3+json": {
       "column_count": 45,
       "row_count": 295,
       "columns": [
        {
         "name": "Date/Time",
         "dtype": "datetime64[ns]",
         "stats": {
          "unique_count": 294,
          "nan_count": 0,
          "min": "2022-11-22 11:52:00",
          "max": "2025-03-26 09:56:00",
          "histogram": [
           {
            "bin_start": 1669117920000000000,
            "bin_end": 1676504424000000000,
            "count": 156
           },
           {
            "bin_start": 1676504424000000000,
            "bin_end": 1683890928000000000,
            "count": 64
           },
           {
            "bin_start": 1683890928000000000,
            "bin_end": 1691277432000000000,
            "count": 6
           },
           {
            "bin_start": 1691277432000000000,
            "bin_end": 1698663936000000000,
            "count": 4
           },
           {
            "bin_start": 1698663936000000000,
            "bin_end": 1706050440000000000,
            "count": 23
           },
           {
            "bin_start": 1706050440000000000,
            "bin_end": 1713436944000000000,
            "count": 0
           },
           {
            "bin_start": 1713436944000000000,
            "bin_end": 1720823448000000000,
            "count": 19
           },
           {
            "bin_start": 1720823448000000000,
            "bin_end": 1728209952000000000,
            "count": 0
           },
           {
            "bin_start": 1728209952000000000,
            "bin_end": 1735596456000000000,
            "count": 0
           },
           {
            "bin_start": 1735596456000000000,
            "bin_end": 1742982960000000000,
            "count": 23
           }
          ]
         }
        },
        {
         "name": "Care Home ID",
         "dtype": "object",
         "stats": {
          "unique_count": 1,
          "nan_count": 0,
          "categories": [
           {
            "name": "1023.0",
            "count": 295
           }
          ]
         }
        },
        {
         "name": "Care Home Name",
         "dtype": "object",
         "stats": {
          "unique_count": 1,
          "nan_count": 0,
          "categories": [
           {
            "name": "Goodwood orchard",
            "count": 295
           }
          ]
         }
        },
        {
         "name": "Type",
         "dtype": "object",
         "stats": {
          "unique_count": 1,
          "nan_count": 0,
          "categories": [
           {
            "name": "Residential",
            "count": 295
           }
          ]
         }
        },
        {
         "name": "Area",
         "dtype": "object",
         "stats": {
          "unique_count": 1,
          "nan_count": 0,
          "categories": [
           {
            "name": "LC",
            "count": 295
           }
          ]
         }
        },
        {
         "name": "Phase",
         "dtype": "int64",
         "stats": {
          "unique_count": 1,
          "nan_count": 0,
          "min": "1",
          "max": "1",
          "histogram": [
           {
            "bin_start": 0.5,
            "bin_end": 0.6,
            "count": 0
           },
           {
            "bin_start": 0.6,
            "bin_end": 0.7,
            "count": 0
           },
           {
            "bin_start": 0.7,
            "bin_end": 0.8,
            "count": 0
           },
           {
            "bin_start": 0.8,
            "bin_end": 0.9,
            "count": 0
           },
           {
            "bin_start": 0.9,
            "bin_end": 1,
            "count": 0
           },
           {
            "bin_start": 1,
            "bin_end": 1.1,
            "count": 295
           },
           {
            "bin_start": 1.1,
            "bin_end": 1.2000000000000002,
            "count": 0
           },
           {
            "bin_start": 1.2000000000000002,
            "bin_end": 1.3,
            "count": 0
           },
           {
            "bin_start": 1.3,
            "bin_end": 1.4,
            "count": 0
           },
           {
            "bin_start": 1.4,
            "bin_end": 1.5,
            "count": 0
           }
          ]
         }
        },
        {
         "name": "Postal address",
         "dtype": "object",
         "stats": {
          "unique_count": 1,
          "nan_count": 0,
          "categories": [
           {
            "name": "304, Uppingham Road, Leicester",
            "count": 295
           }
          ]
         }
        },
        {
         "name": "Post Code",
         "dtype": "object",
         "stats": {
          "unique_count": 1,
          "nan_count": 0,
          "categories": [
           {
            "name": "LE5 2BE",
            "count": 295
           }
          ]
         }
        },
        {
         "name": "GP",
         "dtype": "object",
         "stats": {
          "unique_count": 1,
          "nan_count": 0,
          "categories": [
           {
            "name": "0",
            "count": 295
           }
          ]
         }
        },
        {
         "name": "GP Practice",
         "dtype": "object",
         "stats": {
          "unique_count": 1,
          "nan_count": 0,
          "categories": [
           {
            "name": "0",
            "count": 295
           }
          ]
         }
        },
        {
         "name": "GP Postcode",
         "dtype": "object",
         "stats": {
          "unique_count": 1,
          "nan_count": 0,
          "categories": [
           {
            "name": "0",
            "count": 295
           }
          ]
         }
        },
        {
         "name": "Type of service",
         "dtype": "object",
         "stats": {
          "unique_count": 1,
          "nan_count": 0,
          "categories": [
           {
            "name": "Residential",
            "count": 295
           }
          ]
         }
        },
        {
         "name": "No of Beds",
         "dtype": "float64",
         "stats": {
          "unique_count": 1,
          "nan_count": 0,
          "min": "13.0",
          "max": "13.0",
          "histogram": [
           {
            "bin_start": 12.5,
            "bin_end": 12.6,
            "count": 0
           },
           {
            "bin_start": 12.6,
            "bin_end": 12.7,
            "count": 0
           },
           {
            "bin_start": 12.7,
            "bin_end": 12.8,
            "count": 0
           },
           {
            "bin_start": 12.8,
            "bin_end": 12.9,
            "count": 0
           },
           {
            "bin_start": 12.9,
            "bin_end": 13,
            "count": 0
           },
           {
            "bin_start": 13,
            "bin_end": 13.1,
            "count": 295
           },
           {
            "bin_start": 13.1,
            "bin_end": 13.2,
            "count": 0
           },
           {
            "bin_start": 13.2,
            "bin_end": 13.3,
            "count": 0
           },
           {
            "bin_start": 13.3,
            "bin_end": 13.4,
            "count": 0
           },
           {
            "bin_start": 13.4,
            "bin_end": 13.5,
            "count": 0
           }
          ]
         }
        },
        {
         "name": "Miles from THA - LE12 8FE",
         "dtype": "float64",
         "stats": {
          "unique_count": 1,
          "nan_count": 0,
          "min": "9.0",
          "max": "9.0",
          "histogram": [
           {
            "bin_start": 8.5,
            "bin_end": 8.6,
            "count": 0
           },
           {
            "bin_start": 8.6,
            "bin_end": 8.7,
            "count": 0
           },
           {
            "bin_start": 8.7,
            "bin_end": 8.8,
            "count": 0
           },
           {
            "bin_start": 8.8,
            "bin_end": 8.9,
            "count": 0
           },
           {
            "bin_start": 8.9,
            "bin_end": 9,
            "count": 0
           },
           {
            "bin_start": 9,
            "bin_end": 9.1,
            "count": 295
           },
           {
            "bin_start": 9.1,
            "bin_end": 9.2,
            "count": 0
           },
           {
            "bin_start": 9.2,
            "bin_end": 9.3,
            "count": 0
           },
           {
            "bin_start": 9.3,
            "bin_end": 9.4,
            "count": 0
           },
           {
            "bin_start": 9.4,
            "bin_end": 9.5,
            "count": 0
           }
          ]
         }
        },
        {
         "name": "Asset number",
         "dtype": "object",
         "stats": {
          "unique_count": 1,
          "nan_count": 0,
          "categories": [
           {
            "name": "A3083",
            "count": 295
           }
          ]
         }
        },
        {
         "name": "Amount of Asset",
         "dtype": "int64",
         "stats": {
          "unique_count": 1,
          "nan_count": 0,
          "min": "1",
          "max": "1",
          "histogram": [
           {
            "bin_start": 0.5,
            "bin_end": 0.6,
            "count": 0
           },
           {
            "bin_start": 0.6,
            "bin_end": 0.7,
            "count": 0
           },
           {
            "bin_start": 0.7,
            "bin_end": 0.8,
            "count": 0
           },
           {
            "bin_start": 0.8,
            "bin_end": 0.9,
            "count": 0
           },
           {
            "bin_start": 0.9,
            "bin_end": 1,
            "count": 0
           },
           {
            "bin_start": 1,
            "bin_end": 1.1,
            "count": 295
           },
           {
            "bin_start": 1.1,
            "bin_end": 1.2000000000000002,
            "count": 0
           },
           {
            "bin_start": 1.2000000000000002,
            "bin_end": 1.3,
            "count": 0
           },
           {
            "bin_start": 1.3,
            "bin_end": 1.4,
            "count": 0
           },
           {
            "bin_start": 1.4,
            "bin_end": 1.5,
            "count": 0
           }
          ]
         }
        },
        {
         "name": "Weekly fee",
         "dtype": "object",
         "stats": {
          "unique_count": 1,
          "nan_count": 0,
          "categories": [
           {
            "name": "700",
            "count": 295
           }
          ]
         }
        },
        {
         "name": "Provider company",
         "dtype": "object",
         "stats": {
          "unique_count": 1,
          "nan_count": 0,
          "categories": [
           {
            "name": "Helping Hand Care Home Ltd",
            "count": 295
           }
          ]
         }
        },
        {
         "name": "Clinical concern?",
         "dtype": "object",
         "stats": {
          "unique_count": 2,
          "nan_count": 0,
          "categories": [
           {
            "name": "Yes",
            "count": 215
           },
           {
            "name": "No",
            "count": 80
           }
          ]
         }
        },
        {
         "name": "NEWS2 score",
         "dtype": "int64",
         "stats": {
          "unique_count": 9,
          "nan_count": 0,
          "min": "0",
          "max": "8",
          "histogram": [
           {
            "bin_start": 0,
            "bin_end": 0.8,
            "count": 67
           },
           {
            "bin_start": 0.8,
            "bin_end": 1.6,
            "count": 90
           },
           {
            "bin_start": 1.6,
            "bin_end": 2.4000000000000004,
            "count": 67
           },
           {
            "bin_start": 2.4000000000000004,
            "bin_end": 3.2,
            "count": 33
           },
           {
            "bin_start": 3.2,
            "bin_end": 4,
            "count": 0
           },
           {
            "bin_start": 4,
            "bin_end": 4.800000000000001,
            "count": 20
           },
           {
            "bin_start": 4.800000000000001,
            "bin_end": 5.6000000000000005,
            "count": 11
           },
           {
            "bin_start": 5.6000000000000005,
            "bin_end": 6.4,
            "count": 3
           },
           {
            "bin_start": 6.4,
            "bin_end": 7.2,
            "count": 3
           },
           {
            "bin_start": 7.2,
            "bin_end": 8,
            "count": 1
           }
          ]
         }
        },
        {
         "name": "New2 Score_New",
         "dtype": "float64",
         "stats": {
          "unique_count": 10,
          "nan_count": 0,
          "min": "0.0",
          "max": "9.0",
          "histogram": [
           {
            "bin_start": 0,
            "bin_end": 0.9,
            "count": 67
           },
           {
            "bin_start": 0.9,
            "bin_end": 1.8,
            "count": 43
           },
           {
            "bin_start": 1.8,
            "bin_end": 2.7,
            "count": 75
           },
           {
            "bin_start": 2.7,
            "bin_end": 3.6,
            "count": 52
           },
           {
            "bin_start": 3.6,
            "bin_end": 4.5,
            "count": 28
           },
           {
            "bin_start": 4.5,
            "bin_end": 5.4,
            "count": 20
           },
           {
            "bin_start": 5.4,
            "bin_end": 6.3,
            "count": 5
           },
           {
            "bin_start": 6.3,
            "bin_end": 7.2,
            "count": 3
           },
           {
            "bin_start": 7.2,
            "bin_end": 8.1,
            "count": 1
           },
           {
            "bin_start": 8.1,
            "bin_end": 9,
            "count": 1
           }
          ]
         }
        },
        {
         "name": "H=I?",
         "dtype": "float64",
         "stats": {
          "unique_count": 2,
          "nan_count": 0,
          "min": "0.0",
          "max": "1.0",
          "histogram": [
           {
            "bin_start": 0,
            "bin_end": 0.1,
            "count": 122
           },
           {
            "bin_start": 0.1,
            "bin_end": 0.2,
            "count": 0
           },
           {
            "bin_start": 0.2,
            "bin_end": 0.30000000000000004,
            "count": 0
           },
           {
            "bin_start": 0.30000000000000004,
            "bin_end": 0.4,
            "count": 0
           },
           {
            "bin_start": 0.4,
            "bin_end": 0.5,
            "count": 0
           },
           {
            "bin_start": 0.5,
            "bin_end": 0.6000000000000001,
            "count": 0
           },
           {
            "bin_start": 0.6000000000000001,
            "bin_end": 0.7000000000000001,
            "count": 0
           },
           {
            "bin_start": 0.7000000000000001,
            "bin_end": 0.8,
            "count": 0
           },
           {
            "bin_start": 0.8,
            "bin_end": 0.9,
            "count": 0
           },
           {
            "bin_start": 0.9,
            "bin_end": 1,
            "count": 173
           }
          ]
         }
        },
        {
         "name": "O2",
         "dtype": "int64",
         "stats": {
          "unique_count": 13,
          "nan_count": 0,
          "min": "78",
          "max": "100",
          "histogram": [
           {
            "bin_start": 78,
            "bin_end": 80.2,
            "count": 2
           },
           {
            "bin_start": 80.2,
            "bin_end": 82.4,
            "count": 0
           },
           {
            "bin_start": 82.4,
            "bin_end": 84.6,
            "count": 0
           },
           {
            "bin_start": 84.6,
            "bin_end": 86.8,
            "count": 0
           },
           {
            "bin_start": 86.8,
            "bin_end": 89,
            "count": 2
           },
           {
            "bin_start": 89,
            "bin_end": 91.2,
            "count": 4
           },
           {
            "bin_start": 91.2,
            "bin_end": 93.4,
            "count": 12
           },
           {
            "bin_start": 93.4,
            "bin_end": 95.6,
            "count": 72
           },
           {
            "bin_start": 95.6,
            "bin_end": 97.8,
            "count": 131
           },
           {
            "bin_start": 97.8,
            "bin_end": 100,
            "count": 72
           }
          ]
         }
        },
        {
         "name": "O2_New",
         "dtype": "float64",
         "stats": {
          "unique_count": 4,
          "nan_count": 0,
          "min": "0.0",
          "max": "3.0",
          "histogram": [
           {
            "bin_start": 0,
            "bin_end": 0.3,
            "count": 203
           },
           {
            "bin_start": 0.3,
            "bin_end": 0.6,
            "count": 0
           },
           {
            "bin_start": 0.6,
            "bin_end": 0.8999999999999999,
            "count": 0
           },
           {
            "bin_start": 0.8999999999999999,
            "bin_end": 1.2,
            "count": 72
           },
           {
            "bin_start": 1.2,
            "bin_end": 1.5,
            "count": 0
           },
           {
            "bin_start": 1.5,
            "bin_end": 1.7999999999999998,
            "count": 0
           },
           {
            "bin_start": 1.7999999999999998,
            "bin_end": 2.1,
            "count": 12
           },
           {
            "bin_start": 2.1,
            "bin_end": 2.4,
            "count": 0
           },
           {
            "bin_start": 2.4,
            "bin_end": 2.6999999999999997,
            "count": 0
           },
           {
            "bin_start": 2.6999999999999997,
            "bin_end": 3,
            "count": 8
           }
          ]
         }
        },
        {
         "name": "Systolic",
         "dtype": "int64",
         "stats": {
          "unique_count": 74,
          "nan_count": 0,
          "min": "80",
          "max": "189",
          "histogram": [
           {
            "bin_start": 80,
            "bin_end": 90.9,
            "count": 9
           },
           {
            "bin_start": 90.9,
            "bin_end": 101.8,
            "count": 33
           },
           {
            "bin_start": 101.8,
            "bin_end": 112.7,
            "count": 49
           },
           {
            "bin_start": 112.7,
            "bin_end": 123.6,
            "count": 68
           },
           {
            "bin_start": 123.6,
            "bin_end": 134.5,
            "count": 63
           },
           {
            "bin_start": 134.5,
            "bin_end": 145.4,
            "count": 40
           },
           {
            "bin_start": 145.4,
            "bin_end": 156.3,
            "count": 26
           },
           {
            "bin_start": 156.3,
            "bin_end": 167.2,
            "count": 5
           },
           {
            "bin_start": 167.2,
            "bin_end": 178.10000000000002,
            "count": 1
           },
           {
            "bin_start": 178.10000000000002,
            "bin_end": 189,
            "count": 1
           }
          ]
         }
        },
        {
         "name": "Systolic_New",
         "dtype": "float64",
         "stats": {
          "unique_count": 4,
          "nan_count": 0,
          "min": "0.0",
          "max": "3.0",
          "histogram": [
           {
            "bin_start": 0,
            "bin_end": 0.3,
            "count": 215
           },
           {
            "bin_start": 0.3,
            "bin_end": 0.6,
            "count": 0
           },
           {
            "bin_start": 0.6,
            "bin_end": 0.8999999999999999,
            "count": 0
           },
           {
            "bin_start": 0.8999999999999999,
            "bin_end": 1.2,
            "count": 47
           },
           {
            "bin_start": 1.2,
            "bin_end": 1.5,
            "count": 0
           },
           {
            "bin_start": 1.5,
            "bin_end": 1.7999999999999998,
            "count": 0
           },
           {
            "bin_start": 1.7999999999999998,
            "bin_end": 2.1,
            "count": 24
           },
           {
            "bin_start": 2.1,
            "bin_end": 2.4,
            "count": 0
           },
           {
            "bin_start": 2.4,
            "bin_end": 2.6999999999999997,
            "count": 0
           },
           {
            "bin_start": 2.6999999999999997,
            "bin_end": 3,
            "count": 9
           }
          ]
         }
        },
        {
         "name": "Diasolic",
         "dtype": "int64",
         "stats": {
          "unique_count": 56,
          "nan_count": 0,
          "min": "50",
          "max": "155",
          "histogram": [
           {
            "bin_start": 50,
            "bin_end": 60.5,
            "count": 23
           },
           {
            "bin_start": 60.5,
            "bin_end": 71,
            "count": 69
           },
           {
            "bin_start": 71,
            "bin_end": 81.5,
            "count": 93
           },
           {
            "bin_start": 81.5,
            "bin_end": 92,
            "count": 73
           },
           {
            "bin_start": 92,
            "bin_end": 102.5,
            "count": 26
           },
           {
            "bin_start": 102.5,
            "bin_end": 113,
            "count": 9
           },
           {
            "bin_start": 113,
            "bin_end": 123.5,
            "count": 1
           },
           {
            "bin_start": 123.5,
            "bin_end": 134,
            "count": 0
           },
           {
            "bin_start": 134,
            "bin_end": 144.5,
            "count": 0
           },
           {
            "bin_start": 144.5,
            "bin_end": 155,
            "count": 1
           }
          ]
         }
        },
        {
         "name": "Pulse",
         "dtype": "int64",
         "stats": {
          "unique_count": 67,
          "nan_count": 0,
          "min": "45",
          "max": "162",
          "histogram": [
           {
            "bin_start": 45,
            "bin_end": 56.7,
            "count": 16
           },
           {
            "bin_start": 56.7,
            "bin_end": 68.4,
            "count": 58
           },
           {
            "bin_start": 68.4,
            "bin_end": 80.1,
            "count": 109
           },
           {
            "bin_start": 80.1,
            "bin_end": 91.8,
            "count": 51
           },
           {
            "bin_start": 91.8,
            "bin_end": 103.5,
            "count": 43
           },
           {
            "bin_start": 103.5,
            "bin_end": 115.19999999999999,
            "count": 12
           },
           {
            "bin_start": 115.19999999999999,
            "bin_end": 126.89999999999999,
            "count": 4
           },
           {
            "bin_start": 126.89999999999999,
            "bin_end": 138.6,
            "count": 0
           },
           {
            "bin_start": 138.6,
            "bin_end": 150.3,
            "count": 1
           },
           {
            "bin_start": 150.3,
            "bin_end": 162,
            "count": 1
           }
          ]
         }
        },
        {
         "name": "Pulse_New",
         "dtype": "float64",
         "stats": {
          "unique_count": 4,
          "nan_count": 0,
          "min": "0.0",
          "max": "3.0",
          "histogram": [
           {
            "bin_start": 0,
            "bin_end": 0.3,
            "count": 225
           },
           {
            "bin_start": 0.3,
            "bin_end": 0.6,
            "count": 0
           },
           {
            "bin_start": 0.6,
            "bin_end": 0.8999999999999999,
            "count": 0
           },
           {
            "bin_start": 0.8999999999999999,
            "bin_end": 1.2,
            "count": 59
           },
           {
            "bin_start": 1.2,
            "bin_end": 1.5,
            "count": 0
           },
           {
            "bin_start": 1.5,
            "bin_end": 1.7999999999999998,
            "count": 0
           },
           {
            "bin_start": 1.7999999999999998,
            "bin_end": 2.1,
            "count": 9
           },
           {
            "bin_start": 2.1,
            "bin_end": 2.4,
            "count": 0
           },
           {
            "bin_start": 2.4,
            "bin_end": 2.6999999999999997,
            "count": 0
           },
           {
            "bin_start": 2.6999999999999997,
            "bin_end": 3,
            "count": 2
           }
          ]
         }
        },
        {
         "name": "Temperature",
         "dtype": "float64",
         "stats": {
          "unique_count": 32,
          "nan_count": 0,
          "min": "33.2",
          "max": "37.2",
          "histogram": [
           {
            "bin_start": 33.2,
            "bin_end": 33.6,
            "count": 2
           },
           {
            "bin_start": 33.6,
            "bin_end": 34,
            "count": 0
           },
           {
            "bin_start": 34,
            "bin_end": 34.400000000000006,
            "count": 5
           },
           {
            "bin_start": 34.400000000000006,
            "bin_end": 34.800000000000004,
            "count": 7
           },
           {
            "bin_start": 34.800000000000004,
            "bin_end": 35.2,
            "count": 7
           },
           {
            "bin_start": 35.2,
            "bin_end": 35.6,
            "count": 23
           },
           {
            "bin_start": 35.6,
            "bin_end": 36,
            "count": 67
           },
           {
            "bin_start": 36,
            "bin_end": 36.400000000000006,
            "count": 120
           },
           {
            "bin_start": 36.400000000000006,
            "bin_end": 36.800000000000004,
            "count": 40
           },
           {
            "bin_start": 36.800000000000004,
            "bin_end": 37.2,
            "count": 24
           }
          ]
         }
        },
        {
         "name": "Temperate_New",
         "dtype": "float64",
         "stats": {
          "unique_count": 3,
          "nan_count": 0,
          "min": "0.0",
          "max": "3.0",
          "histogram": [
           {
            "bin_start": 0,
            "bin_end": 0.3,
            "count": 153
           },
           {
            "bin_start": 0.3,
            "bin_end": 0.6,
            "count": 0
           },
           {
            "bin_start": 0.6,
            "bin_end": 0.8999999999999999,
            "count": 0
           },
           {
            "bin_start": 0.8999999999999999,
            "bin_end": 1.2,
            "count": 0
           },
           {
            "bin_start": 1.2,
            "bin_end": 1.5,
            "count": 0
           },
           {
            "bin_start": 1.5,
            "bin_end": 1.7999999999999998,
            "count": 0
           },
           {
            "bin_start": 1.7999999999999998,
            "bin_end": 2.1,
            "count": 122
           },
           {
            "bin_start": 2.1,
            "bin_end": 2.4,
            "count": 0
           },
           {
            "bin_start": 2.4,
            "bin_end": 2.6999999999999997,
            "count": 0
           },
           {
            "bin_start": 2.6999999999999997,
            "bin_end": 3,
            "count": 20
           }
          ]
         }
        },
        {
         "name": "Respiration rate",
         "dtype": "int64",
         "stats": {
          "unique_count": 7,
          "nan_count": 0,
          "min": "14",
          "max": "20",
          "histogram": [
           {
            "bin_start": 14,
            "bin_end": 14.6,
            "count": 1
           },
           {
            "bin_start": 14.6,
            "bin_end": 15.2,
            "count": 21
           },
           {
            "bin_start": 15.2,
            "bin_end": 15.8,
            "count": 0
           },
           {
            "bin_start": 15.8,
            "bin_end": 16.4,
            "count": 77
           },
           {
            "bin_start": 16.4,
            "bin_end": 17,
            "count": 0
           },
           {
            "bin_start": 17,
            "bin_end": 17.6,
            "count": 109
           },
           {
            "bin_start": 17.6,
            "bin_end": 18.2,
            "count": 71
           },
           {
            "bin_start": 18.2,
            "bin_end": 18.8,
            "count": 0
           },
           {
            "bin_start": 18.8,
            "bin_end": 19.4,
            "count": 12
           },
           {
            "bin_start": 19.4,
            "bin_end": 20,
            "count": 4
           }
          ]
         }
        },
        {
         "name": "Respiraties_New",
         "dtype": "int64",
         "stats": {
          "unique_count": 1,
          "nan_count": 0,
          "min": "0",
          "max": "0",
          "histogram": [
           {
            "bin_start": -0.5,
            "bin_end": -0.4,
            "count": 0
           },
           {
            "bin_start": -0.4,
            "bin_end": -0.3,
            "count": 0
           },
           {
            "bin_start": -0.3,
            "bin_end": -0.19999999999999996,
            "count": 0
           },
           {
            "bin_start": -0.19999999999999996,
            "bin_end": -0.09999999999999998,
            "count": 0
           },
           {
            "bin_start": -0.09999999999999998,
            "bin_end": 0,
            "count": 0
           },
           {
            "bin_start": 0,
            "bin_end": 0.10000000000000009,
            "count": 295
           },
           {
            "bin_start": 0.10000000000000009,
            "bin_end": 0.20000000000000007,
            "count": 0
           },
           {
            "bin_start": 0.20000000000000007,
            "bin_end": 0.30000000000000004,
            "count": 0
           },
           {
            "bin_start": 0.30000000000000004,
            "bin_end": 0.4,
            "count": 0
           },
           {
            "bin_start": 0.4,
            "bin_end": 0.5,
            "count": 0
           }
          ]
         }
        },
        {
         "name": "O2 delivery",
         "dtype": "object",
         "stats": {
          "unique_count": 1,
          "nan_count": 0,
          "categories": [
           {
            "name": "Breathing Air",
            "count": 295
           }
          ]
         }
        },
        {
         "name": "O2 Delivery_New",
         "dtype": "int64",
         "stats": {
          "unique_count": 1,
          "nan_count": 0,
          "min": "0",
          "max": "0",
          "histogram": [
           {
            "bin_start": -0.5,
            "bin_end": -0.4,
            "count": 0
           },
           {
            "bin_start": -0.4,
            "bin_end": -0.3,
            "count": 0
           },
           {
            "bin_start": -0.3,
            "bin_end": -0.19999999999999996,
            "count": 0
           },
           {
            "bin_start": -0.19999999999999996,
            "bin_end": -0.09999999999999998,
            "count": 0
           },
           {
            "bin_start": -0.09999999999999998,
            "bin_end": 0,
            "count": 0
           },
           {
            "bin_start": 0,
            "bin_end": 0.10000000000000009,
            "count": 295
           },
           {
            "bin_start": 0.10000000000000009,
            "bin_end": 0.20000000000000007,
            "count": 0
           },
           {
            "bin_start": 0.20000000000000007,
            "bin_end": 0.30000000000000004,
            "count": 0
           },
           {
            "bin_start": 0.30000000000000004,
            "bin_end": 0.4,
            "count": 0
           },
           {
            "bin_start": 0.4,
            "bin_end": 0.5,
            "count": 0
           }
          ]
         }
        },
        {
         "name": "Consciousness",
         "dtype": "object",
         "stats": {
          "unique_count": 1,
          "nan_count": 0,
          "categories": [
           {
            "name": "Alert",
            "count": 295
           }
          ]
         }
        },
        {
         "name": "Consciouness New",
         "dtype": "int64",
         "stats": {
          "unique_count": 1,
          "nan_count": 0,
          "min": "0",
          "max": "0",
          "histogram": [
           {
            "bin_start": -0.5,
            "bin_end": -0.4,
            "count": 0
           },
           {
            "bin_start": -0.4,
            "bin_end": -0.3,
            "count": 0
           },
           {
            "bin_start": -0.3,
            "bin_end": -0.19999999999999996,
            "count": 0
           },
           {
            "bin_start": -0.19999999999999996,
            "bin_end": -0.09999999999999998,
            "count": 0
           },
           {
            "bin_start": -0.09999999999999998,
            "bin_end": 0,
            "count": 0
           },
           {
            "bin_start": 0,
            "bin_end": 0.10000000000000009,
            "count": 295
           },
           {
            "bin_start": 0.10000000000000009,
            "bin_end": 0.20000000000000007,
            "count": 0
           },
           {
            "bin_start": 0.20000000000000007,
            "bin_end": 0.30000000000000004,
            "count": 0
           },
           {
            "bin_start": 0.30000000000000004,
            "bin_end": 0.4,
            "count": 0
           },
           {
            "bin_start": 0.4,
            "bin_end": 0.5,
            "count": 0
           }
          ]
         }
        },
        {
         "name": "Scale 2 in use?",
         "dtype": "int64",
         "stats": {
          "unique_count": 1,
          "nan_count": 0,
          "min": "0",
          "max": "0",
          "histogram": [
           {
            "bin_start": -0.5,
            "bin_end": -0.4,
            "count": 0
           },
           {
            "bin_start": -0.4,
            "bin_end": -0.3,
            "count": 0
           },
           {
            "bin_start": -0.3,
            "bin_end": -0.19999999999999996,
            "count": 0
           },
           {
            "bin_start": -0.19999999999999996,
            "bin_end": -0.09999999999999998,
            "count": 0
           },
           {
            "bin_start": -0.09999999999999998,
            "bin_end": 0,
            "count": 0
           },
           {
            "bin_start": 0,
            "bin_end": 0.10000000000000009,
            "count": 295
           },
           {
            "bin_start": 0.10000000000000009,
            "bin_end": 0.20000000000000007,
            "count": 0
           },
           {
            "bin_start": 0.20000000000000007,
            "bin_end": 0.30000000000000004,
            "count": 0
           },
           {
            "bin_start": 0.30000000000000004,
            "bin_end": 0.4,
            "count": 0
           },
           {
            "bin_start": 0.4,
            "bin_end": 0.5,
            "count": 0
           }
          ]
         }
        },
        {
         "name": "Care Home ID_cleaned",
         "dtype": "object",
         "stats": {
          "unique_count": 1,
          "nan_count": 0,
          "categories": [
           {
            "name": "10230",
            "count": 295
           }
          ]
         }
        },
        {
         "name": "year",
         "dtype": "int64",
         "stats": {
          "unique_count": 4,
          "nan_count": 0,
          "min": "2022",
          "max": "2025",
          "histogram": [
           {
            "bin_start": 2022,
            "bin_end": 2022.3,
            "count": 99
           },
           {
            "bin_start": 2022.3,
            "bin_end": 2022.6,
            "count": 0
           },
           {
            "bin_start": 2022.6,
            "bin_end": 2022.9,
            "count": 0
           },
           {
            "bin_start": 2022.9,
            "bin_end": 2023.2,
            "count": 153
           },
           {
            "bin_start": 2023.2,
            "bin_end": 2023.5,
            "count": 0
           },
           {
            "bin_start": 2023.5,
            "bin_end": 2023.8,
            "count": 0
           },
           {
            "bin_start": 2023.8,
            "bin_end": 2024.1,
            "count": 21
           },
           {
            "bin_start": 2024.1,
            "bin_end": 2024.4,
            "count": 0
           },
           {
            "bin_start": 2024.4,
            "bin_end": 2024.7,
            "count": 0
           },
           {
            "bin_start": 2024.7,
            "bin_end": 2025,
            "count": 22
           }
          ]
         }
        },
        {
         "name": "month",
         "dtype": "int64",
         "stats": {
          "unique_count": 9,
          "nan_count": 0,
          "min": "1",
          "max": "12",
          "histogram": [
           {
            "bin_start": 1,
            "bin_end": 2.1,
            "count": 59
           },
           {
            "bin_start": 2.1,
            "bin_end": 3.2,
            "count": 43
           },
           {
            "bin_start": 3.2,
            "bin_end": 4.300000000000001,
            "count": 41
           },
           {
            "bin_start": 4.300000000000001,
            "bin_end": 5.4,
            "count": 1
           },
           {
            "bin_start": 5.4,
            "bin_end": 6.5,
            "count": 25
           },
           {
            "bin_start": 6.5,
            "bin_end": 7.6000000000000005,
            "count": 0
           },
           {
            "bin_start": 7.6000000000000005,
            "bin_end": 8.700000000000001,
            "count": 0
           },
           {
            "bin_start": 8.700000000000001,
            "bin_end": 9.8,
            "count": 4
           },
           {
            "bin_start": 9.8,
            "bin_end": 10.9,
            "count": 0
           },
           {
            "bin_start": 10.9,
            "bin_end": 12,
            "count": 122
           }
          ]
         }
        },
        {
         "name": "quarter",
         "dtype": "int64",
         "stats": {
          "unique_count": 4,
          "nan_count": 0,
          "min": "1",
          "max": "4",
          "histogram": [
           {
            "bin_start": 1,
            "bin_end": 1.3,
            "count": 102
           },
           {
            "bin_start": 1.3,
            "bin_end": 1.6,
            "count": 0
           },
           {
            "bin_start": 1.6,
            "bin_end": 1.9,
            "count": 0
           },
           {
            "bin_start": 1.9,
            "bin_end": 2.2,
            "count": 67
           },
           {
            "bin_start": 2.2,
            "bin_end": 2.5,
            "count": 0
           },
           {
            "bin_start": 2.5,
            "bin_end": 2.8,
            "count": 0
           },
           {
            "bin_start": 2.8,
            "bin_end": 3.1,
            "count": 4
           },
           {
            "bin_start": 3.1,
            "bin_end": 3.4,
            "count": 0
           },
           {
            "bin_start": 3.4,
            "bin_end": 3.6999999999999997,
            "count": 0
           },
           {
            "bin_start": 3.6999999999999997,
            "bin_end": 4,
            "count": 122
           }
          ]
         }
        },
        {
         "name": "week",
         "dtype": "int64",
         "stats": {
          "unique_count": 20,
          "nan_count": 0,
          "min": "1",
          "max": "52",
          "histogram": [
           {
            "bin_start": 1,
            "bin_end": 6.1,
            "count": 59
           },
           {
            "bin_start": 6.1,
            "bin_end": 11.2,
            "count": 22
           },
           {
            "bin_start": 11.2,
            "bin_end": 16.299999999999997,
            "count": 63
           },
           {
            "bin_start": 16.299999999999997,
            "bin_end": 21.4,
            "count": 1
           },
           {
            "bin_start": 21.4,
            "bin_end": 26.5,
            "count": 25
           },
           {
            "bin_start": 26.5,
            "bin_end": 31.599999999999998,
            "count": 0
           },
           {
            "bin_start": 31.599999999999998,
            "bin_end": 36.699999999999996,
            "count": 0
           },
           {
            "bin_start": 36.699999999999996,
            "bin_end": 41.8,
            "count": 4
           },
           {
            "bin_start": 41.8,
            "bin_end": 46.9,
            "count": 22
           },
           {
            "bin_start": 46.9,
            "bin_end": 52,
            "count": 99
           }
          ]
         }
        },
        {
         "name": "Clinical_Concern_Num",
         "dtype": "int64",
         "stats": {
          "unique_count": 2,
          "nan_count": 0,
          "min": "0",
          "max": "1",
          "histogram": [
           {
            "bin_start": 0,
            "bin_end": 0.1,
            "count": 80
           },
           {
            "bin_start": 0.1,
            "bin_end": 0.2,
            "count": 0
           },
           {
            "bin_start": 0.2,
            "bin_end": 0.30000000000000004,
            "count": 0
           },
           {
            "bin_start": 0.30000000000000004,
            "bin_end": 0.4,
            "count": 0
           },
           {
            "bin_start": 0.4,
            "bin_end": 0.5,
            "count": 0
           },
           {
            "bin_start": 0.5,
            "bin_end": 0.6000000000000001,
            "count": 0
           },
           {
            "bin_start": 0.6000000000000001,
            "bin_end": 0.7000000000000001,
            "count": 0
           },
           {
            "bin_start": 0.7000000000000001,
            "bin_end": 0.8,
            "count": 0
           },
           {
            "bin_start": 0.8,
            "bin_end": 0.9,
            "count": 0
           },
           {
            "bin_start": 0.9,
            "bin_end": 1,
            "count": 215
           }
          ]
         }
        },
        {
         "name": "NEWS2_Category",
         "dtype": "int64",
         "stats": {
          "unique_count": 4,
          "nan_count": 0,
          "min": "0",
          "max": "3",
          "histogram": [
           {
            "bin_start": 0,
            "bin_end": 0.3,
            "count": 67
           },
           {
            "bin_start": 0.3,
            "bin_end": 0.6,
            "count": 0
           },
           {
            "bin_start": 0.6,
            "bin_end": 0.8999999999999999,
            "count": 0
           },
           {
            "bin_start": 0.8999999999999999,
            "bin_end": 1.2,
            "count": 210
           },
           {
            "bin_start": 1.2,
            "bin_end": 1.5,
            "count": 0
           },
           {
            "bin_start": 1.5,
            "bin_end": 1.7999999999999998,
            "count": 0
           },
           {
            "bin_start": 1.7999999999999998,
            "bin_end": 2.1,
            "count": 14
           },
           {
            "bin_start": 2.1,
            "bin_end": 2.4,
            "count": 0
           },
           {
            "bin_start": 2.4,
            "bin_end": 2.6999999999999997,
            "count": 0
           },
           {
            "bin_start": 2.6999999999999997,
            "bin_end": 3,
            "count": 4
           }
          ]
         }
        },
        {
         "name": "_deepnote_index_column",
         "dtype": "int64"
        }
       ],
       "rows": [
        {
         "Date/Time": "2022-11-22 11:52:00",
         "Care Home ID": "1023.0",
         "Care Home Name": "Goodwood orchard",
         "Type": "Residential",
         "Area": "LC",
         "Phase": 1,
         "Postal address": "304, Uppingham Road, Leicester",
         "Post Code": "LE5 2BE",
         "GP": "0",
         "GP Practice": "0",
         "GP Postcode": "0",
         "Type of service": "Residential",
         "No of Beds": 13,
         "Miles from THA - LE12 8FE": 9,
         "Asset number": "A3083",
         "Amount of Asset": 1,
         "Weekly fee": "700",
         "Provider company": "Helping Hand Care Home Ltd",
         "Clinical concern?": "Yes",
         "NEWS2 score": 0,
         "New2 Score_New": 0,
         "H=I?": 1,
         "O2": 98,
         "O2_New": 0,
         "Systolic": 168,
         "Systolic_New": 0,
         "Diasolic": 79,
         "Pulse": 72,
         "Pulse_New": 0,
         "Temperature": 36.2,
         "Temperate_New": 0,
         "Respiration rate": 17,
         "Respiraties_New": 0,
         "O2 delivery": "Breathing Air",
         "O2 Delivery_New": 0,
         "Consciousness": "Alert",
         "Consciouness New": 0,
         "Scale 2 in use?": 0,
         "Care Home ID_cleaned": "10230",
         "year": 2022,
         "month": 11,
         "quarter": 4,
         "week": 47,
         "Clinical_Concern_Num": 1,
         "NEWS2_Category": 0,
         "_deepnote_index_column": 9
        },
        {
         "Date/Time": "2022-11-22 12:02:00",
         "Care Home ID": "1023.0",
         "Care Home Name": "Goodwood orchard",
         "Type": "Residential",
         "Area": "LC",
         "Phase": 1,
         "Postal address": "304, Uppingham Road, Leicester",
         "Post Code": "LE5 2BE",
         "GP": "0",
         "GP Practice": "0",
         "GP Postcode": "0",
         "Type of service": "Residential",
         "No of Beds": 13,
         "Miles from THA - LE12 8FE": 9,
         "Asset number": "A3083",
         "Amount of Asset": 1,
         "Weekly fee": "700",
         "Provider company": "Helping Hand Care Home Ltd",
         "Clinical concern?": "Yes",
         "NEWS2 score": 2,
         "New2 Score_New": 2,
         "H=I?": 1,
         "O2": 98,
         "O2_New": 0,
         "Systolic": 100,
         "Systolic_New": 2,
         "Diasolic": 63,
         "Pulse": 81,
         "Pulse_New": 0,
         "Temperature": 36.1,
         "Temperate_New": 0,
         "Respiration rate": 18,
         "Respiraties_New": 0,
         "O2 delivery": "Breathing Air",
         "O2 Delivery_New": 0,
         "Consciousness": "Alert",
         "Consciouness New": 0,
         "Scale 2 in use?": 0,
         "Care Home ID_cleaned": "10230",
         "year": 2022,
         "month": 11,
         "quarter": 4,
         "week": 47,
         "Clinical_Concern_Num": 1,
         "NEWS2_Category": 1,
         "_deepnote_index_column": 10
        },
        {
         "Date/Time": "2022-11-22 12:07:00",
         "Care Home ID": "1023.0",
         "Care Home Name": "Goodwood orchard",
         "Type": "Residential",
         "Area": "LC",
         "Phase": 1,
         "Postal address": "304, Uppingham Road, Leicester",
         "Post Code": "LE5 2BE",
         "GP": "0",
         "GP Practice": "0",
         "GP Postcode": "0",
         "Type of service": "Residential",
         "No of Beds": 13,
         "Miles from THA - LE12 8FE": 9,
         "Asset number": "A3083",
         "Amount of Asset": 1,
         "Weekly fee": "700",
         "Provider company": "Helping Hand Care Home Ltd",
         "Clinical concern?": "Yes",
         "NEWS2 score": 0,
         "New2 Score_New": 0,
         "H=I?": 1,
         "O2": 96,
         "O2_New": 0,
         "Systolic": 130,
         "Systolic_New": 0,
         "Diasolic": 80,
         "Pulse": 69,
         "Pulse_New": 0,
         "Temperature": 37,
         "Temperate_New": 0,
         "Respiration rate": 16,
         "Respiraties_New": 0,
         "O2 delivery": "Breathing Air",
         "O2 Delivery_New": 0,
         "Consciousness": "Alert",
         "Consciouness New": 0,
         "Scale 2 in use?": 0,
         "Care Home ID_cleaned": "10230",
         "year": 2022,
         "month": 11,
         "quarter": 4,
         "week": 47,
         "Clinical_Concern_Num": 1,
         "NEWS2_Category": 0,
         "_deepnote_index_column": 11
        },
        {
         "Date/Time": "2022-11-22 12:13:00",
         "Care Home ID": "1023.0",
         "Care Home Name": "Goodwood orchard",
         "Type": "Residential",
         "Area": "LC",
         "Phase": 1,
         "Postal address": "304, Uppingham Road, Leicester",
         "Post Code": "LE5 2BE",
         "GP": "0",
         "GP Practice": "0",
         "GP Postcode": "0",
         "Type of service": "Residential",
         "No of Beds": 13,
         "Miles from THA - LE12 8FE": 9,
         "Asset number": "A3083",
         "Amount of Asset": 1,
         "Weekly fee": "700",
         "Provider company": "Helping Hand Care Home Ltd",
         "Clinical concern?": "Yes",
         "NEWS2 score": 0,
         "New2 Score_New": 0,
         "H=I?": 1,
         "O2": 97,
         "O2_New": 0,
         "Systolic": 137,
         "Systolic_New": 0,
         "Diasolic": 68,
         "Pulse": 69,
         "Pulse_New": 0,
         "Temperature": 36.5,
         "Temperate_New": 0,
         "Respiration rate": 17,
         "Respiraties_New": 0,
         "O2 delivery": "Breathing Air",
         "O2 Delivery_New": 0,
         "Consciousness": "Alert",
         "Consciouness New": 0,
         "Scale 2 in use?": 0,
         "Care Home ID_cleaned": "10230",
         "year": 2022,
         "month": 11,
         "quarter": 4,
         "week": 47,
         "Clinical_Concern_Num": 1,
         "NEWS2_Category": 0,
         "_deepnote_index_column": 12
        },
        {
         "Date/Time": "2022-11-22 12:18:00",
         "Care Home ID": "1023.0",
         "Care Home Name": "Goodwood orchard",
         "Type": "Residential",
         "Area": "LC",
         "Phase": 1,
         "Postal address": "304, Uppingham Road, Leicester",
         "Post Code": "LE5 2BE",
         "GP": "0",
         "GP Practice": "0",
         "GP Postcode": "0",
         "Type of service": "Residential",
         "No of Beds": 13,
         "Miles from THA - LE12 8FE": 9,
         "Asset number": "A3083",
         "Amount of Asset": 1,
         "Weekly fee": "700",
         "Provider company": "Helping Hand Care Home Ltd",
         "Clinical concern?": "Yes",
         "NEWS2 score": 1,
         "New2 Score_New": 1,
         "H=I?": 1,
         "O2": 95,
         "O2_New": 1,
         "Systolic": 116,
         "Systolic_New": 0,
         "Diasolic": 80,
         "Pulse": 89,
         "Pulse_New": 0,
         "Temperature": 36.3,
         "Temperate_New": 0,
         "Respiration rate": 17,
         "Respiraties_New": 0,
         "O2 delivery": "Breathing Air",
         "O2 Delivery_New": 0,
         "Consciousness": "Alert",
         "Consciouness New": 0,
         "Scale 2 in use?": 0,
         "Care Home ID_cleaned": "10230",
         "year": 2022,
         "month": 11,
         "quarter": 4,
         "week": 47,
         "Clinical_Concern_Num": 1,
         "NEWS2_Category": 1,
         "_deepnote_index_column": 13
        },
        {
         "Date/Time": "2022-11-22 12:30:00",
         "Care Home ID": "1023.0",
         "Care Home Name": "Goodwood orchard",
         "Type": "Residential",
         "Area": "LC",
         "Phase": 1,
         "Postal address": "304, Uppingham Road, Leicester",
         "Post Code": "LE5 2BE",
         "GP": "0",
         "GP Practice": "0",
         "GP Postcode": "0",
         "Type of service": "Residential",
         "No of Beds": 13,
         "Miles from THA - LE12 8FE": 9,
         "Asset number": "A3083",
         "Amount of Asset": 1,
         "Weekly fee": "700",
         "Provider company": "Helping Hand Care Home Ltd",
         "Clinical concern?": "Yes",
         "NEWS2 score": 1,
         "New2 Score_New": 1,
         "H=I?": 1,
         "O2": 98,
         "O2_New": 0,
         "Systolic": 146,
         "Systolic_New": 0,
         "Diasolic": 101,
         "Pulse": 97,
         "Pulse_New": 1,
         "Temperature": 36.2,
         "Temperate_New": 0,
         "Respiration rate": 18,
         "Respiraties_New": 0,
         "O2 delivery": "Breathing Air",
         "O2 Delivery_New": 0,
         "Consciousness": "Alert",
         "Consciouness New": 0,
         "Scale 2 in use?": 0,
         "Care Home ID_cleaned": "10230",
         "year": 2022,
         "month": 11,
         "quarter": 4,
         "week": 47,
         "Clinical_Concern_Num": 1,
         "NEWS2_Category": 1,
         "_deepnote_index_column": 14
        },
        {
         "Date/Time": "2022-11-22 12:35:00",
         "Care Home ID": "1023.0",
         "Care Home Name": "Goodwood orchard",
         "Type": "Residential",
         "Area": "LC",
         "Phase": 1,
         "Postal address": "304, Uppingham Road, Leicester",
         "Post Code": "LE5 2BE",
         "GP": "0",
         "GP Practice": "0",
         "GP Postcode": "0",
         "Type of service": "Residential",
         "No of Beds": 13,
         "Miles from THA - LE12 8FE": 9,
         "Asset number": "A3083",
         "Amount of Asset": 1,
         "Weekly fee": "700",
         "Provider company": "Helping Hand Care Home Ltd",
         "Clinical concern?": "Yes",
         "NEWS2 score": 5,
         "New2 Score_New": 5,
         "H=I?": 1,
         "O2": 94,
         "O2_New": 1,
         "Systolic": 86,
         "Systolic_New": 3,
         "Diasolic": 61,
         "Pulse": 99,
         "Pulse_New": 1,
         "Temperature": 36.5,
         "Temperate_New": 0,
         "Respiration rate": 17,
         "Respiraties_New": 0,
         "O2 delivery": "Breathing Air",
         "O2 Delivery_New": 0,
         "Consciousness": "Alert",
         "Consciouness New": 0,
         "Scale 2 in use?": 0,
         "Care Home ID_cleaned": "10230",
         "year": 2022,
         "month": 11,
         "quarter": 4,
         "week": 47,
         "Clinical_Concern_Num": 1,
         "NEWS2_Category": 2,
         "_deepnote_index_column": 15
        },
        {
         "Date/Time": "2022-11-22 12:40:00",
         "Care Home ID": "1023.0",
         "Care Home Name": "Goodwood orchard",
         "Type": "Residential",
         "Area": "LC",
         "Phase": 1,
         "Postal address": "304, Uppingham Road, Leicester",
         "Post Code": "LE5 2BE",
         "GP": "0",
         "GP Practice": "0",
         "GP Postcode": "0",
         "Type of service": "Residential",
         "No of Beds": 13,
         "Miles from THA - LE12 8FE": 9,
         "Asset number": "A3083",
         "Amount of Asset": 1,
         "Weekly fee": "700",
         "Provider company": "Helping Hand Care Home Ltd",
         "Clinical concern?": "Yes",
         "NEWS2 score": 3,
         "New2 Score_New": 3,
         "H=I?": 1,
         "O2": 90,
         "O2_New": 3,
         "Systolic": 127,
         "Systolic_New": 0,
         "Diasolic": 82,
         "Pulse": 70,
         "Pulse_New": 0,
         "Temperature": 36.4,
         "Temperate_New": 0,
         "Respiration rate": 16,
         "Respiraties_New": 0,
         "O2 delivery": "Breathing Air",
         "O2 Delivery_New": 0,
         "Consciousness": "Alert",
         "Consciouness New": 0,
         "Scale 2 in use?": 0,
         "Care Home ID_cleaned": "10230",
         "year": 2022,
         "month": 11,
         "quarter": 4,
         "week": 47,
         "Clinical_Concern_Num": 1,
         "NEWS2_Category": 1,
         "_deepnote_index_column": 16
        },
        {
         "Date/Time": "2022-11-22 12:45:00",
         "Care Home ID": "1023.0",
         "Care Home Name": "Goodwood orchard",
         "Type": "Residential",
         "Area": "LC",
         "Phase": 1,
         "Postal address": "304, Uppingham Road, Leicester",
         "Post Code": "LE5 2BE",
         "GP": "0",
         "GP Practice": "0",
         "GP Postcode": "0",
         "Type of service": "Residential",
         "No of Beds": 13,
         "Miles from THA - LE12 8FE": 9,
         "Asset number": "A3083",
         "Amount of Asset": 1,
         "Weekly fee": "700",
         "Provider company": "Helping Hand Care Home Ltd",
         "Clinical concern?": "No",
         "NEWS2 score": 1,
         "New2 Score_New": 2,
         "H=I?": 0,
         "O2": 96,
         "O2_New": 0,
         "Systolic": 136,
         "Systolic_New": 0,
         "Diasolic": 96,
         "Pulse": 69,
         "Pulse_New": 0,
         "Temperature": 35.9,
         "Temperate_New": 2,
         "Respiration rate": 16,
         "Respiraties_New": 0,
         "O2 delivery": "Breathing Air",
         "O2 Delivery_New": 0,
         "Consciousness": "Alert",
         "Consciouness New": 0,
         "Scale 2 in use?": 0,
         "Care Home ID_cleaned": "10230",
         "year": 2022,
         "month": 11,
         "quarter": 4,
         "week": 47,
         "Clinical_Concern_Num": 0,
         "NEWS2_Category": 1,
         "_deepnote_index_column": 17
        },
        {
         "Date/Time": "2022-11-22 12:52:00",
         "Care Home ID": "1023.0",
         "Care Home Name": "Goodwood orchard",
         "Type": "Residential",
         "Area": "LC",
         "Phase": 1,
         "Postal address": "304, Uppingham Road, Leicester",
         "Post Code": "LE5 2BE",
         "GP": "0",
         "GP Practice": "0",
         "GP Postcode": "0",
         "Type of service": "Residential",
         "No of Beds": 13,
         "Miles from THA - LE12 8FE": 9,
         "Asset number": "A3083",
         "Amount of Asset": 1,
         "Weekly fee": "700",
         "Provider company": "Helping Hand Care Home Ltd",
         "Clinical concern?": "No",
         "NEWS2 score": 0,
         "New2 Score_New": 0,
         "H=I?": 1,
         "O2": 98,
         "O2_New": 0,
         "Systolic": 113,
         "Systolic_New": 0,
         "Diasolic": 73,
         "Pulse": 68,
         "Pulse_New": 0,
         "Temperature": 36.2,
         "Temperate_New": 0,
         "Respiration rate": 17,
         "Respiraties_New": 0,
         "O2 delivery": "Breathing Air",
         "O2 Delivery_New": 0,
         "Consciousness": "Alert",
         "Consciouness New": 0,
         "Scale 2 in use?": 0,
         "Care Home ID_cleaned": "10230",
         "year": 2022,
         "month": 11,
         "quarter": 4,
         "week": 47,
         "Clinical_Concern_Num": 0,
         "NEWS2_Category": 0,
         "_deepnote_index_column": 18
        }
       ],
       "type": "dataframe"
      },
      "text/plain": "               Date/Time Care Home ID    Care Home Name         Type Area  \\\n9    2022-11-22 11:52:00       1023.0  Goodwood orchard  Residential   LC   \n10   2022-11-22 12:02:00       1023.0  Goodwood orchard  Residential   LC   \n11   2022-11-22 12:07:00       1023.0  Goodwood orchard  Residential   LC   \n12   2022-11-22 12:13:00       1023.0  Goodwood orchard  Residential   LC   \n13   2022-11-22 12:18:00       1023.0  Goodwood orchard  Residential   LC   \n...                  ...          ...               ...          ...  ...   \n1964 2025-03-26 09:40:00       1023.0  Goodwood orchard  Residential   LC   \n1965 2025-03-26 09:43:00       1023.0  Goodwood orchard  Residential   LC   \n1966 2025-03-26 09:47:00       1023.0  Goodwood orchard  Residential   LC   \n1967 2025-03-26 09:51:00       1023.0  Goodwood orchard  Residential   LC   \n1968 2025-03-26 09:56:00       1023.0  Goodwood orchard  Residential   LC   \n\n      Phase                  Postal address Post Code GP GP Practice  ...  \\\n9         1  304, Uppingham Road, Leicester   LE5 2BE  0           0  ...   \n10        1  304, Uppingham Road, Leicester   LE5 2BE  0           0  ...   \n11        1  304, Uppingham Road, Leicester   LE5 2BE  0           0  ...   \n12        1  304, Uppingham Road, Leicester   LE5 2BE  0           0  ...   \n13        1  304, Uppingham Road, Leicester   LE5 2BE  0           0  ...   \n...     ...                             ...       ... ..         ...  ...   \n1964      1  304, Uppingham Road, Leicester   LE5 2BE  0           0  ...   \n1965      1  304, Uppingham Road, Leicester   LE5 2BE  0           0  ...   \n1966      1  304, Uppingham Road, Leicester   LE5 2BE  0           0  ...   \n1967      1  304, Uppingham Road, Leicester   LE5 2BE  0           0  ...   \n1968      1  304, Uppingham Road, Leicester   LE5 2BE  0           0  ...   \n\n     Consciousness Consciouness New  Scale 2 in use?  Care Home ID_cleaned  \\\n9            Alert                0                0                 10230   \n10           Alert                0                0                 10230   \n11           Alert                0                0                 10230   \n12           Alert                0                0                 10230   \n13           Alert                0                0                 10230   \n...            ...              ...              ...                   ...   \n1964         Alert                0                0                 10230   \n1965         Alert                0                0                 10230   \n1966         Alert                0                0                 10230   \n1967         Alert                0                0                 10230   \n1968         Alert                0                0                 10230   \n\n      year  month quarter week Clinical_Concern_Num  NEWS2_Category  \n9     2022     11       4   47                    1               0  \n10    2022     11       4   47                    1               1  \n11    2022     11       4   47                    1               0  \n12    2022     11       4   47                    1               0  \n13    2022     11       4   47                    1               1  \n...    ...    ...     ...  ...                  ...             ...  \n1964  2025      3       1   13                    0               1  \n1965  2025      3       1   13                    0               1  \n1966  2025      3       1   13                    0               1  \n1967  2025      3       1   13                    0               0  \n1968  2025      3       1   13                    0               1  \n\n[295 rows x 45 columns]",
      "text/html": "<div>\n<style scoped>\n    .dataframe tbody tr th:only-of-type {\n        vertical-align: middle;\n    }\n\n    .dataframe tbody tr th {\n        vertical-align: top;\n    }\n\n    .dataframe thead th {\n        text-align: right;\n    }\n</style>\n<table border=\"1\" class=\"dataframe\">\n  <thead>\n    <tr style=\"text-align: right;\">\n      <th></th>\n      <th>Date/Time</th>\n      <th>Care Home ID</th>\n      <th>Care Home Name</th>\n      <th>Type</th>\n      <th>Area</th>\n      <th>Phase</th>\n      <th>Postal address</th>\n      <th>Post Code</th>\n      <th>GP</th>\n      <th>GP Practice</th>\n      <th>...</th>\n      <th>Consciousness</th>\n      <th>Consciouness New</th>\n      <th>Scale 2 in use?</th>\n      <th>Care Home ID_cleaned</th>\n      <th>year</th>\n      <th>month</th>\n      <th>quarter</th>\n      <th>week</th>\n      <th>Clinical_Concern_Num</th>\n      <th>NEWS2_Category</th>\n    </tr>\n  </thead>\n  <tbody>\n    <tr>\n      <th>9</th>\n      <td>2022-11-22 11:52:00</td>\n      <td>1023.0</td>\n      <td>Goodwood orchard</td>\n      <td>Residential</td>\n      <td>LC</td>\n      <td>1</td>\n      <td>304, Uppingham Road, Leicester</td>\n      <td>LE5 2BE</td>\n      <td>0</td>\n      <td>0</td>\n      <td>...</td>\n      <td>Alert</td>\n      <td>0</td>\n      <td>0</td>\n      <td>10230</td>\n      <td>2022</td>\n      <td>11</td>\n      <td>4</td>\n      <td>47</td>\n      <td>1</td>\n      <td>0</td>\n    </tr>\n    <tr>\n      <th>10</th>\n      <td>2022-11-22 12:02:00</td>\n      <td>1023.0</td>\n      <td>Goodwood orchard</td>\n      <td>Residential</td>\n      <td>LC</td>\n      <td>1</td>\n      <td>304, Uppingham Road, Leicester</td>\n      <td>LE5 2BE</td>\n      <td>0</td>\n      <td>0</td>\n      <td>...</td>\n      <td>Alert</td>\n      <td>0</td>\n      <td>0</td>\n      <td>10230</td>\n      <td>2022</td>\n      <td>11</td>\n      <td>4</td>\n      <td>47</td>\n      <td>1</td>\n      <td>1</td>\n    </tr>\n    <tr>\n      <th>11</th>\n      <td>2022-11-22 12:07:00</td>\n      <td>1023.0</td>\n      <td>Goodwood orchard</td>\n      <td>Residential</td>\n      <td>LC</td>\n      <td>1</td>\n      <td>304, Uppingham Road, Leicester</td>\n      <td>LE5 2BE</td>\n      <td>0</td>\n      <td>0</td>\n      <td>...</td>\n      <td>Alert</td>\n      <td>0</td>\n      <td>0</td>\n      <td>10230</td>\n      <td>2022</td>\n      <td>11</td>\n      <td>4</td>\n      <td>47</td>\n      <td>1</td>\n      <td>0</td>\n    </tr>\n    <tr>\n      <th>12</th>\n      <td>2022-11-22 12:13:00</td>\n      <td>1023.0</td>\n      <td>Goodwood orchard</td>\n      <td>Residential</td>\n      <td>LC</td>\n      <td>1</td>\n      <td>304, Uppingham Road, Leicester</td>\n      <td>LE5 2BE</td>\n      <td>0</td>\n      <td>0</td>\n      <td>...</td>\n      <td>Alert</td>\n      <td>0</td>\n      <td>0</td>\n      <td>10230</td>\n      <td>2022</td>\n      <td>11</td>\n      <td>4</td>\n      <td>47</td>\n      <td>1</td>\n      <td>0</td>\n    </tr>\n    <tr>\n      <th>13</th>\n      <td>2022-11-22 12:18:00</td>\n      <td>1023.0</td>\n      <td>Goodwood orchard</td>\n      <td>Residential</td>\n      <td>LC</td>\n      <td>1</td>\n      <td>304, Uppingham Road, Leicester</td>\n      <td>LE5 2BE</td>\n      <td>0</td>\n      <td>0</td>\n      <td>...</td>\n      <td>Alert</td>\n      <td>0</td>\n      <td>0</td>\n      <td>10230</td>\n      <td>2022</td>\n      <td>11</td>\n      <td>4</td>\n      <td>47</td>\n      <td>1</td>\n      <td>1</td>\n    </tr>\n    <tr>\n      <th>...</th>\n      <td>...</td>\n      <td>...</td>\n      <td>...</td>\n      <td>...</td>\n      <td>...</td>\n      <td>...</td>\n      <td>...</td>\n      <td>...</td>\n      <td>...</td>\n      <td>...</td>\n      <td>...</td>\n      <td>...</td>\n      <td>...</td>\n      <td>...</td>\n      <td>...</td>\n      <td>...</td>\n      <td>...</td>\n      <td>...</td>\n      <td>...</td>\n      <td>...</td>\n      <td>...</td>\n    </tr>\n    <tr>\n      <th>1964</th>\n      <td>2025-03-26 09:40:00</td>\n      <td>1023.0</td>\n      <td>Goodwood orchard</td>\n      <td>Residential</td>\n      <td>LC</td>\n      <td>1</td>\n      <td>304, Uppingham Road, Leicester</td>\n      <td>LE5 2BE</td>\n      <td>0</td>\n      <td>0</td>\n      <td>...</td>\n      <td>Alert</td>\n      <td>0</td>\n      <td>0</td>\n      <td>10230</td>\n      <td>2025</td>\n      <td>3</td>\n      <td>1</td>\n      <td>13</td>\n      <td>0</td>\n      <td>1</td>\n    </tr>\n    <tr>\n      <th>1965</th>\n      <td>2025-03-26 09:43:00</td>\n      <td>1023.0</td>\n      <td>Goodwood orchard</td>\n      <td>Residential</td>\n      <td>LC</td>\n      <td>1</td>\n      <td>304, Uppingham Road, Leicester</td>\n      <td>LE5 2BE</td>\n      <td>0</td>\n      <td>0</td>\n      <td>...</td>\n      <td>Alert</td>\n      <td>0</td>\n      <td>0</td>\n      <td>10230</td>\n      <td>2025</td>\n      <td>3</td>\n      <td>1</td>\n      <td>13</td>\n      <td>0</td>\n      <td>1</td>\n    </tr>\n    <tr>\n      <th>1966</th>\n      <td>2025-03-26 09:47:00</td>\n      <td>1023.0</td>\n      <td>Goodwood orchard</td>\n      <td>Residential</td>\n      <td>LC</td>\n      <td>1</td>\n      <td>304, Uppingham Road, Leicester</td>\n      <td>LE5 2BE</td>\n      <td>0</td>\n      <td>0</td>\n      <td>...</td>\n      <td>Alert</td>\n      <td>0</td>\n      <td>0</td>\n      <td>10230</td>\n      <td>2025</td>\n      <td>3</td>\n      <td>1</td>\n      <td>13</td>\n      <td>0</td>\n      <td>1</td>\n    </tr>\n    <tr>\n      <th>1967</th>\n      <td>2025-03-26 09:51:00</td>\n      <td>1023.0</td>\n      <td>Goodwood orchard</td>\n      <td>Residential</td>\n      <td>LC</td>\n      <td>1</td>\n      <td>304, Uppingham Road, Leicester</td>\n      <td>LE5 2BE</td>\n      <td>0</td>\n      <td>0</td>\n      <td>...</td>\n      <td>Alert</td>\n      <td>0</td>\n      <td>0</td>\n      <td>10230</td>\n      <td>2025</td>\n      <td>3</td>\n      <td>1</td>\n      <td>13</td>\n      <td>0</td>\n      <td>0</td>\n    </tr>\n    <tr>\n      <th>1968</th>\n      <td>2025-03-26 09:56:00</td>\n      <td>1023.0</td>\n      <td>Goodwood orchard</td>\n      <td>Residential</td>\n      <td>LC</td>\n      <td>1</td>\n      <td>304, Uppingham Road, Leicester</td>\n      <td>LE5 2BE</td>\n      <td>0</td>\n      <td>0</td>\n      <td>...</td>\n      <td>Alert</td>\n      <td>0</td>\n      <td>0</td>\n      <td>10230</td>\n      <td>2025</td>\n      <td>3</td>\n      <td>1</td>\n      <td>13</td>\n      <td>0</td>\n      <td>1</td>\n    </tr>\n  </tbody>\n</table>\n<p>295 rows × 45 columns</p>\n</div>"
     },
     "metadata": {}
    }
   ],
   "outputs_reference": "s3:deepnote-cell-outputs-production/395c0aba-05bd-444f-aa58-b419e916af41",
   "content_dependencies": null
  },
  {
   "cell_type": "code",
   "metadata": {
    "source_hash": "c6edd9b3",
    "execution_start": 1748499651279,
    "execution_millis": 0,
    "execution_context_id": "a15ab8b0-77a9-4bd5-b016-edb7db1b92cf",
    "cell_id": "080f76253d9e4d71921c736040696e42",
    "deepnote_cell_type": "code"
   },
   "source": [
    "def parameter_contribution_proportion(df, care_home_id, parameter_new_col, news2_threshold=5, interval='M', start_date=None, end_date=None):\n",
    "\n",
    "    # Use the combined_filter function\n",
    "    df_filtered = combined_filter(df, care_home_id, interval=None, start_date=start_date, end_date=end_date)\n",
    "\n",
    "    # Determine the overall time range to consider for months\n",
    "    min_date = None\n",
    "    max_date = None\n",
    "\n",
    "    if start_date:\n",
    "        min_date = pd.to_datetime(start_date)\n",
    "    elif not df.empty:\n",
    "        min_date = df['Date/Time'].min()\n",
    "\n",
    "    if end_date:\n",
    "        max_date = pd.to_datetime(end_date)\n",
    "    elif not df.empty:\n",
    "        max_date = df['Date/Time'].max()\n",
    "\n",
    "    if min_date is None or max_date is None:\n",
    "         print(\"Could not determine a valid date range for months.\")\n",
    "         return pd.Series(dtype='float64')\n",
    "\n",
    "    all_months = pd.period_range(start=min_date.to_period('M'), end=max_date.to_period('M'), freq='M')\n",
    "\n",
    "\n",
    "    # Check if the parameter contribution column exists\n",
    "    if parameter_new_col not in df_filtered.columns:\n",
    "        print(f\"Error: Contribution column '{parameter_new_col}' not found in DataFrame.\")\n",
    "        # Return a Series with 0% for all relevant months\n",
    "        return pd.Series(0.0, index=all_months)\n",
    "\n",
    "\n",
    "    # Filter for observations where total NEWS2 score is >= threshold\n",
    "    df_high_news2 = df_filtered[df_filtered['NEWS2 score'] >= news2_threshold].copy()\n",
    "\n",
    "    # If no high NEWS2 observations, the proportion is 0 for all months\n",
    "    if df_high_news2.empty:\n",
    "        print(f\"No observations with NEWS2 score >= {news2_threshold} for Care Home ID: {care_home_id}.\")\n",
    "        # Return a Series with 0% for all relevant months\n",
    "        return pd.Series(0.0, index=all_months)\n",
    "\n",
    "\n",
    "    # Count observations where the parameter's contribution is non-zero, grouped by month\n",
    "    # We need to group by month of the original high_news2 data to get total counts per month\n",
    "    if interval == 'M':\n",
    "        # Count occurrences where the contribution column is not 0 (assuming 0 means no contribution)\n",
    "        contributing_counts = df_high_news2[df_high_news2[parameter_new_col] != 0].groupby(df_high_news2['Date/Time'].dt.to_period('M')).size()\n",
    "        # Count total high NEWS2 observations per month\n",
    "        total_high_news2_counts = df_high_news2.groupby(df_high_news2['Date/Time'].dt.to_period('M')).size()\n",
    "    # Add other intervals if needed\n",
    "    else:\n",
    "         print(f\"Interval '{interval}' not fully supported for parameter contribution proportion, using 'M'.\")\n",
    "         contributing_counts = df_high_news2[df_high_news2[parameter_new_col] != 0].groupby(df_high_news2['Date/Time'].dt.to_period('M')).size()\n",
    "         total_high_news2_counts = df_high_news2.groupby(df_high_news2['Date/Time'].dt.to_period('M')).size()\n",
    "\n",
    "\n",
    "    # Calculate the proportion (%)\n",
    "    # Use reindex to align counts and handle months with 0 contributing observations\n",
    "    # Use total_high_news2_counts.reindex(all_months, fill_value=0) as the base for proportions\n",
    "    total_high_news2_counts_all_months = total_high_news2_counts.reindex(all_months, fill_value=0)\n",
    "    contributing_counts_all_months = contributing_counts.reindex(all_months, fill_value=0)\n",
    "\n",
    "\n",
    "    # Avoid division by zero by checking if total_high_news2_counts_all_months is not 0\n",
    "    proportion = pd.Series(0.0, index=all_months, dtype='float64')\n",
    "    non_zero_months = total_high_news2_counts_all_months > 0\n",
    "    proportion[non_zero_months] = (contributing_counts_all_months[non_zero_months] / total_high_news2_counts_all_months[non_zero_months]) * 100\n",
    "\n",
    "\n",
    "    return proportion.fillna(0) # Final fillna for safety"
   ],
   "block_group": "fa569b5ed5664ad19b95d574039d0537",
   "execution_count": 201,
   "outputs": [],
   "outputs_reference": null,
   "content_dependencies": null
  },
  {
   "cell_type": "code",
   "metadata": {
    "source_hash": "60c9a039",
    "execution_start": 1748499983919,
    "execution_millis": 2805,
    "execution_context_id": "a15ab8b0-77a9-4bd5-b016-edb7db1b92cf",
    "cell_id": "577049bc2a274c90baf6e2db2624fffc",
    "deepnote_cell_type": "code"
   },
   "source": [
    "def plot_physiological_contribution_timeseries(analysis_results_dict, title, yaxis_title, output_dir, filename):\n",
    "    \"\"\"\n",
    "    Plots time series of physiological parameter contribution proportions for multiple care homes using Plotly.\n",
    "\n",
    "    Args:\n",
    "        analysis_results_dict (dict): A dictionary where keys are Care Home IDs\n",
    "                                      and values are pandas Series (time series of proportions).\n",
    "        title (str): The title of the plot.\n",
    "        yaxis_title (str): The title for the Y-axis.\n",
    "        output_dir (str): The directory to save the HTML file.\n",
    "        filename (str): The name of the HTML file (without extension).\n",
    "    \"\"\"\n",
    "    if not analysis_results_dict:\n",
    "        print(f\"No data provided for plotting: {title}. Skipping plot.\")\n",
    "        return\n",
    "\n",
    "    fig = go.Figure()\n",
    "\n",
    "    for care_home_id, data_series in analysis_results_dict.items():\n",
    "        if not data_series.empty:\n",
    "            fig.add_trace(go.Scatter(x=data_series.index.to_timestamp(), y=data_series.values,\n",
    "                                     mode='lines+markers', name=f'Care Home {care_home_id}'))\n",
    "\n",
    "    fig.update_layout(title=title,\n",
    "                      xaxis_title='TIME',\n",
    "                      yaxis_title=yaxis_title,\n",
    "                      hovermode='x unified')\n",
    "\n",
    "    # Ensure output directory exists\n",
    "    os.makedirs(output_dir, exist_ok=True)\n",
    "\n",
    "    # Save the plot as an HTML file\n",
    "    pio.write_html(fig, f'{output_dir}/{filename}.html')\n",
    "    print(f\"Saved plot: {output_dir}/{filename}.html\")\n",
    "\n",
    "\n",
    "care_home_to_analyze = '10230' # Replace with the correct cleaned ID if needed\n",
    "\n",
    "# Determine output directory\n",
    "output_dir = f'care_home_{care_home_to_analyze}_physiological_contribution_plots'\n",
    "os.makedirs(output_dir, exist_ok=True)\n",
    "print(f\"\\nSaving physiological contribution plots to directory: {output_dir}\")\n",
    "\n",
    "# List of contribution columns to analyze\n",
    "contribution_cols = [\n",
    "    'O2_New', 'Systolic_New', 'Pulse_New', 'Temperate_New',\n",
    "    'Respiraties_New', 'O2 Delivery_New', 'Consciouness New'\n",
    "]\n",
    "\n",
    "print(\"\\n--- Analyzing Physiological Parameter Contributions to High NEWS2 ---\")\n",
    "\n",
    "for col in contribution_cols:\n",
    "    # Determine a user-friendly name for the parameter\n",
    "    parameter_name = col.replace('_New', '').replace(' New', '').replace('_', ' ')\n",
    "\n",
    "    print(f\"\\nAnalyzing {parameter_name} contribution...\")\n",
    "    # Calculate the proportion\n",
    "    contribution_prop = parameter_contribution_proportion(df, care_home_to_analyze, col, news2_threshold=5, interval='M')\n",
    "\n",
    "    if not contribution_prop.empty:\n",
    "        # Plot the results\n",
    "        plot_physiological_contribution_timeseries(\n",
    "            {care_home_to_analyze: contribution_prop}, # Pass as a dictionary\n",
    "            f'Care Home {care_home_to_analyze}: {parameter_name} Contributing to High NEWS2 (>=5)',\n",
    "            'Proportion of High NEWS2 Obs (%)',\n",
    "            output_dir,\n",
    "            f'{parameter_name.lower().replace(\" \", \"_\")}_high_news2_proportion' # Generate filename\n",
    "        )\n",
    "    else:\n",
    "        print(f\"No data or results for {parameter_name} contribution for {care_home_to_analyze}. Skipping plot.\")"
   ],
   "block_group": "adceaafa2914421a9b4fb99a32401601",
   "execution_count": 213,
   "outputs": [
    {
     "name": "stdout",
     "text": "\nSaving physiological contribution plots to directory: care_home_10230_physiological_contribution_plots\n\n--- Analyzing Physiological Parameter Contributions to High NEWS2 ---\n\nAnalyzing O2 contribution...\nSaved plot: care_home_10230_physiological_contribution_plots/o2_high_news2_proportion.html\n\nAnalyzing Systolic contribution...\nSaved plot: care_home_10230_physiological_contribution_plots/systolic_high_news2_proportion.html\n\nAnalyzing Pulse contribution...\nSaved plot: care_home_10230_physiological_contribution_plots/pulse_high_news2_proportion.html\n\nAnalyzing Temperate contribution...\nSaved plot: care_home_10230_physiological_contribution_plots/temperate_high_news2_proportion.html\n\nAnalyzing Respiraties contribution...\nSaved plot: care_home_10230_physiological_contribution_plots/respiraties_high_news2_proportion.html\n\nAnalyzing O2 Delivery contribution...\nSaved plot: care_home_10230_physiological_contribution_plots/o2_delivery_high_news2_proportion.html\n\nAnalyzing Consciouness contribution...\nSaved plot: care_home_10230_physiological_contribution_plots/consciouness_high_news2_proportion.html\n",
     "output_type": "stream"
    }
   ],
   "outputs_reference": "s3:deepnote-cell-outputs-production/6e5b3fd6-deb8-4616-a7fc-85aae916c11d",
   "content_dependencies": null
  },
  {
   "cell_type": "markdown",
   "metadata": {
    "formattedRanges": [],
    "cell_id": "a59fd6a678d3477c870d56fe5adc6095",
    "deepnote_cell_type": "text-cell-h1"
   },
   "source": [
    "# Physiological parameters, high=7"
   ],
   "block_group": "c95aafa33414412b84cb75a12881abf5"
  },
  {
   "cell_type": "code",
   "metadata": {
    "source_hash": "5bc6690",
    "execution_start": 1748500275859,
    "execution_millis": 0,
    "execution_context_id": "a15ab8b0-77a9-4bd5-b016-edb7db1b92cf",
    "cell_id": "6a7b76624aba48e1bf0ffb5031fde4bc",
    "deepnote_cell_type": "code"
   },
   "source": [
    "def parameter_contribution_proportion_7(df, care_home_id, parameter_new_col, news2_threshold=7, interval='M', start_date=None, end_date=None):\n",
    "\n",
    "    # Use the combined_filter function\n",
    "    df_filtered = combined_filter(df, care_home_id, interval=None, start_date=start_date, end_date=end_date)\n",
    "\n",
    "    # Determine the overall time range to consider for months\n",
    "    min_date = None\n",
    "    max_date = None\n",
    "\n",
    "    if start_date:\n",
    "        min_date = pd.to_datetime(start_date)\n",
    "    elif not df.empty:\n",
    "        min_date = df['Date/Time'].min()\n",
    "\n",
    "    if end_date:\n",
    "        max_date = pd.to_datetime(end_date)\n",
    "    elif not df.empty:\n",
    "        max_date = df['Date/Time'].max()\n",
    "\n",
    "    if min_date is None or max_date is None:\n",
    "         print(\"Could not determine a valid date range for months.\")\n",
    "         return pd.Series(dtype='float64')\n",
    "\n",
    "    all_months = pd.period_range(start=min_date.to_period('M'), end=max_date.to_period('M'), freq='M')\n",
    "\n",
    "\n",
    "    # Check if the parameter contribution column exists\n",
    "    if parameter_new_col not in df_filtered.columns:\n",
    "        print(f\"Error: Contribution column '{parameter_new_col}' not found in DataFrame.\")\n",
    "        # Return a Series with 0% for all relevant months\n",
    "        return pd.Series(0.0, index=all_months)\n",
    "\n",
    "\n",
    "    # Filter for observations where total NEWS2 score is >= threshold\n",
    "    df_high_news2 = df_filtered[df_filtered['NEWS2 score'] >= news2_threshold].copy()\n",
    "\n",
    "    # If no high NEWS2 observations, the proportion is 0 for all months\n",
    "    if df_high_news2.empty:\n",
    "        print(f\"No observations with NEWS2 score >= {news2_threshold} for Care Home ID: {care_home_id}.\")\n",
    "        # Return a Series with 0% for all relevant months\n",
    "        return pd.Series(0.0, index=all_months)\n",
    "\n",
    "\n",
    "    # Count observations where the parameter's contribution is non-zero, grouped by month\n",
    "    # We need to group by month of the original high_news2 data to get total counts per month\n",
    "    if interval == 'M':\n",
    "        # Count occurrences where the contribution column is not 0 (assuming 0 means no contribution)\n",
    "        contributing_counts = df_high_news2[df_high_news2[parameter_new_col] != 0].groupby(df_high_news2['Date/Time'].dt.to_period('M')).size()\n",
    "        # Count total high NEWS2 observations per month\n",
    "        total_high_news2_counts = df_high_news2.groupby(df_high_news2['Date/Time'].dt.to_period('M')).size()\n",
    "    # Add other intervals if needed\n",
    "    else:\n",
    "         print(f\"Interval '{interval}' not fully supported for parameter contribution proportion, using 'M'.\")\n",
    "         contributing_counts = df_high_news2[df_high_news2[parameter_new_col] != 0].groupby(df_high_news2['Date/Time'].dt.to_period('M')).size()\n",
    "         total_high_news2_counts = df_high_news2.groupby(df_high_news2['Date/Time'].dt.to_period('M')).size()\n",
    "\n",
    "\n",
    "    # Calculate the proportion (%)\n",
    "    # Use reindex to align counts and handle months with 0 contributing observations\n",
    "    # Use total_high_news2_counts.reindex(all_months, fill_value=0) as the base for proportions\n",
    "    total_high_news2_counts_all_months = total_high_news2_counts.reindex(all_months, fill_value=0)\n",
    "    contributing_counts_all_months = contributing_counts.reindex(all_months, fill_value=0)\n",
    "\n",
    "\n",
    "    # Avoid division by zero by checking if total_high_news2_counts_all_months is not 0\n",
    "    proportion = pd.Series(0.0, index=all_months, dtype='float64')\n",
    "    non_zero_months = total_high_news2_counts_all_months > 0\n",
    "    proportion[non_zero_months] = (contributing_counts_all_months[non_zero_months] / total_high_news2_counts_all_months[non_zero_months]) * 100\n",
    "\n",
    "\n",
    "    return proportion.fillna(0) # Final fillna for safety"
   ],
   "block_group": "13a223bcaa454d509c01952087d6eef1",
   "execution_count": 216,
   "outputs": [],
   "outputs_reference": null,
   "content_dependencies": null
  },
  {
   "cell_type": "code",
   "metadata": {
    "source_hash": "b1fc84e",
    "execution_start": 1748500507839,
    "execution_millis": 2755,
    "execution_context_id": "a15ab8b0-77a9-4bd5-b016-edb7db1b92cf",
    "cell_id": "02378f9ffcc74abdaa649bdbb06cab8e",
    "deepnote_cell_type": "code"
   },
   "source": [
    "def plot_physiological_contribution_timeseries(analysis_results_dict, title, yaxis_title, output_dir, filename):\n",
    "    \"\"\"\n",
    "    Plots time series of physiological parameter contribution proportions for multiple care homes using Plotly.\n",
    "\n",
    "    Args:\n",
    "        analysis_results_dict (dict): A dictionary where keys are Care Home IDs\n",
    "                                      and values are pandas Series (time series of proportions).\n",
    "        title (str): The title of the plot.\n",
    "        yaxis_title (str): The title for the Y-axis.\n",
    "        output_dir (str): The directory to save the HTML file.\n",
    "        filename (str): The name of the HTML file (without extension).\n",
    "    \"\"\"\n",
    "    if not analysis_results_dict:\n",
    "        print(f\"No data provided for plotting: {title}. Skipping plot.\")\n",
    "        return\n",
    "\n",
    "    fig = go.Figure()\n",
    "\n",
    "    for care_home_id, data_series in analysis_results_dict.items():\n",
    "        if not data_series.empty:\n",
    "            fig.add_trace(go.Scatter(x=data_series.index.to_timestamp(), y=data_series.values,\n",
    "                                     mode='lines+markers', name=f'Care Home {care_home_id}'))\n",
    "\n",
    "    fig.update_layout(title=title,\n",
    "                      xaxis_title='TIME',\n",
    "                      yaxis_title=yaxis_title,\n",
    "                      hovermode='x unified')\n",
    "\n",
    "    # Ensure output directory exists\n",
    "    os.makedirs(output_dir, exist_ok=True)\n",
    "\n",
    "    # Save the plot as an HTML file\n",
    "    pio.write_html(fig, f'{output_dir}/{filename}.html')\n",
    "    print(f\"Saved plot: {output_dir}/{filename}.html\")\n",
    "\n",
    "\n",
    "care_home_to_analyze = '10230' # Replace with the correct cleaned ID if needed\n",
    "\n",
    "# Determine output directory\n",
    "output_dir = f'care_home_{care_home_to_analyze}_physiological_contribution_plots'\n",
    "os.makedirs(output_dir, exist_ok=True)\n",
    "print(f\"\\nSaving physiological contribution plots to directory: {output_dir}\")\n",
    "\n",
    "# List of contribution columns to analyze\n",
    "contribution_cols = [\n",
    "    'O2_New', 'Systolic_New', 'Pulse_New', 'Temperate_New',\n",
    "    'Respiraties_New', 'O2 Delivery_New', 'Consciouness New'\n",
    "]\n",
    "\n",
    "print(\"\\n--- Analyzing Physiological Parameter Contributions to High NEWS2 ---\")\n",
    "\n",
    "for col in contribution_cols:\n",
    "    # Determine a user-friendly name for the parameter\n",
    "    parameter_name = col.replace('_New', '').replace(' New', '').replace('_', ' ')\n",
    "\n",
    "    print(f\"\\nAnalyzing {parameter_name} contribution...\")\n",
    "    # Calculate the proportion\n",
    "    contribution_prop = parameter_contribution_proportion_7(df, care_home_to_analyze, col, news2_threshold=7, interval='M')\n",
    "\n",
    "    if not contribution_prop.empty:\n",
    "        # Plot the results\n",
    "        plot_physiological_contribution_timeseries(\n",
    "            {care_home_to_analyze: contribution_prop}, # Pass as a dictionary\n",
    "            f'Care Home {care_home_to_analyze}: {parameter_name} Contributing to High NEWS2 (>=7)',\n",
    "            'Proportion of High NEWS2 Obs (%)',\n",
    "            output_dir,\n",
    "            f'{parameter_name.lower().replace(\" \", \"_\")}_high_news2_proportion' # Generate filename\n",
    "        )\n",
    "    else:\n",
    "        print(f\"No data or results for {parameter_name} contribution for {care_home_to_analyze}. Skipping plot.\")"
   ],
   "block_group": "cdcd61b3fd13420f925a622c7e868d21",
   "execution_count": 219,
   "outputs": [
    {
     "name": "stdout",
     "text": "\nSaving physiological contribution plots to directory: care_home_10230_physiological_contribution_plots\n\n--- Analyzing Physiological Parameter Contributions to High NEWS2 ---\n\nAnalyzing O2 contribution...\nSaved plot: care_home_10230_physiological_contribution_plots/o2_high_news2_proportion.html\n\nAnalyzing Systolic contribution...\nSaved plot: care_home_10230_physiological_contribution_plots/systolic_high_news2_proportion.html\n\nAnalyzing Pulse contribution...\nSaved plot: care_home_10230_physiological_contribution_plots/pulse_high_news2_proportion.html\n\nAnalyzing Temperate contribution...\nSaved plot: care_home_10230_physiological_contribution_plots/temperate_high_news2_proportion.html\n\nAnalyzing Respiraties contribution...\nSaved plot: care_home_10230_physiological_contribution_plots/respiraties_high_news2_proportion.html\n\nAnalyzing O2 Delivery contribution...\nSaved plot: care_home_10230_physiological_contribution_plots/o2_delivery_high_news2_proportion.html\n\nAnalyzing Consciouness contribution...\nSaved plot: care_home_10230_physiological_contribution_plots/consciouness_high_news2_proportion.html\n",
     "output_type": "stream"
    }
   ],
   "outputs_reference": "s3:deepnote-cell-outputs-production/c8942e14-994a-4196-9f67-a3f9786a9a59",
   "content_dependencies": null
  },
  {
   "cell_type": "markdown",
   "source": [
    "<a style='text-decoration:none;line-height:16px;display:flex;color:#5B5B62;padding:10px;justify-content:end;' href='https://deepnote.com?utm_source=created-in-deepnote-cell&projectId=ce340b38-6a9d-4e03-9468-11b42664220b' target=\"_blank\">\n",
    "<img alt='Created in deepnote.com' style='display:inline;max-height:16px;margin:0px;margin-right:7.5px;' src='data:image/svg+xml;base64,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' > </img>\n",
    "Created in <span style='font-weight:600;margin-left:4px;'>Deepnote</span></a>"
   ],
   "metadata": {
    "created_in_deepnote_cell": true,
    "deepnote_cell_type": "markdown"
   }
  }
 ],
 "nbformat": 4,
 "nbformat_minor": 0,
 "metadata": {
  "deepnote_persisted_session": {
   "createdAt": "2025-05-29T06:53:21.979Z"
  },
  "deepnote_notebook_id": "caba1b4cf5a34d79824d742ddbbda95a"
 }
}
